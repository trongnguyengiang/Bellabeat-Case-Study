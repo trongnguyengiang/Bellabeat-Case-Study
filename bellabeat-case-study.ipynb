{
 "cells": [
  {
   "cell_type": "markdown",
   "id": "1bb36e05",
   "metadata": {
    "execution": {
     "iopub.execute_input": "2023-09-04T03:39:04.942773Z",
     "iopub.status.busy": "2023-09-04T03:39:04.942394Z",
     "iopub.status.idle": "2023-09-04T03:39:04.990914Z",
     "shell.execute_reply": "2023-09-04T03:39:04.989418Z",
     "shell.execute_reply.started": "2023-09-04T03:39:04.942742Z"
    },
    "papermill": {
     "duration": 0.028921,
     "end_time": "2023-09-07T05:16:17.713841",
     "exception": false,
     "start_time": "2023-09-07T05:16:17.684920",
     "status": "completed"
    },
    "tags": []
   },
   "source": [
    "# GENERAL"
   ]
  },
  {
   "cell_type": "markdown",
   "id": "f11cf117",
   "metadata": {
    "papermill": {
     "duration": 0.027507,
     "end_time": "2023-09-07T05:16:17.769733",
     "exception": false,
     "start_time": "2023-09-07T05:16:17.742226",
     "status": "completed"
    },
    "tags": []
   },
   "source": [
    "## Scenario\n",
    "You are a junior data analyst working on the marketing analyst team at Bellabeat, a high-tech manufacturer of health-focused products for women. Bellabeat is a successful small company, but they have the potential to become a larger player in the global smart device market.\n",
    "\n",
    "Urška Sršen, cofounder and Chief Creative Officer of Bellabeat, believes that analyzing smart device fitness data could help unlock new growth opportunities for the company. You have been asked to focus on one of Bellabeat’s products and analyze smart device data to gain insight into how consumers are using their smart devices. The insights you discover will then help guide marketing strategy for the company. You will present your analysis to the Bellabeat executive team along with your high-level recommendations for Bellabeat’s marketing strategy.\n",
    "\n",
    "## Characters and products \n",
    "### Characters\n",
    "- Urška Sršen: Bellabeat’s cofounder and Chief Creative Officer\n",
    "- Sando Mur: Mathematician and Bellabeat’s cofounder; key member of the Bellabeat executive team\n",
    "- Bellabeat marketing analytics team: A team of data analysts responsible for collecting, analyzing, and reporting data that helps guide Bellabeat’s marketing strategy. You joined this team six months ago and have been busy learning about Bellabeat’’s mission and business goals — as well as how you, as a junior data analyst, can help Bellabeat achieve them.\n",
    "\n",
    "### Products\n",
    "- Bellabeat app: The Bellabeat app provides users with health data related to their activity, sleep, stress, menstrual cycle, and mindfulness habits. This data can help users better understand their current habits and make healthy decisions. The Bellabeat app connects to their line of smart wellness products.\n",
    "- Leaf: Bellabeat’s classic wellness tracker can be worn as a bracelet, necklace, or clip. The Leaf tracker connects to the Bellabeat app to track activity, sleep, and stress.\n",
    "- Time: This wellness watch combines the timeless look of a classic timepiece with smart technology to track user activity, sleep, and stress. The Time watch connects to the Bellabeat app to provide you with insights into your daily wellness.\n",
    "- Spring: This is a water bottle that tracks daily water intake using smart technology to ensure that you are appropriately hydrated throughout the day. The Spring bottle connects to the Bellabeat app to track your hydration levels.\n",
    "- Bellabeat membership: Bellabeat also offers a subscription-based membership program for users. Membership gives users 24/7 access to fully personalized guidance on nutrition, activity, sleep, health and beauty, and mindfulness based on their lifestyle and goals.\n",
    "\n",
    "## About the company\n",
    "Urška Sršen and Sando Mur founded Bellabeat, a high-tech company that manufactures health-focused smart products. Sršen used her background as an artist to develop beautifully designed technology that informs and inspires women around the world. Collecting data on activity, sleep, stress, and reproductive health has allowed Bellabeat to empower women with knowledge about their own health and habits. Since it was founded in 2013, Bellabeat has grown rapidly and quickly positioned itself as a tech-driven wellness company for women.\n",
    "\n",
    "By 2016, Bellabeat had opened offices around the world and launched multiple products. Bellabeat products became available through a growing number of online retailers in addition to their own e-commerce channel on their website. The company has invested in traditional advertising media, such as radio, out-of-home billboards, print, and television, but focuses on digital marketing extensively. Bellabeat invests year-round in Google Search, maintaining active Facebook and Instagram pages, and consistently engages consumers on Twitter. Additionally, Bellabeat runs video ads on Youtube and display ads on the Google Display Network to support campaigns around key marketing dates.\n",
    "\n",
    "Sršen knows that an analysis of Bellabeat’s available consumer data would reveal more opportunities for growth. She has asked the marketing analytics team to focus on a Bellabeat product and analyze smart device usage data in order to gain insight into how people are already using their smart devices. Then, using this information, she would like high-level recommendations for how these trends can inform Bellabeat marketing strategy."
   ]
  },
  {
   "cell_type": "markdown",
   "id": "84732a95",
   "metadata": {
    "papermill": {
     "duration": 0.028011,
     "end_time": "2023-09-07T05:16:17.825789",
     "exception": false,
     "start_time": "2023-09-07T05:16:17.797778",
     "status": "completed"
    },
    "tags": []
   },
   "source": [
    "\n",
    "# ASK \n",
    "This project aims to answer business questions for Bellafeat from Fitbit's data. Those business questions are:\n",
    "\n",
    "1. What are some trends in smart device usage?\n",
    "2. How could these trends apply to Bellabeat customers?\n",
    "3. How could these trends help influence Bellabeat marketing strategy?"
   ]
  },
  {
   "cell_type": "markdown",
   "id": "fc472012",
   "metadata": {
    "papermill": {
     "duration": 0.028022,
     "end_time": "2023-09-07T05:16:17.881916",
     "exception": false,
     "start_time": "2023-09-07T05:16:17.853894",
     "status": "completed"
    },
    "tags": []
   },
   "source": [
    "# PREPARATION\n",
    "\n",
    "## 1. Data Storage Location\n",
    "\n",
    "The data is stored at [this link](http://www.kaggle.com/datasets/arashnic/fitbit), which is claimed to be generated by respondents to a distributed survey via Amazon Mechanical Turk between 03.12.2016-05.12.2016. Thirty eligible Fitbit users consented to the submission of personal tracker data, including minute-level output for physical activity, heart rate, and sleep monitoring\n",
    "\n",
    "## 2. Data's Structure\n",
    "There are totally 18 csv file in the dataset: 6 files tracking the activity per day, 8 files  per minute, 3 files per hour, 1 file per second\n",
    "\n",
    "## 3. Data Credibility and Integrity\n",
    "The data is claimed to track the activities for 30 Fibit users. However, the number of unique users from each files are different. For the purpose of this project's purpose is educational, there shall not be further investigation on the creditbility and integrity of this dataset\n",
    "\n",
    "## 4. Data licensing and accessibility\n",
    "The data source is from [this link ](http://zenodo.org/record/53894#.X9oeh3Uzaao) and license CC0: [Public Domain](https://creativecommons.org/publicdomain/zero/1.0/)"
   ]
  },
  {
   "cell_type": "markdown",
   "id": "20319815",
   "metadata": {
    "papermill": {
     "duration": 0.027784,
     "end_time": "2023-09-07T05:16:17.938010",
     "exception": false,
     "start_time": "2023-09-07T05:16:17.910226",
     "status": "completed"
    },
    "tags": []
   },
   "source": [
    "# PROCESS\n",
    "\n",
    "There are 3 files are the summarison of the 18 files. Therefore, in this projects, these 3 will be selected and joined together for analysing. \n",
    "\n",
    "These are:\n",
    "- dailyActivity_merged.csv - containing the information about the total step, active walking minutes, active walking distance,... of the users per day\n",
    "- heartrate_seconds_merged.csv - containing the heartrate of users per second\n",
    "- sleepDay_merged.csv - containing the sleeping information (total minutes asleep, total time in bed,... ) of users per day\n"
   ]
  },
  {
   "cell_type": "markdown",
   "id": "007fc4d0",
   "metadata": {
    "papermill": {
     "duration": 0.027496,
     "end_time": "2023-09-07T05:16:17.993575",
     "exception": false,
     "start_time": "2023-09-07T05:16:17.966079",
     "status": "completed"
    },
    "tags": []
   },
   "source": [
    "### 1. Importing and cleaning the daily_Activity_merged.csv file"
   ]
  },
  {
   "cell_type": "code",
   "execution_count": 1,
   "id": "9adcd8d1",
   "metadata": {
    "execution": {
     "iopub.execute_input": "2023-09-07T05:16:18.051714Z",
     "iopub.status.busy": "2023-09-07T05:16:18.051334Z",
     "iopub.status.idle": "2023-09-07T05:16:19.506098Z",
     "shell.execute_reply": "2023-09-07T05:16:19.504904Z"
    },
    "papermill": {
     "duration": 1.486475,
     "end_time": "2023-09-07T05:16:19.508460",
     "exception": false,
     "start_time": "2023-09-07T05:16:18.021985",
     "status": "completed"
    },
    "tags": []
   },
   "outputs": [
    {
     "name": "stderr",
     "output_type": "stream",
     "text": [
      "/opt/conda/lib/python3.10/site-packages/scipy/__init__.py:146: UserWarning: A NumPy version >=1.16.5 and <1.23.0 is required for this version of SciPy (detected version 1.23.5\n",
      "  warnings.warn(f\"A NumPy version >={np_minversion} and <{np_maxversion}\"\n"
     ]
    }
   ],
   "source": [
    "# Import all necessary library\n",
    "\n",
    "import pandas as pd\n",
    "import numpy as np\n",
    "from pandas import merge\n",
    "import matplotlib.pyplot as plt\n",
    "import seaborn as sns\n",
    "import sqlite3"
   ]
  },
  {
   "cell_type": "code",
   "execution_count": 2,
   "id": "76e17b3d",
   "metadata": {
    "execution": {
     "iopub.execute_input": "2023-09-07T05:16:19.568307Z",
     "iopub.status.busy": "2023-09-07T05:16:19.566846Z",
     "iopub.status.idle": "2023-09-07T05:16:19.605845Z",
     "shell.execute_reply": "2023-09-07T05:16:19.604082Z"
    },
    "papermill": {
     "duration": 0.071063,
     "end_time": "2023-09-07T05:16:19.608673",
     "exception": false,
     "start_time": "2023-09-07T05:16:19.537610",
     "status": "completed"
    },
    "tags": []
   },
   "outputs": [],
   "source": [
    "# Import the file and save it in Activity variable\n",
    "Activity = pd.read_csv('/kaggle/input/fitbit-database/dailyActivity_merged.csv')"
   ]
  },
  {
   "cell_type": "code",
   "execution_count": 3,
   "id": "5997c6b7",
   "metadata": {
    "execution": {
     "iopub.execute_input": "2023-09-07T05:16:19.667184Z",
     "iopub.status.busy": "2023-09-07T05:16:19.666118Z",
     "iopub.status.idle": "2023-09-07T05:16:19.692804Z",
     "shell.execute_reply": "2023-09-07T05:16:19.691611Z"
    },
    "papermill": {
     "duration": 0.057902,
     "end_time": "2023-09-07T05:16:19.694719",
     "exception": false,
     "start_time": "2023-09-07T05:16:19.636817",
     "status": "completed"
    },
    "tags": []
   },
   "outputs": [
    {
     "data": {
      "text/html": [
       "<div>\n",
       "<style scoped>\n",
       "    .dataframe tbody tr th:only-of-type {\n",
       "        vertical-align: middle;\n",
       "    }\n",
       "\n",
       "    .dataframe tbody tr th {\n",
       "        vertical-align: top;\n",
       "    }\n",
       "\n",
       "    .dataframe thead th {\n",
       "        text-align: right;\n",
       "    }\n",
       "</style>\n",
       "<table border=\"1\" class=\"dataframe\">\n",
       "  <thead>\n",
       "    <tr style=\"text-align: right;\">\n",
       "      <th></th>\n",
       "      <th>Id</th>\n",
       "      <th>ActivityDate</th>\n",
       "      <th>TotalSteps</th>\n",
       "      <th>TotalDistance</th>\n",
       "      <th>TrackerDistance</th>\n",
       "      <th>LoggedActivitiesDistance</th>\n",
       "      <th>VeryActiveDistance</th>\n",
       "      <th>ModeratelyActiveDistance</th>\n",
       "      <th>LightActiveDistance</th>\n",
       "      <th>SedentaryActiveDistance</th>\n",
       "      <th>VeryActiveMinutes</th>\n",
       "      <th>FairlyActiveMinutes</th>\n",
       "      <th>LightlyActiveMinutes</th>\n",
       "      <th>SedentaryMinutes</th>\n",
       "      <th>Calories</th>\n",
       "    </tr>\n",
       "  </thead>\n",
       "  <tbody>\n",
       "    <tr>\n",
       "      <th>0</th>\n",
       "      <td>1503960366</td>\n",
       "      <td>4/12/2016</td>\n",
       "      <td>13162</td>\n",
       "      <td>8.50</td>\n",
       "      <td>8.50</td>\n",
       "      <td>0.0</td>\n",
       "      <td>1.88</td>\n",
       "      <td>0.55</td>\n",
       "      <td>6.06</td>\n",
       "      <td>0.0</td>\n",
       "      <td>25</td>\n",
       "      <td>13</td>\n",
       "      <td>328</td>\n",
       "      <td>728</td>\n",
       "      <td>1985</td>\n",
       "    </tr>\n",
       "    <tr>\n",
       "      <th>1</th>\n",
       "      <td>1503960366</td>\n",
       "      <td>4/13/2016</td>\n",
       "      <td>10735</td>\n",
       "      <td>6.97</td>\n",
       "      <td>6.97</td>\n",
       "      <td>0.0</td>\n",
       "      <td>1.57</td>\n",
       "      <td>0.69</td>\n",
       "      <td>4.71</td>\n",
       "      <td>0.0</td>\n",
       "      <td>21</td>\n",
       "      <td>19</td>\n",
       "      <td>217</td>\n",
       "      <td>776</td>\n",
       "      <td>1797</td>\n",
       "    </tr>\n",
       "    <tr>\n",
       "      <th>2</th>\n",
       "      <td>1503960366</td>\n",
       "      <td>4/14/2016</td>\n",
       "      <td>10460</td>\n",
       "      <td>6.74</td>\n",
       "      <td>6.74</td>\n",
       "      <td>0.0</td>\n",
       "      <td>2.44</td>\n",
       "      <td>0.40</td>\n",
       "      <td>3.91</td>\n",
       "      <td>0.0</td>\n",
       "      <td>30</td>\n",
       "      <td>11</td>\n",
       "      <td>181</td>\n",
       "      <td>1218</td>\n",
       "      <td>1776</td>\n",
       "    </tr>\n",
       "    <tr>\n",
       "      <th>3</th>\n",
       "      <td>1503960366</td>\n",
       "      <td>4/15/2016</td>\n",
       "      <td>9762</td>\n",
       "      <td>6.28</td>\n",
       "      <td>6.28</td>\n",
       "      <td>0.0</td>\n",
       "      <td>2.14</td>\n",
       "      <td>1.26</td>\n",
       "      <td>2.83</td>\n",
       "      <td>0.0</td>\n",
       "      <td>29</td>\n",
       "      <td>34</td>\n",
       "      <td>209</td>\n",
       "      <td>726</td>\n",
       "      <td>1745</td>\n",
       "    </tr>\n",
       "    <tr>\n",
       "      <th>4</th>\n",
       "      <td>1503960366</td>\n",
       "      <td>4/16/2016</td>\n",
       "      <td>12669</td>\n",
       "      <td>8.16</td>\n",
       "      <td>8.16</td>\n",
       "      <td>0.0</td>\n",
       "      <td>2.71</td>\n",
       "      <td>0.41</td>\n",
       "      <td>5.04</td>\n",
       "      <td>0.0</td>\n",
       "      <td>36</td>\n",
       "      <td>10</td>\n",
       "      <td>221</td>\n",
       "      <td>773</td>\n",
       "      <td>1863</td>\n",
       "    </tr>\n",
       "  </tbody>\n",
       "</table>\n",
       "</div>"
      ],
      "text/plain": [
       "           Id ActivityDate  TotalSteps  TotalDistance  TrackerDistance  \\\n",
       "0  1503960366    4/12/2016       13162           8.50             8.50   \n",
       "1  1503960366    4/13/2016       10735           6.97             6.97   \n",
       "2  1503960366    4/14/2016       10460           6.74             6.74   \n",
       "3  1503960366    4/15/2016        9762           6.28             6.28   \n",
       "4  1503960366    4/16/2016       12669           8.16             8.16   \n",
       "\n",
       "   LoggedActivitiesDistance  VeryActiveDistance  ModeratelyActiveDistance  \\\n",
       "0                       0.0                1.88                      0.55   \n",
       "1                       0.0                1.57                      0.69   \n",
       "2                       0.0                2.44                      0.40   \n",
       "3                       0.0                2.14                      1.26   \n",
       "4                       0.0                2.71                      0.41   \n",
       "\n",
       "   LightActiveDistance  SedentaryActiveDistance  VeryActiveMinutes  \\\n",
       "0                 6.06                      0.0                 25   \n",
       "1                 4.71                      0.0                 21   \n",
       "2                 3.91                      0.0                 30   \n",
       "3                 2.83                      0.0                 29   \n",
       "4                 5.04                      0.0                 36   \n",
       "\n",
       "   FairlyActiveMinutes  LightlyActiveMinutes  SedentaryMinutes  Calories  \n",
       "0                   13                   328               728      1985  \n",
       "1                   19                   217               776      1797  \n",
       "2                   11                   181              1218      1776  \n",
       "3                   34                   209               726      1745  \n",
       "4                   10                   221               773      1863  "
      ]
     },
     "execution_count": 3,
     "metadata": {},
     "output_type": "execute_result"
    }
   ],
   "source": [
    "# Check the columns name with the first 5 row data\n",
    "Activity.head()"
   ]
  },
  {
   "cell_type": "code",
   "execution_count": 4,
   "id": "06b0de16",
   "metadata": {
    "execution": {
     "iopub.execute_input": "2023-09-07T05:16:19.753807Z",
     "iopub.status.busy": "2023-09-07T05:16:19.753422Z",
     "iopub.status.idle": "2023-09-07T05:16:19.779705Z",
     "shell.execute_reply": "2023-09-07T05:16:19.778600Z"
    },
    "papermill": {
     "duration": 0.059325,
     "end_time": "2023-09-07T05:16:19.782168",
     "exception": false,
     "start_time": "2023-09-07T05:16:19.722843",
     "status": "completed"
    },
    "tags": []
   },
   "outputs": [
    {
     "name": "stdout",
     "output_type": "stream",
     "text": [
      "<class 'pandas.core.frame.DataFrame'>\n",
      "RangeIndex: 940 entries, 0 to 939\n",
      "Data columns (total 15 columns):\n",
      " #   Column                    Non-Null Count  Dtype  \n",
      "---  ------                    --------------  -----  \n",
      " 0   Id                        940 non-null    int64  \n",
      " 1   ActivityDate              940 non-null    object \n",
      " 2   TotalSteps                940 non-null    int64  \n",
      " 3   TotalDistance             940 non-null    float64\n",
      " 4   TrackerDistance           940 non-null    float64\n",
      " 5   LoggedActivitiesDistance  940 non-null    float64\n",
      " 6   VeryActiveDistance        940 non-null    float64\n",
      " 7   ModeratelyActiveDistance  940 non-null    float64\n",
      " 8   LightActiveDistance       940 non-null    float64\n",
      " 9   SedentaryActiveDistance   940 non-null    float64\n",
      " 10  VeryActiveMinutes         940 non-null    int64  \n",
      " 11  FairlyActiveMinutes       940 non-null    int64  \n",
      " 12  LightlyActiveMinutes      940 non-null    int64  \n",
      " 13  SedentaryMinutes          940 non-null    int64  \n",
      " 14  Calories                  940 non-null    int64  \n",
      "dtypes: float64(7), int64(7), object(1)\n",
      "memory usage: 110.3+ KB\n"
     ]
    }
   ],
   "source": [
    "# Check the number of non-null and data type information\n",
    "Activity.info()"
   ]
  },
  {
   "cell_type": "code",
   "execution_count": 5,
   "id": "2411c449",
   "metadata": {
    "execution": {
     "iopub.execute_input": "2023-09-07T05:16:19.841281Z",
     "iopub.status.busy": "2023-09-07T05:16:19.840271Z",
     "iopub.status.idle": "2023-09-07T05:16:19.885688Z",
     "shell.execute_reply": "2023-09-07T05:16:19.884231Z"
    },
    "papermill": {
     "duration": 0.077029,
     "end_time": "2023-09-07T05:16:19.887577",
     "exception": false,
     "start_time": "2023-09-07T05:16:19.810548",
     "status": "completed"
    },
    "tags": []
   },
   "outputs": [
    {
     "data": {
      "text/html": [
       "<div>\n",
       "<style scoped>\n",
       "    .dataframe tbody tr th:only-of-type {\n",
       "        vertical-align: middle;\n",
       "    }\n",
       "\n",
       "    .dataframe tbody tr th {\n",
       "        vertical-align: top;\n",
       "    }\n",
       "\n",
       "    .dataframe thead th {\n",
       "        text-align: right;\n",
       "    }\n",
       "</style>\n",
       "<table border=\"1\" class=\"dataframe\">\n",
       "  <thead>\n",
       "    <tr style=\"text-align: right;\">\n",
       "      <th></th>\n",
       "      <th>Id</th>\n",
       "      <th>TotalSteps</th>\n",
       "      <th>TotalDistance</th>\n",
       "      <th>TrackerDistance</th>\n",
       "      <th>LoggedActivitiesDistance</th>\n",
       "      <th>VeryActiveDistance</th>\n",
       "      <th>ModeratelyActiveDistance</th>\n",
       "      <th>LightActiveDistance</th>\n",
       "      <th>SedentaryActiveDistance</th>\n",
       "      <th>VeryActiveMinutes</th>\n",
       "      <th>FairlyActiveMinutes</th>\n",
       "      <th>LightlyActiveMinutes</th>\n",
       "      <th>SedentaryMinutes</th>\n",
       "      <th>Calories</th>\n",
       "    </tr>\n",
       "  </thead>\n",
       "  <tbody>\n",
       "    <tr>\n",
       "      <th>count</th>\n",
       "      <td>9.400000e+02</td>\n",
       "      <td>940.000000</td>\n",
       "      <td>940.000000</td>\n",
       "      <td>940.000000</td>\n",
       "      <td>940.000000</td>\n",
       "      <td>940.000000</td>\n",
       "      <td>940.000000</td>\n",
       "      <td>940.000000</td>\n",
       "      <td>940.000000</td>\n",
       "      <td>940.000000</td>\n",
       "      <td>940.000000</td>\n",
       "      <td>940.000000</td>\n",
       "      <td>940.000000</td>\n",
       "      <td>940.000000</td>\n",
       "    </tr>\n",
       "    <tr>\n",
       "      <th>mean</th>\n",
       "      <td>4.855407e+09</td>\n",
       "      <td>7637.910638</td>\n",
       "      <td>5.489702</td>\n",
       "      <td>5.475351</td>\n",
       "      <td>0.108171</td>\n",
       "      <td>1.502681</td>\n",
       "      <td>0.567543</td>\n",
       "      <td>3.340819</td>\n",
       "      <td>0.001606</td>\n",
       "      <td>21.164894</td>\n",
       "      <td>13.564894</td>\n",
       "      <td>192.812766</td>\n",
       "      <td>991.210638</td>\n",
       "      <td>2303.609574</td>\n",
       "    </tr>\n",
       "    <tr>\n",
       "      <th>std</th>\n",
       "      <td>2.424805e+09</td>\n",
       "      <td>5087.150742</td>\n",
       "      <td>3.924606</td>\n",
       "      <td>3.907276</td>\n",
       "      <td>0.619897</td>\n",
       "      <td>2.658941</td>\n",
       "      <td>0.883580</td>\n",
       "      <td>2.040655</td>\n",
       "      <td>0.007346</td>\n",
       "      <td>32.844803</td>\n",
       "      <td>19.987404</td>\n",
       "      <td>109.174700</td>\n",
       "      <td>301.267437</td>\n",
       "      <td>718.166862</td>\n",
       "    </tr>\n",
       "    <tr>\n",
       "      <th>min</th>\n",
       "      <td>1.503960e+09</td>\n",
       "      <td>0.000000</td>\n",
       "      <td>0.000000</td>\n",
       "      <td>0.000000</td>\n",
       "      <td>0.000000</td>\n",
       "      <td>0.000000</td>\n",
       "      <td>0.000000</td>\n",
       "      <td>0.000000</td>\n",
       "      <td>0.000000</td>\n",
       "      <td>0.000000</td>\n",
       "      <td>0.000000</td>\n",
       "      <td>0.000000</td>\n",
       "      <td>0.000000</td>\n",
       "      <td>0.000000</td>\n",
       "    </tr>\n",
       "    <tr>\n",
       "      <th>25%</th>\n",
       "      <td>2.320127e+09</td>\n",
       "      <td>3789.750000</td>\n",
       "      <td>2.620000</td>\n",
       "      <td>2.620000</td>\n",
       "      <td>0.000000</td>\n",
       "      <td>0.000000</td>\n",
       "      <td>0.000000</td>\n",
       "      <td>1.945000</td>\n",
       "      <td>0.000000</td>\n",
       "      <td>0.000000</td>\n",
       "      <td>0.000000</td>\n",
       "      <td>127.000000</td>\n",
       "      <td>729.750000</td>\n",
       "      <td>1828.500000</td>\n",
       "    </tr>\n",
       "    <tr>\n",
       "      <th>50%</th>\n",
       "      <td>4.445115e+09</td>\n",
       "      <td>7405.500000</td>\n",
       "      <td>5.245000</td>\n",
       "      <td>5.245000</td>\n",
       "      <td>0.000000</td>\n",
       "      <td>0.210000</td>\n",
       "      <td>0.240000</td>\n",
       "      <td>3.365000</td>\n",
       "      <td>0.000000</td>\n",
       "      <td>4.000000</td>\n",
       "      <td>6.000000</td>\n",
       "      <td>199.000000</td>\n",
       "      <td>1057.500000</td>\n",
       "      <td>2134.000000</td>\n",
       "    </tr>\n",
       "    <tr>\n",
       "      <th>75%</th>\n",
       "      <td>6.962181e+09</td>\n",
       "      <td>10727.000000</td>\n",
       "      <td>7.712500</td>\n",
       "      <td>7.710000</td>\n",
       "      <td>0.000000</td>\n",
       "      <td>2.052500</td>\n",
       "      <td>0.800000</td>\n",
       "      <td>4.782500</td>\n",
       "      <td>0.000000</td>\n",
       "      <td>32.000000</td>\n",
       "      <td>19.000000</td>\n",
       "      <td>264.000000</td>\n",
       "      <td>1229.500000</td>\n",
       "      <td>2793.250000</td>\n",
       "    </tr>\n",
       "    <tr>\n",
       "      <th>max</th>\n",
       "      <td>8.877689e+09</td>\n",
       "      <td>36019.000000</td>\n",
       "      <td>28.030001</td>\n",
       "      <td>28.030001</td>\n",
       "      <td>4.942142</td>\n",
       "      <td>21.920000</td>\n",
       "      <td>6.480000</td>\n",
       "      <td>10.710000</td>\n",
       "      <td>0.110000</td>\n",
       "      <td>210.000000</td>\n",
       "      <td>143.000000</td>\n",
       "      <td>518.000000</td>\n",
       "      <td>1440.000000</td>\n",
       "      <td>4900.000000</td>\n",
       "    </tr>\n",
       "  </tbody>\n",
       "</table>\n",
       "</div>"
      ],
      "text/plain": [
       "                 Id    TotalSteps  TotalDistance  TrackerDistance  \\\n",
       "count  9.400000e+02    940.000000     940.000000       940.000000   \n",
       "mean   4.855407e+09   7637.910638       5.489702         5.475351   \n",
       "std    2.424805e+09   5087.150742       3.924606         3.907276   \n",
       "min    1.503960e+09      0.000000       0.000000         0.000000   \n",
       "25%    2.320127e+09   3789.750000       2.620000         2.620000   \n",
       "50%    4.445115e+09   7405.500000       5.245000         5.245000   \n",
       "75%    6.962181e+09  10727.000000       7.712500         7.710000   \n",
       "max    8.877689e+09  36019.000000      28.030001        28.030001   \n",
       "\n",
       "       LoggedActivitiesDistance  VeryActiveDistance  ModeratelyActiveDistance  \\\n",
       "count                940.000000          940.000000                940.000000   \n",
       "mean                   0.108171            1.502681                  0.567543   \n",
       "std                    0.619897            2.658941                  0.883580   \n",
       "min                    0.000000            0.000000                  0.000000   \n",
       "25%                    0.000000            0.000000                  0.000000   \n",
       "50%                    0.000000            0.210000                  0.240000   \n",
       "75%                    0.000000            2.052500                  0.800000   \n",
       "max                    4.942142           21.920000                  6.480000   \n",
       "\n",
       "       LightActiveDistance  SedentaryActiveDistance  VeryActiveMinutes  \\\n",
       "count           940.000000               940.000000         940.000000   \n",
       "mean              3.340819                 0.001606          21.164894   \n",
       "std               2.040655                 0.007346          32.844803   \n",
       "min               0.000000                 0.000000           0.000000   \n",
       "25%               1.945000                 0.000000           0.000000   \n",
       "50%               3.365000                 0.000000           4.000000   \n",
       "75%               4.782500                 0.000000          32.000000   \n",
       "max              10.710000                 0.110000         210.000000   \n",
       "\n",
       "       FairlyActiveMinutes  LightlyActiveMinutes  SedentaryMinutes  \\\n",
       "count           940.000000            940.000000        940.000000   \n",
       "mean             13.564894            192.812766        991.210638   \n",
       "std              19.987404            109.174700        301.267437   \n",
       "min               0.000000              0.000000          0.000000   \n",
       "25%               0.000000            127.000000        729.750000   \n",
       "50%               6.000000            199.000000       1057.500000   \n",
       "75%              19.000000            264.000000       1229.500000   \n",
       "max             143.000000            518.000000       1440.000000   \n",
       "\n",
       "          Calories  \n",
       "count   940.000000  \n",
       "mean   2303.609574  \n",
       "std     718.166862  \n",
       "min       0.000000  \n",
       "25%    1828.500000  \n",
       "50%    2134.000000  \n",
       "75%    2793.250000  \n",
       "max    4900.000000  "
      ]
     },
     "execution_count": 5,
     "metadata": {},
     "output_type": "execute_result"
    }
   ],
   "source": [
    "# Check the statistical figure of the data\n",
    "Activity.describe()"
   ]
  },
  {
   "cell_type": "code",
   "execution_count": 6,
   "id": "1af40f48",
   "metadata": {
    "execution": {
     "iopub.execute_input": "2023-09-07T05:16:19.948016Z",
     "iopub.status.busy": "2023-09-07T05:16:19.947633Z",
     "iopub.status.idle": "2023-09-07T05:16:19.959002Z",
     "shell.execute_reply": "2023-09-07T05:16:19.958114Z"
    },
    "papermill": {
     "duration": 0.043892,
     "end_time": "2023-09-07T05:16:19.961064",
     "exception": false,
     "start_time": "2023-09-07T05:16:19.917172",
     "status": "completed"
    },
    "tags": []
   },
   "outputs": [
    {
     "data": {
      "text/plain": [
       "0"
      ]
     },
     "execution_count": 6,
     "metadata": {},
     "output_type": "execute_result"
    }
   ],
   "source": [
    "# Check the number of duplicated row in the data\n",
    "Activity.duplicated().sum()"
   ]
  },
  {
   "cell_type": "code",
   "execution_count": 7,
   "id": "95dc9f31",
   "metadata": {
    "execution": {
     "iopub.execute_input": "2023-09-07T05:16:20.020794Z",
     "iopub.status.busy": "2023-09-07T05:16:20.019955Z",
     "iopub.status.idle": "2023-09-07T05:16:20.027667Z",
     "shell.execute_reply": "2023-09-07T05:16:20.026441Z"
    },
    "papermill": {
     "duration": 0.039712,
     "end_time": "2023-09-07T05:16:20.029441",
     "exception": false,
     "start_time": "2023-09-07T05:16:19.989729",
     "status": "completed"
    },
    "tags": []
   },
   "outputs": [
    {
     "data": {
      "text/plain": [
       "33"
      ]
     },
     "execution_count": 7,
     "metadata": {},
     "output_type": "execute_result"
    }
   ],
   "source": [
    "# Check the number of unique users observed in this data\n",
    "len(Activity.Id.unique())"
   ]
  },
  {
   "cell_type": "markdown",
   "id": "3e1b52af",
   "metadata": {
    "papermill": {
     "duration": 0.028659,
     "end_time": "2023-09-07T05:16:20.086455",
     "exception": false,
     "start_time": "2023-09-07T05:16:20.057796",
     "status": "completed"
    },
    "tags": []
   },
   "source": [
    "Activity variable has no duplicated column, no column with null value. However, the 'ActivityDate' should has the data type of datetime (not object) so it need to be transfered"
   ]
  },
  {
   "cell_type": "code",
   "execution_count": 8,
   "id": "f2edc454",
   "metadata": {
    "execution": {
     "iopub.execute_input": "2023-09-07T05:16:20.147913Z",
     "iopub.status.busy": "2023-09-07T05:16:20.147534Z",
     "iopub.status.idle": "2023-09-07T05:16:20.156219Z",
     "shell.execute_reply": "2023-09-07T05:16:20.155085Z"
    },
    "papermill": {
     "duration": 0.042775,
     "end_time": "2023-09-07T05:16:20.158745",
     "exception": false,
     "start_time": "2023-09-07T05:16:20.115970",
     "status": "completed"
    },
    "tags": []
   },
   "outputs": [],
   "source": [
    "# Transfer the data type of ActivityDate from object to datime64\n",
    "Activity.ActivityDate = Activity.ActivityDate.astype('datetime64')"
   ]
  },
  {
   "cell_type": "code",
   "execution_count": 9,
   "id": "48897cc6",
   "metadata": {
    "execution": {
     "iopub.execute_input": "2023-09-07T05:16:20.217901Z",
     "iopub.status.busy": "2023-09-07T05:16:20.217528Z",
     "iopub.status.idle": "2023-09-07T05:16:20.229060Z",
     "shell.execute_reply": "2023-09-07T05:16:20.228070Z"
    },
    "papermill": {
     "duration": 0.043639,
     "end_time": "2023-09-07T05:16:20.230996",
     "exception": false,
     "start_time": "2023-09-07T05:16:20.187357",
     "status": "completed"
    },
    "tags": []
   },
   "outputs": [
    {
     "name": "stdout",
     "output_type": "stream",
     "text": [
      "<class 'pandas.core.frame.DataFrame'>\n",
      "RangeIndex: 940 entries, 0 to 939\n",
      "Data columns (total 15 columns):\n",
      " #   Column                    Non-Null Count  Dtype         \n",
      "---  ------                    --------------  -----         \n",
      " 0   Id                        940 non-null    int64         \n",
      " 1   ActivityDate              940 non-null    datetime64[ns]\n",
      " 2   TotalSteps                940 non-null    int64         \n",
      " 3   TotalDistance             940 non-null    float64       \n",
      " 4   TrackerDistance           940 non-null    float64       \n",
      " 5   LoggedActivitiesDistance  940 non-null    float64       \n",
      " 6   VeryActiveDistance        940 non-null    float64       \n",
      " 7   ModeratelyActiveDistance  940 non-null    float64       \n",
      " 8   LightActiveDistance       940 non-null    float64       \n",
      " 9   SedentaryActiveDistance   940 non-null    float64       \n",
      " 10  VeryActiveMinutes         940 non-null    int64         \n",
      " 11  FairlyActiveMinutes       940 non-null    int64         \n",
      " 12  LightlyActiveMinutes      940 non-null    int64         \n",
      " 13  SedentaryMinutes          940 non-null    int64         \n",
      " 14  Calories                  940 non-null    int64         \n",
      "dtypes: datetime64[ns](1), float64(7), int64(7)\n",
      "memory usage: 110.3 KB\n"
     ]
    }
   ],
   "source": [
    "# Recheck the data information\n",
    "Activity.info()"
   ]
  },
  {
   "cell_type": "markdown",
   "id": "5c52b484",
   "metadata": {
    "papermill": {
     "duration": 0.030535,
     "end_time": "2023-09-07T05:16:20.291956",
     "exception": false,
     "start_time": "2023-09-07T05:16:20.261421",
     "status": "completed"
    },
    "tags": []
   },
   "source": [
    "#### 2. Importing and cleaning the sleepDay_merged.csv file"
   ]
  },
  {
   "cell_type": "code",
   "execution_count": 10,
   "id": "e27869be",
   "metadata": {
    "execution": {
     "iopub.execute_input": "2023-09-07T05:16:20.351442Z",
     "iopub.status.busy": "2023-09-07T05:16:20.351019Z",
     "iopub.status.idle": "2023-09-07T05:16:20.365184Z",
     "shell.execute_reply": "2023-09-07T05:16:20.363933Z"
    },
    "papermill": {
     "duration": 0.046267,
     "end_time": "2023-09-07T05:16:20.367237",
     "exception": false,
     "start_time": "2023-09-07T05:16:20.320970",
     "status": "completed"
    },
    "tags": []
   },
   "outputs": [],
   "source": [
    "Sleep = pd.read_csv('/kaggle/input/fitbit-database/sleepDay_merged.csv')"
   ]
  },
  {
   "cell_type": "code",
   "execution_count": 11,
   "id": "48b219cf",
   "metadata": {
    "execution": {
     "iopub.execute_input": "2023-09-07T05:16:20.427317Z",
     "iopub.status.busy": "2023-09-07T05:16:20.426515Z",
     "iopub.status.idle": "2023-09-07T05:16:20.437929Z",
     "shell.execute_reply": "2023-09-07T05:16:20.436707Z"
    },
    "papermill": {
     "duration": 0.043615,
     "end_time": "2023-09-07T05:16:20.439776",
     "exception": false,
     "start_time": "2023-09-07T05:16:20.396161",
     "status": "completed"
    },
    "tags": []
   },
   "outputs": [
    {
     "data": {
      "text/html": [
       "<div>\n",
       "<style scoped>\n",
       "    .dataframe tbody tr th:only-of-type {\n",
       "        vertical-align: middle;\n",
       "    }\n",
       "\n",
       "    .dataframe tbody tr th {\n",
       "        vertical-align: top;\n",
       "    }\n",
       "\n",
       "    .dataframe thead th {\n",
       "        text-align: right;\n",
       "    }\n",
       "</style>\n",
       "<table border=\"1\" class=\"dataframe\">\n",
       "  <thead>\n",
       "    <tr style=\"text-align: right;\">\n",
       "      <th></th>\n",
       "      <th>Id</th>\n",
       "      <th>SleepDay</th>\n",
       "      <th>TotalSleepRecords</th>\n",
       "      <th>TotalMinutesAsleep</th>\n",
       "      <th>TotalTimeInBed</th>\n",
       "    </tr>\n",
       "  </thead>\n",
       "  <tbody>\n",
       "    <tr>\n",
       "      <th>0</th>\n",
       "      <td>1503960366</td>\n",
       "      <td>4/12/2016 12:00:00 AM</td>\n",
       "      <td>1</td>\n",
       "      <td>327</td>\n",
       "      <td>346</td>\n",
       "    </tr>\n",
       "    <tr>\n",
       "      <th>1</th>\n",
       "      <td>1503960366</td>\n",
       "      <td>4/13/2016 12:00:00 AM</td>\n",
       "      <td>2</td>\n",
       "      <td>384</td>\n",
       "      <td>407</td>\n",
       "    </tr>\n",
       "    <tr>\n",
       "      <th>2</th>\n",
       "      <td>1503960366</td>\n",
       "      <td>4/15/2016 12:00:00 AM</td>\n",
       "      <td>1</td>\n",
       "      <td>412</td>\n",
       "      <td>442</td>\n",
       "    </tr>\n",
       "    <tr>\n",
       "      <th>3</th>\n",
       "      <td>1503960366</td>\n",
       "      <td>4/16/2016 12:00:00 AM</td>\n",
       "      <td>2</td>\n",
       "      <td>340</td>\n",
       "      <td>367</td>\n",
       "    </tr>\n",
       "    <tr>\n",
       "      <th>4</th>\n",
       "      <td>1503960366</td>\n",
       "      <td>4/17/2016 12:00:00 AM</td>\n",
       "      <td>1</td>\n",
       "      <td>700</td>\n",
       "      <td>712</td>\n",
       "    </tr>\n",
       "  </tbody>\n",
       "</table>\n",
       "</div>"
      ],
      "text/plain": [
       "           Id               SleepDay  TotalSleepRecords  TotalMinutesAsleep  \\\n",
       "0  1503960366  4/12/2016 12:00:00 AM                  1                 327   \n",
       "1  1503960366  4/13/2016 12:00:00 AM                  2                 384   \n",
       "2  1503960366  4/15/2016 12:00:00 AM                  1                 412   \n",
       "3  1503960366  4/16/2016 12:00:00 AM                  2                 340   \n",
       "4  1503960366  4/17/2016 12:00:00 AM                  1                 700   \n",
       "\n",
       "   TotalTimeInBed  \n",
       "0             346  \n",
       "1             407  \n",
       "2             442  \n",
       "3             367  \n",
       "4             712  "
      ]
     },
     "execution_count": 11,
     "metadata": {},
     "output_type": "execute_result"
    }
   ],
   "source": [
    "Sleep.head()"
   ]
  },
  {
   "cell_type": "code",
   "execution_count": 12,
   "id": "dadc7055",
   "metadata": {
    "execution": {
     "iopub.execute_input": "2023-09-07T05:16:20.503859Z",
     "iopub.status.busy": "2023-09-07T05:16:20.503129Z",
     "iopub.status.idle": "2023-09-07T05:16:20.513218Z",
     "shell.execute_reply": "2023-09-07T05:16:20.511886Z"
    },
    "papermill": {
     "duration": 0.045631,
     "end_time": "2023-09-07T05:16:20.515782",
     "exception": false,
     "start_time": "2023-09-07T05:16:20.470151",
     "status": "completed"
    },
    "tags": []
   },
   "outputs": [
    {
     "name": "stdout",
     "output_type": "stream",
     "text": [
      "<class 'pandas.core.frame.DataFrame'>\n",
      "RangeIndex: 413 entries, 0 to 412\n",
      "Data columns (total 5 columns):\n",
      " #   Column              Non-Null Count  Dtype \n",
      "---  ------              --------------  ----- \n",
      " 0   Id                  413 non-null    int64 \n",
      " 1   SleepDay            413 non-null    object\n",
      " 2   TotalSleepRecords   413 non-null    int64 \n",
      " 3   TotalMinutesAsleep  413 non-null    int64 \n",
      " 4   TotalTimeInBed      413 non-null    int64 \n",
      "dtypes: int64(4), object(1)\n",
      "memory usage: 16.3+ KB\n"
     ]
    }
   ],
   "source": [
    "Sleep.info()"
   ]
  },
  {
   "cell_type": "code",
   "execution_count": 13,
   "id": "27288045",
   "metadata": {
    "execution": {
     "iopub.execute_input": "2023-09-07T05:16:20.577221Z",
     "iopub.status.busy": "2023-09-07T05:16:20.576839Z",
     "iopub.status.idle": "2023-09-07T05:16:20.601360Z",
     "shell.execute_reply": "2023-09-07T05:16:20.600620Z"
    },
    "papermill": {
     "duration": 0.057811,
     "end_time": "2023-09-07T05:16:20.603756",
     "exception": false,
     "start_time": "2023-09-07T05:16:20.545945",
     "status": "completed"
    },
    "tags": []
   },
   "outputs": [
    {
     "data": {
      "text/html": [
       "<div>\n",
       "<style scoped>\n",
       "    .dataframe tbody tr th:only-of-type {\n",
       "        vertical-align: middle;\n",
       "    }\n",
       "\n",
       "    .dataframe tbody tr th {\n",
       "        vertical-align: top;\n",
       "    }\n",
       "\n",
       "    .dataframe thead th {\n",
       "        text-align: right;\n",
       "    }\n",
       "</style>\n",
       "<table border=\"1\" class=\"dataframe\">\n",
       "  <thead>\n",
       "    <tr style=\"text-align: right;\">\n",
       "      <th></th>\n",
       "      <th>Id</th>\n",
       "      <th>TotalSleepRecords</th>\n",
       "      <th>TotalMinutesAsleep</th>\n",
       "      <th>TotalTimeInBed</th>\n",
       "    </tr>\n",
       "  </thead>\n",
       "  <tbody>\n",
       "    <tr>\n",
       "      <th>count</th>\n",
       "      <td>4.130000e+02</td>\n",
       "      <td>413.000000</td>\n",
       "      <td>413.000000</td>\n",
       "      <td>413.000000</td>\n",
       "    </tr>\n",
       "    <tr>\n",
       "      <th>mean</th>\n",
       "      <td>5.000979e+09</td>\n",
       "      <td>1.118644</td>\n",
       "      <td>419.467312</td>\n",
       "      <td>458.639225</td>\n",
       "    </tr>\n",
       "    <tr>\n",
       "      <th>std</th>\n",
       "      <td>2.060360e+09</td>\n",
       "      <td>0.345521</td>\n",
       "      <td>118.344679</td>\n",
       "      <td>127.101607</td>\n",
       "    </tr>\n",
       "    <tr>\n",
       "      <th>min</th>\n",
       "      <td>1.503960e+09</td>\n",
       "      <td>1.000000</td>\n",
       "      <td>58.000000</td>\n",
       "      <td>61.000000</td>\n",
       "    </tr>\n",
       "    <tr>\n",
       "      <th>25%</th>\n",
       "      <td>3.977334e+09</td>\n",
       "      <td>1.000000</td>\n",
       "      <td>361.000000</td>\n",
       "      <td>403.000000</td>\n",
       "    </tr>\n",
       "    <tr>\n",
       "      <th>50%</th>\n",
       "      <td>4.702922e+09</td>\n",
       "      <td>1.000000</td>\n",
       "      <td>433.000000</td>\n",
       "      <td>463.000000</td>\n",
       "    </tr>\n",
       "    <tr>\n",
       "      <th>75%</th>\n",
       "      <td>6.962181e+09</td>\n",
       "      <td>1.000000</td>\n",
       "      <td>490.000000</td>\n",
       "      <td>526.000000</td>\n",
       "    </tr>\n",
       "    <tr>\n",
       "      <th>max</th>\n",
       "      <td>8.792010e+09</td>\n",
       "      <td>3.000000</td>\n",
       "      <td>796.000000</td>\n",
       "      <td>961.000000</td>\n",
       "    </tr>\n",
       "  </tbody>\n",
       "</table>\n",
       "</div>"
      ],
      "text/plain": [
       "                 Id  TotalSleepRecords  TotalMinutesAsleep  TotalTimeInBed\n",
       "count  4.130000e+02         413.000000          413.000000      413.000000\n",
       "mean   5.000979e+09           1.118644          419.467312      458.639225\n",
       "std    2.060360e+09           0.345521          118.344679      127.101607\n",
       "min    1.503960e+09           1.000000           58.000000       61.000000\n",
       "25%    3.977334e+09           1.000000          361.000000      403.000000\n",
       "50%    4.702922e+09           1.000000          433.000000      463.000000\n",
       "75%    6.962181e+09           1.000000          490.000000      526.000000\n",
       "max    8.792010e+09           3.000000          796.000000      961.000000"
      ]
     },
     "execution_count": 13,
     "metadata": {},
     "output_type": "execute_result"
    }
   ],
   "source": [
    "Sleep.describe()"
   ]
  },
  {
   "cell_type": "code",
   "execution_count": 14,
   "id": "00448be7",
   "metadata": {
    "execution": {
     "iopub.execute_input": "2023-09-07T05:16:20.664811Z",
     "iopub.status.busy": "2023-09-07T05:16:20.663875Z",
     "iopub.status.idle": "2023-09-07T05:16:20.671451Z",
     "shell.execute_reply": "2023-09-07T05:16:20.670757Z"
    },
    "papermill": {
     "duration": 0.039956,
     "end_time": "2023-09-07T05:16:20.673264",
     "exception": false,
     "start_time": "2023-09-07T05:16:20.633308",
     "status": "completed"
    },
    "tags": []
   },
   "outputs": [
    {
     "data": {
      "text/plain": [
       "3"
      ]
     },
     "execution_count": 14,
     "metadata": {},
     "output_type": "execute_result"
    }
   ],
   "source": [
    "Sleep.duplicated().sum()"
   ]
  },
  {
   "cell_type": "code",
   "execution_count": 15,
   "id": "0657ab83",
   "metadata": {
    "execution": {
     "iopub.execute_input": "2023-09-07T05:16:20.734437Z",
     "iopub.status.busy": "2023-09-07T05:16:20.734067Z",
     "iopub.status.idle": "2023-09-07T05:16:20.739804Z",
     "shell.execute_reply": "2023-09-07T05:16:20.739124Z"
    },
    "papermill": {
     "duration": 0.03842,
     "end_time": "2023-09-07T05:16:20.741311",
     "exception": false,
     "start_time": "2023-09-07T05:16:20.702891",
     "status": "completed"
    },
    "tags": []
   },
   "outputs": [
    {
     "data": {
      "text/plain": [
       "24"
      ]
     },
     "execution_count": 15,
     "metadata": {},
     "output_type": "execute_result"
    }
   ],
   "source": [
    "len(Sleep.Id.unique())"
   ]
  },
  {
   "cell_type": "markdown",
   "id": "83d7f5f0",
   "metadata": {
    "papermill": {
     "duration": 0.029308,
     "end_time": "2023-09-07T05:16:20.800443",
     "exception": false,
     "start_time": "2023-09-07T05:16:20.771135",
     "status": "completed"
    },
    "tags": []
   },
   "source": [
    "There are 2 issues in this data:\n",
    "- It has 3 duplicated rows which need to be excluded properly for the effective analytics\n",
    "- The SleepDay column needs a change in data type (from object to datatime), the format and name for easy joining with Activity data\n",
    "\n",
    "Also, the number of unique user and total entries of Sleep is less than Activity, there will be more than 500 null rows in the columns of Sleep after joining"
   ]
  },
  {
   "cell_type": "code",
   "execution_count": 16,
   "id": "09954fb4",
   "metadata": {
    "execution": {
     "iopub.execute_input": "2023-09-07T05:16:20.860494Z",
     "iopub.status.busy": "2023-09-07T05:16:20.859824Z",
     "iopub.status.idle": "2023-09-07T05:16:20.873609Z",
     "shell.execute_reply": "2023-09-07T05:16:20.872810Z"
    },
    "papermill": {
     "duration": 0.045875,
     "end_time": "2023-09-07T05:16:20.875378",
     "exception": false,
     "start_time": "2023-09-07T05:16:20.829503",
     "status": "completed"
    },
    "tags": []
   },
   "outputs": [
    {
     "data": {
      "text/html": [
       "<div>\n",
       "<style scoped>\n",
       "    .dataframe tbody tr th:only-of-type {\n",
       "        vertical-align: middle;\n",
       "    }\n",
       "\n",
       "    .dataframe tbody tr th {\n",
       "        vertical-align: top;\n",
       "    }\n",
       "\n",
       "    .dataframe thead th {\n",
       "        text-align: right;\n",
       "    }\n",
       "</style>\n",
       "<table border=\"1\" class=\"dataframe\">\n",
       "  <thead>\n",
       "    <tr style=\"text-align: right;\">\n",
       "      <th></th>\n",
       "      <th>Id</th>\n",
       "      <th>SleepDay</th>\n",
       "      <th>TotalSleepRecords</th>\n",
       "      <th>TotalMinutesAsleep</th>\n",
       "      <th>TotalTimeInBed</th>\n",
       "    </tr>\n",
       "  </thead>\n",
       "  <tbody>\n",
       "    <tr>\n",
       "      <th>160</th>\n",
       "      <td>4388161847</td>\n",
       "      <td>5/5/2016 12:00:00 AM</td>\n",
       "      <td>1</td>\n",
       "      <td>471</td>\n",
       "      <td>495</td>\n",
       "    </tr>\n",
       "    <tr>\n",
       "      <th>161</th>\n",
       "      <td>4388161847</td>\n",
       "      <td>5/5/2016 12:00:00 AM</td>\n",
       "      <td>1</td>\n",
       "      <td>471</td>\n",
       "      <td>495</td>\n",
       "    </tr>\n",
       "    <tr>\n",
       "      <th>222</th>\n",
       "      <td>4702921684</td>\n",
       "      <td>5/7/2016 12:00:00 AM</td>\n",
       "      <td>1</td>\n",
       "      <td>520</td>\n",
       "      <td>543</td>\n",
       "    </tr>\n",
       "    <tr>\n",
       "      <th>223</th>\n",
       "      <td>4702921684</td>\n",
       "      <td>5/7/2016 12:00:00 AM</td>\n",
       "      <td>1</td>\n",
       "      <td>520</td>\n",
       "      <td>543</td>\n",
       "    </tr>\n",
       "    <tr>\n",
       "      <th>379</th>\n",
       "      <td>8378563200</td>\n",
       "      <td>4/25/2016 12:00:00 AM</td>\n",
       "      <td>1</td>\n",
       "      <td>388</td>\n",
       "      <td>402</td>\n",
       "    </tr>\n",
       "    <tr>\n",
       "      <th>380</th>\n",
       "      <td>8378563200</td>\n",
       "      <td>4/25/2016 12:00:00 AM</td>\n",
       "      <td>1</td>\n",
       "      <td>388</td>\n",
       "      <td>402</td>\n",
       "    </tr>\n",
       "  </tbody>\n",
       "</table>\n",
       "</div>"
      ],
      "text/plain": [
       "             Id               SleepDay  TotalSleepRecords  TotalMinutesAsleep  \\\n",
       "160  4388161847   5/5/2016 12:00:00 AM                  1                 471   \n",
       "161  4388161847   5/5/2016 12:00:00 AM                  1                 471   \n",
       "222  4702921684   5/7/2016 12:00:00 AM                  1                 520   \n",
       "223  4702921684   5/7/2016 12:00:00 AM                  1                 520   \n",
       "379  8378563200  4/25/2016 12:00:00 AM                  1                 388   \n",
       "380  8378563200  4/25/2016 12:00:00 AM                  1                 388   \n",
       "\n",
       "     TotalTimeInBed  \n",
       "160             495  \n",
       "161             495  \n",
       "222             543  \n",
       "223             543  \n",
       "379             402  \n",
       "380             402  "
      ]
     },
     "execution_count": 16,
     "metadata": {},
     "output_type": "execute_result"
    }
   ],
   "source": [
    "# Check the duplicated row\n",
    "Sleep[Sleep.duplicated(keep = False) == True]"
   ]
  },
  {
   "cell_type": "code",
   "execution_count": 17,
   "id": "2475ee02",
   "metadata": {
    "execution": {
     "iopub.execute_input": "2023-09-07T05:16:20.939547Z",
     "iopub.status.busy": "2023-09-07T05:16:20.937238Z",
     "iopub.status.idle": "2023-09-07T05:16:20.948298Z",
     "shell.execute_reply": "2023-09-07T05:16:20.946655Z"
    },
    "papermill": {
     "duration": 0.045439,
     "end_time": "2023-09-07T05:16:20.950844",
     "exception": false,
     "start_time": "2023-09-07T05:16:20.905405",
     "status": "completed"
    },
    "tags": []
   },
   "outputs": [
    {
     "data": {
      "text/plain": [
       "0"
      ]
     },
     "execution_count": 17,
     "metadata": {},
     "output_type": "execute_result"
    }
   ],
   "source": [
    "# Remove duplicated rows and recheck\n",
    "Sleep.drop_duplicates(inplace = True)\n",
    "Sleep.duplicated().sum()"
   ]
  },
  {
   "cell_type": "code",
   "execution_count": 18,
   "id": "a110edd7",
   "metadata": {
    "execution": {
     "iopub.execute_input": "2023-09-07T05:16:21.014172Z",
     "iopub.status.busy": "2023-09-07T05:16:21.013451Z",
     "iopub.status.idle": "2023-09-07T05:16:21.026095Z",
     "shell.execute_reply": "2023-09-07T05:16:21.024986Z"
    },
    "papermill": {
     "duration": 0.046867,
     "end_time": "2023-09-07T05:16:21.028090",
     "exception": false,
     "start_time": "2023-09-07T05:16:20.981223",
     "status": "completed"
    },
    "tags": []
   },
   "outputs": [],
   "source": [
    "# Change data type of SleepDay column\n",
    "Sleep.SleepDay = Sleep.SleepDay.astype('datetime64')"
   ]
  },
  {
   "cell_type": "code",
   "execution_count": 19,
   "id": "57e5b627",
   "metadata": {
    "execution": {
     "iopub.execute_input": "2023-09-07T05:16:21.091608Z",
     "iopub.status.busy": "2023-09-07T05:16:21.090982Z",
     "iopub.status.idle": "2023-09-07T05:16:21.099109Z",
     "shell.execute_reply": "2023-09-07T05:16:21.097964Z"
    },
    "papermill": {
     "duration": 0.043163,
     "end_time": "2023-09-07T05:16:21.101817",
     "exception": false,
     "start_time": "2023-09-07T05:16:21.058654",
     "status": "completed"
    },
    "tags": []
   },
   "outputs": [],
   "source": [
    "# Change format of SleepDay column & re-change it data type\n",
    "Sleep.SleepDay = Sleep.SleepDay.dt.date\n",
    "Sleep.SleepDay = Sleep.SleepDay.astype('datetime64')"
   ]
  },
  {
   "cell_type": "code",
   "execution_count": 20,
   "id": "083ed9df",
   "metadata": {
    "execution": {
     "iopub.execute_input": "2023-09-07T05:16:21.164784Z",
     "iopub.status.busy": "2023-09-07T05:16:21.163662Z",
     "iopub.status.idle": "2023-09-07T05:16:21.169802Z",
     "shell.execute_reply": "2023-09-07T05:16:21.168651Z"
    },
    "papermill": {
     "duration": 0.040148,
     "end_time": "2023-09-07T05:16:21.172455",
     "exception": false,
     "start_time": "2023-09-07T05:16:21.132307",
     "status": "completed"
    },
    "tags": []
   },
   "outputs": [],
   "source": [
    "# Change name of SleepDay columns\n",
    "Sleep.rename(columns={'SleepDay' : 'ActivityDate'}, inplace = True)"
   ]
  },
  {
   "cell_type": "code",
   "execution_count": 21,
   "id": "caac9a95",
   "metadata": {
    "execution": {
     "iopub.execute_input": "2023-09-07T05:16:21.235220Z",
     "iopub.status.busy": "2023-09-07T05:16:21.234867Z",
     "iopub.status.idle": "2023-09-07T05:16:21.249989Z",
     "shell.execute_reply": "2023-09-07T05:16:21.248176Z"
    },
    "papermill": {
     "duration": 0.04883,
     "end_time": "2023-09-07T05:16:21.252006",
     "exception": false,
     "start_time": "2023-09-07T05:16:21.203176",
     "status": "completed"
    },
    "tags": []
   },
   "outputs": [
    {
     "name": "stdout",
     "output_type": "stream",
     "text": [
      "<class 'pandas.core.frame.DataFrame'>\n",
      "Int64Index: 410 entries, 0 to 412\n",
      "Data columns (total 5 columns):\n",
      " #   Column              Non-Null Count  Dtype         \n",
      "---  ------              --------------  -----         \n",
      " 0   Id                  410 non-null    int64         \n",
      " 1   ActivityDate        410 non-null    datetime64[ns]\n",
      " 2   TotalSleepRecords   410 non-null    int64         \n",
      " 3   TotalMinutesAsleep  410 non-null    int64         \n",
      " 4   TotalTimeInBed      410 non-null    int64         \n",
      "dtypes: datetime64[ns](1), int64(4)\n",
      "memory usage: 19.2 KB\n"
     ]
    }
   ],
   "source": [
    "Sleep.info()"
   ]
  },
  {
   "cell_type": "markdown",
   "id": "f4f2feb1",
   "metadata": {
    "papermill": {
     "duration": 0.031123,
     "end_time": "2023-09-07T05:16:21.314307",
     "exception": false,
     "start_time": "2023-09-07T05:16:21.283184",
     "status": "completed"
    },
    "tags": []
   },
   "source": [
    "### 3. Importing and cleaning the heartrate_seconeds_merged.csv file"
   ]
  },
  {
   "cell_type": "code",
   "execution_count": 22,
   "id": "63ba0918",
   "metadata": {
    "execution": {
     "iopub.execute_input": "2023-09-07T05:16:21.378873Z",
     "iopub.status.busy": "2023-09-07T05:16:21.378189Z",
     "iopub.status.idle": "2023-09-07T05:16:23.953253Z",
     "shell.execute_reply": "2023-09-07T05:16:23.951917Z"
    },
    "papermill": {
     "duration": 2.611517,
     "end_time": "2023-09-07T05:16:23.956397",
     "exception": false,
     "start_time": "2023-09-07T05:16:21.344880",
     "status": "completed"
    },
    "tags": []
   },
   "outputs": [],
   "source": [
    "Heartrate = pd.read_csv('/kaggle/input/fitbit-database/heartrate_seconds_merged.csv')"
   ]
  },
  {
   "cell_type": "code",
   "execution_count": 23,
   "id": "e4b1aaa2",
   "metadata": {
    "execution": {
     "iopub.execute_input": "2023-09-07T05:16:24.019568Z",
     "iopub.status.busy": "2023-09-07T05:16:24.018951Z",
     "iopub.status.idle": "2023-09-07T05:16:24.027357Z",
     "shell.execute_reply": "2023-09-07T05:16:24.026657Z"
    },
    "papermill": {
     "duration": 0.042256,
     "end_time": "2023-09-07T05:16:24.029692",
     "exception": false,
     "start_time": "2023-09-07T05:16:23.987436",
     "status": "completed"
    },
    "tags": []
   },
   "outputs": [
    {
     "data": {
      "text/html": [
       "<div>\n",
       "<style scoped>\n",
       "    .dataframe tbody tr th:only-of-type {\n",
       "        vertical-align: middle;\n",
       "    }\n",
       "\n",
       "    .dataframe tbody tr th {\n",
       "        vertical-align: top;\n",
       "    }\n",
       "\n",
       "    .dataframe thead th {\n",
       "        text-align: right;\n",
       "    }\n",
       "</style>\n",
       "<table border=\"1\" class=\"dataframe\">\n",
       "  <thead>\n",
       "    <tr style=\"text-align: right;\">\n",
       "      <th></th>\n",
       "      <th>Id</th>\n",
       "      <th>Time</th>\n",
       "      <th>Value</th>\n",
       "    </tr>\n",
       "  </thead>\n",
       "  <tbody>\n",
       "    <tr>\n",
       "      <th>0</th>\n",
       "      <td>2022484408</td>\n",
       "      <td>4/12/2016 7:21:00 AM</td>\n",
       "      <td>97</td>\n",
       "    </tr>\n",
       "    <tr>\n",
       "      <th>1</th>\n",
       "      <td>2022484408</td>\n",
       "      <td>4/12/2016 7:21:05 AM</td>\n",
       "      <td>102</td>\n",
       "    </tr>\n",
       "    <tr>\n",
       "      <th>2</th>\n",
       "      <td>2022484408</td>\n",
       "      <td>4/12/2016 7:21:10 AM</td>\n",
       "      <td>105</td>\n",
       "    </tr>\n",
       "    <tr>\n",
       "      <th>3</th>\n",
       "      <td>2022484408</td>\n",
       "      <td>4/12/2016 7:21:20 AM</td>\n",
       "      <td>103</td>\n",
       "    </tr>\n",
       "    <tr>\n",
       "      <th>4</th>\n",
       "      <td>2022484408</td>\n",
       "      <td>4/12/2016 7:21:25 AM</td>\n",
       "      <td>101</td>\n",
       "    </tr>\n",
       "  </tbody>\n",
       "</table>\n",
       "</div>"
      ],
      "text/plain": [
       "           Id                  Time  Value\n",
       "0  2022484408  4/12/2016 7:21:00 AM     97\n",
       "1  2022484408  4/12/2016 7:21:05 AM    102\n",
       "2  2022484408  4/12/2016 7:21:10 AM    105\n",
       "3  2022484408  4/12/2016 7:21:20 AM    103\n",
       "4  2022484408  4/12/2016 7:21:25 AM    101"
      ]
     },
     "execution_count": 23,
     "metadata": {},
     "output_type": "execute_result"
    }
   ],
   "source": [
    "Heartrate.head()"
   ]
  },
  {
   "cell_type": "code",
   "execution_count": 24,
   "id": "f5f4b71f",
   "metadata": {
    "execution": {
     "iopub.execute_input": "2023-09-07T05:16:24.092833Z",
     "iopub.status.busy": "2023-09-07T05:16:24.092368Z",
     "iopub.status.idle": "2023-09-07T05:16:24.100866Z",
     "shell.execute_reply": "2023-09-07T05:16:24.100009Z"
    },
    "papermill": {
     "duration": 0.043483,
     "end_time": "2023-09-07T05:16:24.103437",
     "exception": false,
     "start_time": "2023-09-07T05:16:24.059954",
     "status": "completed"
    },
    "tags": []
   },
   "outputs": [
    {
     "name": "stdout",
     "output_type": "stream",
     "text": [
      "<class 'pandas.core.frame.DataFrame'>\n",
      "RangeIndex: 2483658 entries, 0 to 2483657\n",
      "Data columns (total 3 columns):\n",
      " #   Column  Dtype \n",
      "---  ------  ----- \n",
      " 0   Id      int64 \n",
      " 1   Time    object\n",
      " 2   Value   int64 \n",
      "dtypes: int64(2), object(1)\n",
      "memory usage: 56.8+ MB\n"
     ]
    }
   ],
   "source": [
    "Heartrate.info()"
   ]
  },
  {
   "cell_type": "code",
   "execution_count": 25,
   "id": "028c67d2",
   "metadata": {
    "execution": {
     "iopub.execute_input": "2023-09-07T05:16:24.167824Z",
     "iopub.status.busy": "2023-09-07T05:16:24.166877Z",
     "iopub.status.idle": "2023-09-07T05:16:24.266690Z",
     "shell.execute_reply": "2023-09-07T05:16:24.264886Z"
    },
    "papermill": {
     "duration": 0.134448,
     "end_time": "2023-09-07T05:16:24.268900",
     "exception": false,
     "start_time": "2023-09-07T05:16:24.134452",
     "status": "completed"
    },
    "tags": []
   },
   "outputs": [
    {
     "data": {
      "text/html": [
       "<div>\n",
       "<style scoped>\n",
       "    .dataframe tbody tr th:only-of-type {\n",
       "        vertical-align: middle;\n",
       "    }\n",
       "\n",
       "    .dataframe tbody tr th {\n",
       "        vertical-align: top;\n",
       "    }\n",
       "\n",
       "    .dataframe thead th {\n",
       "        text-align: right;\n",
       "    }\n",
       "</style>\n",
       "<table border=\"1\" class=\"dataframe\">\n",
       "  <thead>\n",
       "    <tr style=\"text-align: right;\">\n",
       "      <th></th>\n",
       "      <th>Id</th>\n",
       "      <th>Value</th>\n",
       "    </tr>\n",
       "  </thead>\n",
       "  <tbody>\n",
       "    <tr>\n",
       "      <th>count</th>\n",
       "      <td>2.483658e+06</td>\n",
       "      <td>2.483658e+06</td>\n",
       "    </tr>\n",
       "    <tr>\n",
       "      <th>mean</th>\n",
       "      <td>5.513765e+09</td>\n",
       "      <td>7.732842e+01</td>\n",
       "    </tr>\n",
       "    <tr>\n",
       "      <th>std</th>\n",
       "      <td>1.950224e+09</td>\n",
       "      <td>1.940450e+01</td>\n",
       "    </tr>\n",
       "    <tr>\n",
       "      <th>min</th>\n",
       "      <td>2.022484e+09</td>\n",
       "      <td>3.600000e+01</td>\n",
       "    </tr>\n",
       "    <tr>\n",
       "      <th>25%</th>\n",
       "      <td>4.388162e+09</td>\n",
       "      <td>6.300000e+01</td>\n",
       "    </tr>\n",
       "    <tr>\n",
       "      <th>50%</th>\n",
       "      <td>5.553957e+09</td>\n",
       "      <td>7.300000e+01</td>\n",
       "    </tr>\n",
       "    <tr>\n",
       "      <th>75%</th>\n",
       "      <td>6.962181e+09</td>\n",
       "      <td>8.800000e+01</td>\n",
       "    </tr>\n",
       "    <tr>\n",
       "      <th>max</th>\n",
       "      <td>8.877689e+09</td>\n",
       "      <td>2.030000e+02</td>\n",
       "    </tr>\n",
       "  </tbody>\n",
       "</table>\n",
       "</div>"
      ],
      "text/plain": [
       "                 Id         Value\n",
       "count  2.483658e+06  2.483658e+06\n",
       "mean   5.513765e+09  7.732842e+01\n",
       "std    1.950224e+09  1.940450e+01\n",
       "min    2.022484e+09  3.600000e+01\n",
       "25%    4.388162e+09  6.300000e+01\n",
       "50%    5.553957e+09  7.300000e+01\n",
       "75%    6.962181e+09  8.800000e+01\n",
       "max    8.877689e+09  2.030000e+02"
      ]
     },
     "execution_count": 25,
     "metadata": {},
     "output_type": "execute_result"
    }
   ],
   "source": [
    "Heartrate.describe()"
   ]
  },
  {
   "cell_type": "code",
   "execution_count": 26,
   "id": "c1df43b9",
   "metadata": {
    "execution": {
     "iopub.execute_input": "2023-09-07T05:16:24.334641Z",
     "iopub.status.busy": "2023-09-07T05:16:24.334226Z",
     "iopub.status.idle": "2023-09-07T05:16:24.349709Z",
     "shell.execute_reply": "2023-09-07T05:16:24.348761Z"
    },
    "papermill": {
     "duration": 0.05029,
     "end_time": "2023-09-07T05:16:24.351716",
     "exception": false,
     "start_time": "2023-09-07T05:16:24.301426",
     "status": "completed"
    },
    "tags": []
   },
   "outputs": [
    {
     "data": {
      "text/plain": [
       "14"
      ]
     },
     "execution_count": 26,
     "metadata": {},
     "output_type": "execute_result"
    }
   ],
   "source": [
    "len(Heartrate.Id.unique())"
   ]
  },
  {
   "cell_type": "code",
   "execution_count": 27,
   "id": "9ad89861",
   "metadata": {
    "execution": {
     "iopub.execute_input": "2023-09-07T05:16:24.417642Z",
     "iopub.status.busy": "2023-09-07T05:16:24.416848Z",
     "iopub.status.idle": "2023-09-07T05:16:25.312722Z",
     "shell.execute_reply": "2023-09-07T05:16:25.311342Z"
    },
    "papermill": {
     "duration": 0.930049,
     "end_time": "2023-09-07T05:16:25.314705",
     "exception": false,
     "start_time": "2023-09-07T05:16:24.384656",
     "status": "completed"
    },
    "tags": []
   },
   "outputs": [
    {
     "data": {
      "text/plain": [
       "0"
      ]
     },
     "execution_count": 27,
     "metadata": {},
     "output_type": "execute_result"
    }
   ],
   "source": [
    "Heartrate.duplicated().sum()"
   ]
  },
  {
   "cell_type": "markdown",
   "id": "c92a1629",
   "metadata": {
    "execution": {
     "iopub.execute_input": "2023-09-01T10:07:55.826509Z",
     "iopub.status.busy": "2023-09-01T10:07:55.826089Z",
     "iopub.status.idle": "2023-09-01T10:07:55.841963Z",
     "shell.execute_reply": "2023-09-01T10:07:55.840639Z",
     "shell.execute_reply.started": "2023-09-01T10:07:55.826477Z"
    },
    "papermill": {
     "duration": 0.030171,
     "end_time": "2023-09-07T05:16:25.375076",
     "exception": false,
     "start_time": "2023-09-07T05:16:25.344905",
     "status": "completed"
    },
    "tags": []
   },
   "source": [
    "There are 3 issuses with this data\n",
    "- The data observed the heartrate over each 5 seconds, which is unjoinable to Activity and Sleep but this this time range is useful for other analytics. Therefore, a copy will be made for further analysing while Heartrate will be transfered to keep the information of users each day with the heartrate value is the average heartrate in a day\n",
    "- The Time column needs a change in data type (to datetime), format and name to join the 2 data above\n",
    "- The Value column name should be changed to reflect correcly its value after joining\n",
    "\n",
    "Also, the number of unique user and total entries of Heartrate is less than Activity, there will be null rows in the columns of Heartrate after joining"
   ]
  },
  {
   "cell_type": "code",
   "execution_count": 28,
   "id": "081b1da7",
   "metadata": {
    "execution": {
     "iopub.execute_input": "2023-09-07T05:16:25.436479Z",
     "iopub.status.busy": "2023-09-07T05:16:25.436131Z",
     "iopub.status.idle": "2023-09-07T05:20:23.418311Z",
     "shell.execute_reply": "2023-09-07T05:20:23.417391Z"
    },
    "papermill": {
     "duration": 238.015703,
     "end_time": "2023-09-07T05:20:23.420648",
     "exception": false,
     "start_time": "2023-09-07T05:16:25.404945",
     "status": "completed"
    },
    "tags": []
   },
   "outputs": [],
   "source": [
    "# Change the data type of the Time column\n",
    "Heartrate['Time'] = pd.to_datetime(Heartrate.Time)"
   ]
  },
  {
   "cell_type": "code",
   "execution_count": 29,
   "id": "451350a3",
   "metadata": {
    "execution": {
     "iopub.execute_input": "2023-09-07T05:20:23.485253Z",
     "iopub.status.busy": "2023-09-07T05:20:23.484879Z",
     "iopub.status.idle": "2023-09-07T05:20:24.027406Z",
     "shell.execute_reply": "2023-09-07T05:20:24.026284Z"
    },
    "papermill": {
     "duration": 0.577793,
     "end_time": "2023-09-07T05:20:24.029887",
     "exception": false,
     "start_time": "2023-09-07T05:20:23.452094",
     "status": "completed"
    },
    "tags": []
   },
   "outputs": [],
   "source": [
    "# Change format of Heartrate column\n",
    "Heartrate.Time = Heartrate.Time.dt.date"
   ]
  },
  {
   "cell_type": "code",
   "execution_count": 30,
   "id": "5760afa8",
   "metadata": {
    "execution": {
     "iopub.execute_input": "2023-09-07T05:20:24.094092Z",
     "iopub.status.busy": "2023-09-07T05:20:24.093709Z",
     "iopub.status.idle": "2023-09-07T05:20:24.118240Z",
     "shell.execute_reply": "2023-09-07T05:20:24.117252Z"
    },
    "papermill": {
     "duration": 0.059065,
     "end_time": "2023-09-07T05:20:24.120490",
     "exception": false,
     "start_time": "2023-09-07T05:20:24.061425",
     "status": "completed"
    },
    "tags": []
   },
   "outputs": [],
   "source": [
    "# Change the names of Time and Value columns\n",
    "Heartrate = Heartrate.rename(columns={'Time' : 'ActivityDate', 'Value' : 'HeartRate'})"
   ]
  },
  {
   "cell_type": "code",
   "execution_count": 31,
   "id": "83d862f3",
   "metadata": {
    "execution": {
     "iopub.execute_input": "2023-09-07T05:20:24.184366Z",
     "iopub.status.busy": "2023-09-07T05:20:24.183517Z",
     "iopub.status.idle": "2023-09-07T05:20:24.480011Z",
     "shell.execute_reply": "2023-09-07T05:20:24.479280Z"
    },
    "papermill": {
     "duration": 0.330849,
     "end_time": "2023-09-07T05:20:24.482258",
     "exception": false,
     "start_time": "2023-09-07T05:20:24.151409",
     "status": "completed"
    },
    "tags": []
   },
   "outputs": [],
   "source": [
    "# Transfer the data, grouping the average heartrate per day by each user\n",
    "Heartrate = Heartrate.groupby(['Id', 'ActivityDate'])['HeartRate'].mean()\n",
    "Heartrate = pd.DataFrame(Heartrate).reset_index()"
   ]
  },
  {
   "cell_type": "code",
   "execution_count": 32,
   "id": "4bdd566d",
   "metadata": {
    "execution": {
     "iopub.execute_input": "2023-09-07T05:20:24.545407Z",
     "iopub.status.busy": "2023-09-07T05:20:24.544801Z",
     "iopub.status.idle": "2023-09-07T05:20:24.550942Z",
     "shell.execute_reply": "2023-09-07T05:20:24.549687Z"
    },
    "papermill": {
     "duration": 0.039924,
     "end_time": "2023-09-07T05:20:24.552742",
     "exception": false,
     "start_time": "2023-09-07T05:20:24.512818",
     "status": "completed"
    },
    "tags": []
   },
   "outputs": [],
   "source": [
    "# Change the data type of ActivityDate back to datetime\n",
    "Heartrate['ActivityDate'] = Heartrate['ActivityDate'].astype('datetime64')"
   ]
  },
  {
   "cell_type": "code",
   "execution_count": 33,
   "id": "613029b4",
   "metadata": {
    "execution": {
     "iopub.execute_input": "2023-09-07T05:20:24.616339Z",
     "iopub.status.busy": "2023-09-07T05:20:24.615779Z",
     "iopub.status.idle": "2023-09-07T05:20:24.626435Z",
     "shell.execute_reply": "2023-09-07T05:20:24.625235Z"
    },
    "papermill": {
     "duration": 0.046147,
     "end_time": "2023-09-07T05:20:24.628916",
     "exception": false,
     "start_time": "2023-09-07T05:20:24.582769",
     "status": "completed"
    },
    "tags": []
   },
   "outputs": [
    {
     "name": "stdout",
     "output_type": "stream",
     "text": [
      "<class 'pandas.core.frame.DataFrame'>\n",
      "RangeIndex: 334 entries, 0 to 333\n",
      "Data columns (total 3 columns):\n",
      " #   Column        Non-Null Count  Dtype         \n",
      "---  ------        --------------  -----         \n",
      " 0   Id            334 non-null    int64         \n",
      " 1   ActivityDate  334 non-null    datetime64[ns]\n",
      " 2   HeartRate     334 non-null    float64       \n",
      "dtypes: datetime64[ns](1), float64(1), int64(1)\n",
      "memory usage: 8.0 KB\n"
     ]
    }
   ],
   "source": [
    "Heartrate.info()"
   ]
  },
  {
   "cell_type": "markdown",
   "id": "2fcc1991",
   "metadata": {
    "papermill": {
     "duration": 0.030214,
     "end_time": "2023-09-07T05:20:24.690041",
     "exception": false,
     "start_time": "2023-09-07T05:20:24.659827",
     "status": "completed"
    },
    "tags": []
   },
   "source": [
    "### 4. Merge Activity, Sleep and Heartrate for analysis"
   ]
  },
  {
   "cell_type": "code",
   "execution_count": 34,
   "id": "a81f5300",
   "metadata": {
    "execution": {
     "iopub.execute_input": "2023-09-07T05:20:24.752524Z",
     "iopub.status.busy": "2023-09-07T05:20:24.751424Z",
     "iopub.status.idle": "2023-09-07T05:20:24.764123Z",
     "shell.execute_reply": "2023-09-07T05:20:24.762923Z"
    },
    "papermill": {
     "duration": 0.046478,
     "end_time": "2023-09-07T05:20:24.766484",
     "exception": false,
     "start_time": "2023-09-07T05:20:24.720006",
     "status": "completed"
    },
    "tags": []
   },
   "outputs": [],
   "source": [
    "# Merge Activity and Sleep on Id and ActivityDate, using outer join to keep all the original values\n",
    "merge1 = merge(Activity, Sleep, on = ['Id', 'ActivityDate'], how = 'outer')"
   ]
  },
  {
   "cell_type": "code",
   "execution_count": 35,
   "id": "cf6ac505",
   "metadata": {
    "execution": {
     "iopub.execute_input": "2023-09-07T05:20:24.829866Z",
     "iopub.status.busy": "2023-09-07T05:20:24.829035Z",
     "iopub.status.idle": "2023-09-07T05:20:24.839153Z",
     "shell.execute_reply": "2023-09-07T05:20:24.837491Z"
    },
    "papermill": {
     "duration": 0.044672,
     "end_time": "2023-09-07T05:20:24.841477",
     "exception": false,
     "start_time": "2023-09-07T05:20:24.796805",
     "status": "completed"
    },
    "tags": []
   },
   "outputs": [],
   "source": [
    "# Merge merge1 and Heartrate\n",
    "Data = merge(merge1, Heartrate, on = ['Id', 'ActivityDate'], how = 'outer')"
   ]
  },
  {
   "cell_type": "code",
   "execution_count": 36,
   "id": "b57fb689",
   "metadata": {
    "execution": {
     "iopub.execute_input": "2023-09-07T05:20:24.905778Z",
     "iopub.status.busy": "2023-09-07T05:20:24.905128Z",
     "iopub.status.idle": "2023-09-07T05:20:24.964942Z",
     "shell.execute_reply": "2023-09-07T05:20:24.964188Z"
    },
    "papermill": {
     "duration": 0.093911,
     "end_time": "2023-09-07T05:20:24.966999",
     "exception": false,
     "start_time": "2023-09-07T05:20:24.873088",
     "status": "completed"
    },
    "tags": []
   },
   "outputs": [
    {
     "name": "stdout",
     "output_type": "stream",
     "text": [
      "<class 'pandas.core.frame.DataFrame'>\n",
      "Int64Index: 940 entries, 0 to 939\n",
      "Data columns (total 19 columns):\n",
      " #   Column                    Non-Null Count  Dtype         \n",
      "---  ------                    --------------  -----         \n",
      " 0   Id                        940 non-null    int64         \n",
      " 1   ActivityDate              940 non-null    datetime64[ns]\n",
      " 2   TotalSteps                940 non-null    int64         \n",
      " 3   TotalDistance             940 non-null    float64       \n",
      " 4   TrackerDistance           940 non-null    float64       \n",
      " 5   LoggedActivitiesDistance  940 non-null    float64       \n",
      " 6   VeryActiveDistance        940 non-null    float64       \n",
      " 7   ModeratelyActiveDistance  940 non-null    float64       \n",
      " 8   LightActiveDistance       940 non-null    float64       \n",
      " 9   SedentaryActiveDistance   940 non-null    float64       \n",
      " 10  VeryActiveMinutes         940 non-null    int64         \n",
      " 11  FairlyActiveMinutes       940 non-null    int64         \n",
      " 12  LightlyActiveMinutes      940 non-null    int64         \n",
      " 13  SedentaryMinutes          940 non-null    int64         \n",
      " 14  Calories                  940 non-null    int64         \n",
      " 15  TotalSleepRecords         410 non-null    float64       \n",
      " 16  TotalMinutesAsleep        410 non-null    float64       \n",
      " 17  TotalTimeInBed            410 non-null    float64       \n",
      " 18  HeartRate                 334 non-null    float64       \n",
      "dtypes: datetime64[ns](1), float64(11), int64(7)\n",
      "memory usage: 146.9 KB\n"
     ]
    },
    {
     "data": {
      "text/html": [
       "<div>\n",
       "<style scoped>\n",
       "    .dataframe tbody tr th:only-of-type {\n",
       "        vertical-align: middle;\n",
       "    }\n",
       "\n",
       "    .dataframe tbody tr th {\n",
       "        vertical-align: top;\n",
       "    }\n",
       "\n",
       "    .dataframe thead th {\n",
       "        text-align: right;\n",
       "    }\n",
       "</style>\n",
       "<table border=\"1\" class=\"dataframe\">\n",
       "  <thead>\n",
       "    <tr style=\"text-align: right;\">\n",
       "      <th></th>\n",
       "      <th>Id</th>\n",
       "      <th>TotalSteps</th>\n",
       "      <th>TotalDistance</th>\n",
       "      <th>TrackerDistance</th>\n",
       "      <th>LoggedActivitiesDistance</th>\n",
       "      <th>VeryActiveDistance</th>\n",
       "      <th>ModeratelyActiveDistance</th>\n",
       "      <th>LightActiveDistance</th>\n",
       "      <th>SedentaryActiveDistance</th>\n",
       "      <th>VeryActiveMinutes</th>\n",
       "      <th>FairlyActiveMinutes</th>\n",
       "      <th>LightlyActiveMinutes</th>\n",
       "      <th>SedentaryMinutes</th>\n",
       "      <th>Calories</th>\n",
       "      <th>TotalSleepRecords</th>\n",
       "      <th>TotalMinutesAsleep</th>\n",
       "      <th>TotalTimeInBed</th>\n",
       "      <th>HeartRate</th>\n",
       "    </tr>\n",
       "  </thead>\n",
       "  <tbody>\n",
       "    <tr>\n",
       "      <th>count</th>\n",
       "      <td>9.400000e+02</td>\n",
       "      <td>940.000000</td>\n",
       "      <td>940.000000</td>\n",
       "      <td>940.000000</td>\n",
       "      <td>940.000000</td>\n",
       "      <td>940.000000</td>\n",
       "      <td>940.000000</td>\n",
       "      <td>940.000000</td>\n",
       "      <td>940.000000</td>\n",
       "      <td>940.000000</td>\n",
       "      <td>940.000000</td>\n",
       "      <td>940.000000</td>\n",
       "      <td>940.000000</td>\n",
       "      <td>940.000000</td>\n",
       "      <td>410.000000</td>\n",
       "      <td>410.000000</td>\n",
       "      <td>410.000000</td>\n",
       "      <td>334.000000</td>\n",
       "    </tr>\n",
       "    <tr>\n",
       "      <th>mean</th>\n",
       "      <td>4.855407e+09</td>\n",
       "      <td>7637.910638</td>\n",
       "      <td>5.489702</td>\n",
       "      <td>5.475351</td>\n",
       "      <td>0.108171</td>\n",
       "      <td>1.502681</td>\n",
       "      <td>0.567543</td>\n",
       "      <td>3.340819</td>\n",
       "      <td>0.001606</td>\n",
       "      <td>21.164894</td>\n",
       "      <td>13.564894</td>\n",
       "      <td>192.812766</td>\n",
       "      <td>991.210638</td>\n",
       "      <td>2303.609574</td>\n",
       "      <td>1.119512</td>\n",
       "      <td>419.173171</td>\n",
       "      <td>458.482927</td>\n",
       "      <td>78.614059</td>\n",
       "    </tr>\n",
       "    <tr>\n",
       "      <th>std</th>\n",
       "      <td>2.424805e+09</td>\n",
       "      <td>5087.150742</td>\n",
       "      <td>3.924606</td>\n",
       "      <td>3.907276</td>\n",
       "      <td>0.619897</td>\n",
       "      <td>2.658941</td>\n",
       "      <td>0.883580</td>\n",
       "      <td>2.040655</td>\n",
       "      <td>0.007346</td>\n",
       "      <td>32.844803</td>\n",
       "      <td>19.987404</td>\n",
       "      <td>109.174700</td>\n",
       "      <td>301.267437</td>\n",
       "      <td>718.166862</td>\n",
       "      <td>0.346636</td>\n",
       "      <td>118.635918</td>\n",
       "      <td>127.455140</td>\n",
       "      <td>10.613254</td>\n",
       "    </tr>\n",
       "    <tr>\n",
       "      <th>min</th>\n",
       "      <td>1.503960e+09</td>\n",
       "      <td>0.000000</td>\n",
       "      <td>0.000000</td>\n",
       "      <td>0.000000</td>\n",
       "      <td>0.000000</td>\n",
       "      <td>0.000000</td>\n",
       "      <td>0.000000</td>\n",
       "      <td>0.000000</td>\n",
       "      <td>0.000000</td>\n",
       "      <td>0.000000</td>\n",
       "      <td>0.000000</td>\n",
       "      <td>0.000000</td>\n",
       "      <td>0.000000</td>\n",
       "      <td>0.000000</td>\n",
       "      <td>1.000000</td>\n",
       "      <td>58.000000</td>\n",
       "      <td>61.000000</td>\n",
       "      <td>59.377175</td>\n",
       "    </tr>\n",
       "    <tr>\n",
       "      <th>25%</th>\n",
       "      <td>2.320127e+09</td>\n",
       "      <td>3789.750000</td>\n",
       "      <td>2.620000</td>\n",
       "      <td>2.620000</td>\n",
       "      <td>0.000000</td>\n",
       "      <td>0.000000</td>\n",
       "      <td>0.000000</td>\n",
       "      <td>1.945000</td>\n",
       "      <td>0.000000</td>\n",
       "      <td>0.000000</td>\n",
       "      <td>0.000000</td>\n",
       "      <td>127.000000</td>\n",
       "      <td>729.750000</td>\n",
       "      <td>1828.500000</td>\n",
       "      <td>1.000000</td>\n",
       "      <td>361.000000</td>\n",
       "      <td>403.750000</td>\n",
       "      <td>70.465679</td>\n",
       "    </tr>\n",
       "    <tr>\n",
       "      <th>50%</th>\n",
       "      <td>4.445115e+09</td>\n",
       "      <td>7405.500000</td>\n",
       "      <td>5.245000</td>\n",
       "      <td>5.245000</td>\n",
       "      <td>0.000000</td>\n",
       "      <td>0.210000</td>\n",
       "      <td>0.240000</td>\n",
       "      <td>3.365000</td>\n",
       "      <td>0.000000</td>\n",
       "      <td>4.000000</td>\n",
       "      <td>6.000000</td>\n",
       "      <td>199.000000</td>\n",
       "      <td>1057.500000</td>\n",
       "      <td>2134.000000</td>\n",
       "      <td>1.000000</td>\n",
       "      <td>432.500000</td>\n",
       "      <td>463.000000</td>\n",
       "      <td>77.494179</td>\n",
       "    </tr>\n",
       "    <tr>\n",
       "      <th>75%</th>\n",
       "      <td>6.962181e+09</td>\n",
       "      <td>10727.000000</td>\n",
       "      <td>7.712500</td>\n",
       "      <td>7.710000</td>\n",
       "      <td>0.000000</td>\n",
       "      <td>2.052500</td>\n",
       "      <td>0.800000</td>\n",
       "      <td>4.782500</td>\n",
       "      <td>0.000000</td>\n",
       "      <td>32.000000</td>\n",
       "      <td>19.000000</td>\n",
       "      <td>264.000000</td>\n",
       "      <td>1229.500000</td>\n",
       "      <td>2793.250000</td>\n",
       "      <td>1.000000</td>\n",
       "      <td>490.000000</td>\n",
       "      <td>526.000000</td>\n",
       "      <td>84.933171</td>\n",
       "    </tr>\n",
       "    <tr>\n",
       "      <th>max</th>\n",
       "      <td>8.877689e+09</td>\n",
       "      <td>36019.000000</td>\n",
       "      <td>28.030001</td>\n",
       "      <td>28.030001</td>\n",
       "      <td>4.942142</td>\n",
       "      <td>21.920000</td>\n",
       "      <td>6.480000</td>\n",
       "      <td>10.710000</td>\n",
       "      <td>0.110000</td>\n",
       "      <td>210.000000</td>\n",
       "      <td>143.000000</td>\n",
       "      <td>518.000000</td>\n",
       "      <td>1440.000000</td>\n",
       "      <td>4900.000000</td>\n",
       "      <td>3.000000</td>\n",
       "      <td>796.000000</td>\n",
       "      <td>961.000000</td>\n",
       "      <td>109.789625</td>\n",
       "    </tr>\n",
       "  </tbody>\n",
       "</table>\n",
       "</div>"
      ],
      "text/plain": [
       "                 Id    TotalSteps  TotalDistance  TrackerDistance  \\\n",
       "count  9.400000e+02    940.000000     940.000000       940.000000   \n",
       "mean   4.855407e+09   7637.910638       5.489702         5.475351   \n",
       "std    2.424805e+09   5087.150742       3.924606         3.907276   \n",
       "min    1.503960e+09      0.000000       0.000000         0.000000   \n",
       "25%    2.320127e+09   3789.750000       2.620000         2.620000   \n",
       "50%    4.445115e+09   7405.500000       5.245000         5.245000   \n",
       "75%    6.962181e+09  10727.000000       7.712500         7.710000   \n",
       "max    8.877689e+09  36019.000000      28.030001        28.030001   \n",
       "\n",
       "       LoggedActivitiesDistance  VeryActiveDistance  ModeratelyActiveDistance  \\\n",
       "count                940.000000          940.000000                940.000000   \n",
       "mean                   0.108171            1.502681                  0.567543   \n",
       "std                    0.619897            2.658941                  0.883580   \n",
       "min                    0.000000            0.000000                  0.000000   \n",
       "25%                    0.000000            0.000000                  0.000000   \n",
       "50%                    0.000000            0.210000                  0.240000   \n",
       "75%                    0.000000            2.052500                  0.800000   \n",
       "max                    4.942142           21.920000                  6.480000   \n",
       "\n",
       "       LightActiveDistance  SedentaryActiveDistance  VeryActiveMinutes  \\\n",
       "count           940.000000               940.000000         940.000000   \n",
       "mean              3.340819                 0.001606          21.164894   \n",
       "std               2.040655                 0.007346          32.844803   \n",
       "min               0.000000                 0.000000           0.000000   \n",
       "25%               1.945000                 0.000000           0.000000   \n",
       "50%               3.365000                 0.000000           4.000000   \n",
       "75%               4.782500                 0.000000          32.000000   \n",
       "max              10.710000                 0.110000         210.000000   \n",
       "\n",
       "       FairlyActiveMinutes  LightlyActiveMinutes  SedentaryMinutes  \\\n",
       "count           940.000000            940.000000        940.000000   \n",
       "mean             13.564894            192.812766        991.210638   \n",
       "std              19.987404            109.174700        301.267437   \n",
       "min               0.000000              0.000000          0.000000   \n",
       "25%               0.000000            127.000000        729.750000   \n",
       "50%               6.000000            199.000000       1057.500000   \n",
       "75%              19.000000            264.000000       1229.500000   \n",
       "max             143.000000            518.000000       1440.000000   \n",
       "\n",
       "          Calories  TotalSleepRecords  TotalMinutesAsleep  TotalTimeInBed  \\\n",
       "count   940.000000         410.000000          410.000000      410.000000   \n",
       "mean   2303.609574           1.119512          419.173171      458.482927   \n",
       "std     718.166862           0.346636          118.635918      127.455140   \n",
       "min       0.000000           1.000000           58.000000       61.000000   \n",
       "25%    1828.500000           1.000000          361.000000      403.750000   \n",
       "50%    2134.000000           1.000000          432.500000      463.000000   \n",
       "75%    2793.250000           1.000000          490.000000      526.000000   \n",
       "max    4900.000000           3.000000          796.000000      961.000000   \n",
       "\n",
       "        HeartRate  \n",
       "count  334.000000  \n",
       "mean    78.614059  \n",
       "std     10.613254  \n",
       "min     59.377175  \n",
       "25%     70.465679  \n",
       "50%     77.494179  \n",
       "75%     84.933171  \n",
       "max    109.789625  "
      ]
     },
     "execution_count": 36,
     "metadata": {},
     "output_type": "execute_result"
    }
   ],
   "source": [
    "# Have a overview check at Data\n",
    "Data.info()\n",
    "Data.describe()"
   ]
  },
  {
   "cell_type": "code",
   "execution_count": 37,
   "id": "1efd9ad2",
   "metadata": {
    "execution": {
     "iopub.execute_input": "2023-09-07T05:20:25.032288Z",
     "iopub.status.busy": "2023-09-07T05:20:25.031972Z",
     "iopub.status.idle": "2023-09-07T05:20:25.049322Z",
     "shell.execute_reply": "2023-09-07T05:20:25.047933Z"
    },
    "papermill": {
     "duration": 0.053697,
     "end_time": "2023-09-07T05:20:25.051958",
     "exception": false,
     "start_time": "2023-09-07T05:20:24.998261",
     "status": "completed"
    },
    "tags": []
   },
   "outputs": [],
   "source": [
    "# Save Data to the output for next analytic steps\n",
    "Data.to_csv('Fitbit_data.csv', index = False)"
   ]
  },
  {
   "cell_type": "markdown",
   "id": "80b7d10d",
   "metadata": {
    "papermill": {
     "duration": 0.031428,
     "end_time": "2023-09-07T05:20:25.114935",
     "exception": false,
     "start_time": "2023-09-07T05:20:25.083507",
     "status": "completed"
    },
    "tags": []
   },
   "source": [
    "### Insights from data exploration\n",
    "The dataset show limitation in sample size. The number of users observed is small (33) and not all of 33 users share the heart rate and sleep information so the analytics within and crossing the 3 chosen .csv files does not have high confidence interval.\n",
    "\n",
    "The result should be used as recommendation only and further data collection & calculation should be executed to generate a result with high confidence interval & low margin of error"
   ]
  },
  {
   "cell_type": "markdown",
   "id": "b89a0e89",
   "metadata": {
    "papermill": {
     "duration": 0.031107,
     "end_time": "2023-09-07T05:20:25.178265",
     "exception": false,
     "start_time": "2023-09-07T05:20:25.147158",
     "status": "completed"
    },
    "tags": []
   },
   "source": [
    "# ANALYZE & SHARE"
   ]
  },
  {
   "cell_type": "markdown",
   "id": "fb8a7dd8",
   "metadata": {
    "execution": {
     "iopub.execute_input": "2023-09-04T14:59:34.040159Z",
     "iopub.status.busy": "2023-09-04T14:59:34.039737Z",
     "iopub.status.idle": "2023-09-04T14:59:34.086898Z",
     "shell.execute_reply": "2023-09-04T14:59:34.085255Z",
     "shell.execute_reply.started": "2023-09-04T14:59:34.040121Z"
    },
    "papermill": {
     "duration": 0.031319,
     "end_time": "2023-09-07T05:20:25.241066",
     "exception": false,
     "start_time": "2023-09-07T05:20:25.209747",
     "status": "completed"
    },
    "tags": []
   },
   "source": [
    "### 1. Correlation"
   ]
  },
  {
   "cell_type": "markdown",
   "id": "ecb3937e",
   "metadata": {
    "papermill": {
     "duration": 0.031095,
     "end_time": "2023-09-07T05:20:25.305032",
     "exception": false,
     "start_time": "2023-09-07T05:20:25.273937",
     "status": "completed"
    },
    "tags": []
   },
   "source": [
    "This session aims to find out the correlation between columns of Data. To be more specific, the columns TotalSteps, TotalDistance, Calories, TotalMinutesAsleep and Calories would be examined"
   ]
  },
  {
   "cell_type": "code",
   "execution_count": 38,
   "id": "1c79bde9",
   "metadata": {
    "execution": {
     "iopub.execute_input": "2023-09-07T05:20:25.371279Z",
     "iopub.status.busy": "2023-09-07T05:20:25.370144Z",
     "iopub.status.idle": "2023-09-07T05:20:25.384489Z",
     "shell.execute_reply": "2023-09-07T05:20:25.383079Z"
    },
    "papermill": {
     "duration": 0.049113,
     "end_time": "2023-09-07T05:20:25.386441",
     "exception": false,
     "start_time": "2023-09-07T05:20:25.337328",
     "status": "completed"
    },
    "tags": []
   },
   "outputs": [
    {
     "data": {
      "text/html": [
       "<div>\n",
       "<style scoped>\n",
       "    .dataframe tbody tr th:only-of-type {\n",
       "        vertical-align: middle;\n",
       "    }\n",
       "\n",
       "    .dataframe tbody tr th {\n",
       "        vertical-align: top;\n",
       "    }\n",
       "\n",
       "    .dataframe thead th {\n",
       "        text-align: right;\n",
       "    }\n",
       "</style>\n",
       "<table border=\"1\" class=\"dataframe\">\n",
       "  <thead>\n",
       "    <tr style=\"text-align: right;\">\n",
       "      <th></th>\n",
       "      <th>TotalSteps</th>\n",
       "      <th>TotalDistance</th>\n",
       "    </tr>\n",
       "  </thead>\n",
       "  <tbody>\n",
       "    <tr>\n",
       "      <th>TotalSteps</th>\n",
       "      <td>1.000000</td>\n",
       "      <td>0.985369</td>\n",
       "    </tr>\n",
       "    <tr>\n",
       "      <th>TotalDistance</th>\n",
       "      <td>0.985369</td>\n",
       "      <td>1.000000</td>\n",
       "    </tr>\n",
       "  </tbody>\n",
       "</table>\n",
       "</div>"
      ],
      "text/plain": [
       "               TotalSteps  TotalDistance\n",
       "TotalSteps       1.000000       0.985369\n",
       "TotalDistance    0.985369       1.000000"
      ]
     },
     "execution_count": 38,
     "metadata": {},
     "output_type": "execute_result"
    }
   ],
   "source": [
    "Data[['TotalSteps', 'TotalDistance']].corr()"
   ]
  },
  {
   "cell_type": "code",
   "execution_count": 39,
   "id": "e1e9f49a",
   "metadata": {
    "execution": {
     "iopub.execute_input": "2023-09-07T05:20:25.451474Z",
     "iopub.status.busy": "2023-09-07T05:20:25.451151Z",
     "iopub.status.idle": "2023-09-07T05:20:25.738671Z",
     "shell.execute_reply": "2023-09-07T05:20:25.737036Z"
    },
    "papermill": {
     "duration": 0.323021,
     "end_time": "2023-09-07T05:20:25.741768",
     "exception": false,
     "start_time": "2023-09-07T05:20:25.418747",
     "status": "completed"
    },
    "tags": []
   },
   "outputs": [
    {
     "data": {
      "image/png": "[encoded data removed]",
      "text/plain": [
       "<Figure size 640x480 with 1 Axes>"
      ]
     },
     "metadata": {},
     "output_type": "display_data"
    }
   ],
   "source": [
    "Data[['TotalSteps', 'TotalDistance']].plot.scatter(x = 'TotalSteps', y = 'TotalDistance');"
   ]
  },
  {
   "cell_type": "code",
   "execution_count": 40,
   "id": "2e28577f",
   "metadata": {
    "execution": {
     "iopub.execute_input": "2023-09-07T05:20:25.808629Z",
     "iopub.status.busy": "2023-09-07T05:20:25.808238Z",
     "iopub.status.idle": "2023-09-07T05:20:25.819993Z",
     "shell.execute_reply": "2023-09-07T05:20:25.818185Z"
    },
    "papermill": {
     "duration": 0.047961,
     "end_time": "2023-09-07T05:20:25.822494",
     "exception": false,
     "start_time": "2023-09-07T05:20:25.774533",
     "status": "completed"
    },
    "tags": []
   },
   "outputs": [
    {
     "data": {
      "text/html": [
       "<div>\n",
       "<style scoped>\n",
       "    .dataframe tbody tr th:only-of-type {\n",
       "        vertical-align: middle;\n",
       "    }\n",
       "\n",
       "    .dataframe tbody tr th {\n",
       "        vertical-align: top;\n",
       "    }\n",
       "\n",
       "    .dataframe thead th {\n",
       "        text-align: right;\n",
       "    }\n",
       "</style>\n",
       "<table border=\"1\" class=\"dataframe\">\n",
       "  <thead>\n",
       "    <tr style=\"text-align: right;\">\n",
       "      <th></th>\n",
       "      <th>TotalSteps</th>\n",
       "      <th>TotalMinutesAsleep</th>\n",
       "    </tr>\n",
       "  </thead>\n",
       "  <tbody>\n",
       "    <tr>\n",
       "      <th>TotalSteps</th>\n",
       "      <td>1.000000</td>\n",
       "      <td>-0.190344</td>\n",
       "    </tr>\n",
       "    <tr>\n",
       "      <th>TotalMinutesAsleep</th>\n",
       "      <td>-0.190344</td>\n",
       "      <td>1.000000</td>\n",
       "    </tr>\n",
       "  </tbody>\n",
       "</table>\n",
       "</div>"
      ],
      "text/plain": [
       "                    TotalSteps  TotalMinutesAsleep\n",
       "TotalSteps            1.000000           -0.190344\n",
       "TotalMinutesAsleep   -0.190344            1.000000"
      ]
     },
     "execution_count": 40,
     "metadata": {},
     "output_type": "execute_result"
    }
   ],
   "source": [
    "Data[['TotalSteps', 'TotalMinutesAsleep']].corr()"
   ]
  },
  {
   "cell_type": "code",
   "execution_count": 41,
   "id": "9db1db27",
   "metadata": {
    "execution": {
     "iopub.execute_input": "2023-09-07T05:20:25.888693Z",
     "iopub.status.busy": "2023-09-07T05:20:25.887483Z",
     "iopub.status.idle": "2023-09-07T05:20:25.899331Z",
     "shell.execute_reply": "2023-09-07T05:20:25.898339Z"
    },
    "papermill": {
     "duration": 0.047163,
     "end_time": "2023-09-07T05:20:25.901448",
     "exception": false,
     "start_time": "2023-09-07T05:20:25.854285",
     "status": "completed"
    },
    "tags": []
   },
   "outputs": [
    {
     "data": {
      "text/html": [
       "<div>\n",
       "<style scoped>\n",
       "    .dataframe tbody tr th:only-of-type {\n",
       "        vertical-align: middle;\n",
       "    }\n",
       "\n",
       "    .dataframe tbody tr th {\n",
       "        vertical-align: top;\n",
       "    }\n",
       "\n",
       "    .dataframe thead th {\n",
       "        text-align: right;\n",
       "    }\n",
       "</style>\n",
       "<table border=\"1\" class=\"dataframe\">\n",
       "  <thead>\n",
       "    <tr style=\"text-align: right;\">\n",
       "      <th></th>\n",
       "      <th>TotalSteps</th>\n",
       "      <th>HeartRate</th>\n",
       "    </tr>\n",
       "  </thead>\n",
       "  <tbody>\n",
       "    <tr>\n",
       "      <th>TotalSteps</th>\n",
       "      <td>1.000000</td>\n",
       "      <td>0.168822</td>\n",
       "    </tr>\n",
       "    <tr>\n",
       "      <th>HeartRate</th>\n",
       "      <td>0.168822</td>\n",
       "      <td>1.000000</td>\n",
       "    </tr>\n",
       "  </tbody>\n",
       "</table>\n",
       "</div>"
      ],
      "text/plain": [
       "            TotalSteps  HeartRate\n",
       "TotalSteps    1.000000   0.168822\n",
       "HeartRate     0.168822   1.000000"
      ]
     },
     "execution_count": 41,
     "metadata": {},
     "output_type": "execute_result"
    }
   ],
   "source": [
    "Data[['TotalSteps', 'HeartRate']].corr()"
   ]
  },
  {
   "cell_type": "code",
   "execution_count": 42,
   "id": "d6368376",
   "metadata": {
    "execution": {
     "iopub.execute_input": "2023-09-07T05:20:25.967376Z",
     "iopub.status.busy": "2023-09-07T05:20:25.967010Z",
     "iopub.status.idle": "2023-09-07T05:20:25.978903Z",
     "shell.execute_reply": "2023-09-07T05:20:25.977806Z"
    },
    "papermill": {
     "duration": 0.047554,
     "end_time": "2023-09-07T05:20:25.981178",
     "exception": false,
     "start_time": "2023-09-07T05:20:25.933624",
     "status": "completed"
    },
    "tags": []
   },
   "outputs": [
    {
     "data": {
      "text/html": [
       "<div>\n",
       "<style scoped>\n",
       "    .dataframe tbody tr th:only-of-type {\n",
       "        vertical-align: middle;\n",
       "    }\n",
       "\n",
       "    .dataframe tbody tr th {\n",
       "        vertical-align: top;\n",
       "    }\n",
       "\n",
       "    .dataframe thead th {\n",
       "        text-align: right;\n",
       "    }\n",
       "</style>\n",
       "<table border=\"1\" class=\"dataframe\">\n",
       "  <thead>\n",
       "    <tr style=\"text-align: right;\">\n",
       "      <th></th>\n",
       "      <th>TotalSteps</th>\n",
       "      <th>Calories</th>\n",
       "    </tr>\n",
       "  </thead>\n",
       "  <tbody>\n",
       "    <tr>\n",
       "      <th>TotalSteps</th>\n",
       "      <td>1.000000</td>\n",
       "      <td>0.591568</td>\n",
       "    </tr>\n",
       "    <tr>\n",
       "      <th>Calories</th>\n",
       "      <td>0.591568</td>\n",
       "      <td>1.000000</td>\n",
       "    </tr>\n",
       "  </tbody>\n",
       "</table>\n",
       "</div>"
      ],
      "text/plain": [
       "            TotalSteps  Calories\n",
       "TotalSteps    1.000000  0.591568\n",
       "Calories      0.591568  1.000000"
      ]
     },
     "execution_count": 42,
     "metadata": {},
     "output_type": "execute_result"
    }
   ],
   "source": [
    "Data[['TotalSteps', 'Calories']].corr()"
   ]
  },
  {
   "cell_type": "code",
   "execution_count": 43,
   "id": "12a5d29d",
   "metadata": {
    "execution": {
     "iopub.execute_input": "2023-09-07T05:20:26.048994Z",
     "iopub.status.busy": "2023-09-07T05:20:26.048650Z",
     "iopub.status.idle": "2023-09-07T05:20:26.253858Z",
     "shell.execute_reply": "2023-09-07T05:20:26.252869Z"
    },
    "papermill": {
     "duration": 0.240964,
     "end_time": "2023-09-07T05:20:26.255717",
     "exception": false,
     "start_time": "2023-09-07T05:20:26.014753",
     "status": "completed"
    },
    "tags": []
   },
   "outputs": [
    {
     "data": {
      "image/png": "[encoded data removed]",
      "text/plain": [
       "<Figure size 640x480 with 1 Axes>"
      ]
     },
     "metadata": {},
     "output_type": "display_data"
    }
   ],
   "source": [
    "Data[['TotalSteps', 'Calories']].plot.scatter(x = 'TotalSteps', y = 'Calories');"
   ]
  },
  {
   "cell_type": "code",
   "execution_count": 44,
   "id": "a860d935",
   "metadata": {
    "execution": {
     "iopub.execute_input": "2023-09-07T05:20:26.321159Z",
     "iopub.status.busy": "2023-09-07T05:20:26.320834Z",
     "iopub.status.idle": "2023-09-07T05:20:26.332213Z",
     "shell.execute_reply": "2023-09-07T05:20:26.331125Z"
    },
    "papermill": {
     "duration": 0.046757,
     "end_time": "2023-09-07T05:20:26.334492",
     "exception": false,
     "start_time": "2023-09-07T05:20:26.287735",
     "status": "completed"
    },
    "tags": []
   },
   "outputs": [
    {
     "data": {
      "text/html": [
       "<div>\n",
       "<style scoped>\n",
       "    .dataframe tbody tr th:only-of-type {\n",
       "        vertical-align: middle;\n",
       "    }\n",
       "\n",
       "    .dataframe tbody tr th {\n",
       "        vertical-align: top;\n",
       "    }\n",
       "\n",
       "    .dataframe thead th {\n",
       "        text-align: right;\n",
       "    }\n",
       "</style>\n",
       "<table border=\"1\" class=\"dataframe\">\n",
       "  <thead>\n",
       "    <tr style=\"text-align: right;\">\n",
       "      <th></th>\n",
       "      <th>TotalDistance</th>\n",
       "      <th>HeartRate</th>\n",
       "    </tr>\n",
       "  </thead>\n",
       "  <tbody>\n",
       "    <tr>\n",
       "      <th>TotalDistance</th>\n",
       "      <td>1.000000</td>\n",
       "      <td>0.168793</td>\n",
       "    </tr>\n",
       "    <tr>\n",
       "      <th>HeartRate</th>\n",
       "      <td>0.168793</td>\n",
       "      <td>1.000000</td>\n",
       "    </tr>\n",
       "  </tbody>\n",
       "</table>\n",
       "</div>"
      ],
      "text/plain": [
       "               TotalDistance  HeartRate\n",
       "TotalDistance       1.000000   0.168793\n",
       "HeartRate           0.168793   1.000000"
      ]
     },
     "execution_count": 44,
     "metadata": {},
     "output_type": "execute_result"
    }
   ],
   "source": [
    "Data[['TotalDistance', 'HeartRate']].corr()"
   ]
  },
  {
   "cell_type": "code",
   "execution_count": 45,
   "id": "a2dd0c86",
   "metadata": {
    "execution": {
     "iopub.execute_input": "2023-09-07T05:20:26.402002Z",
     "iopub.status.busy": "2023-09-07T05:20:26.401664Z",
     "iopub.status.idle": "2023-09-07T05:20:26.412686Z",
     "shell.execute_reply": "2023-09-07T05:20:26.411653Z"
    },
    "papermill": {
     "duration": 0.04732,
     "end_time": "2023-09-07T05:20:26.414546",
     "exception": false,
     "start_time": "2023-09-07T05:20:26.367226",
     "status": "completed"
    },
    "tags": []
   },
   "outputs": [
    {
     "data": {
      "text/html": [
       "<div>\n",
       "<style scoped>\n",
       "    .dataframe tbody tr th:only-of-type {\n",
       "        vertical-align: middle;\n",
       "    }\n",
       "\n",
       "    .dataframe tbody tr th {\n",
       "        vertical-align: top;\n",
       "    }\n",
       "\n",
       "    .dataframe thead th {\n",
       "        text-align: right;\n",
       "    }\n",
       "</style>\n",
       "<table border=\"1\" class=\"dataframe\">\n",
       "  <thead>\n",
       "    <tr style=\"text-align: right;\">\n",
       "      <th></th>\n",
       "      <th>TotalDistance</th>\n",
       "      <th>Calories</th>\n",
       "    </tr>\n",
       "  </thead>\n",
       "  <tbody>\n",
       "    <tr>\n",
       "      <th>TotalDistance</th>\n",
       "      <td>1.000000</td>\n",
       "      <td>0.644962</td>\n",
       "    </tr>\n",
       "    <tr>\n",
       "      <th>Calories</th>\n",
       "      <td>0.644962</td>\n",
       "      <td>1.000000</td>\n",
       "    </tr>\n",
       "  </tbody>\n",
       "</table>\n",
       "</div>"
      ],
      "text/plain": [
       "               TotalDistance  Calories\n",
       "TotalDistance       1.000000  0.644962\n",
       "Calories            0.644962  1.000000"
      ]
     },
     "execution_count": 45,
     "metadata": {},
     "output_type": "execute_result"
    }
   ],
   "source": [
    "Data[['TotalDistance', 'Calories']].corr()"
   ]
  },
  {
   "cell_type": "code",
   "execution_count": 46,
   "id": "c8a57081",
   "metadata": {
    "execution": {
     "iopub.execute_input": "2023-09-07T05:20:26.543950Z",
     "iopub.status.busy": "2023-09-07T05:20:26.543612Z",
     "iopub.status.idle": "2023-09-07T05:20:26.730861Z",
     "shell.execute_reply": "2023-09-07T05:20:26.729045Z"
    },
    "papermill": {
     "duration": 0.223896,
     "end_time": "2023-09-07T05:20:26.733678",
     "exception": false,
     "start_time": "2023-09-07T05:20:26.509782",
     "status": "completed"
    },
    "tags": []
   },
   "outputs": [
    {
     "data": {
      "image/png": "[encoded data removed]",
      "text/plain": [
       "<Figure size 640x480 with 1 Axes>"
      ]
     },
     "metadata": {},
     "output_type": "display_data"
    }
   ],
   "source": [
    "Data[['TotalDistance', 'Calories']].plot.scatter(x = 'TotalDistance', y = 'Calories');"
   ]
  },
  {
   "cell_type": "code",
   "execution_count": 47,
   "id": "99f28c11",
   "metadata": {
    "execution": {
     "iopub.execute_input": "2023-09-07T05:20:26.803631Z",
     "iopub.status.busy": "2023-09-07T05:20:26.803252Z",
     "iopub.status.idle": "2023-09-07T05:20:26.814366Z",
     "shell.execute_reply": "2023-09-07T05:20:26.813503Z"
    },
    "papermill": {
     "duration": 0.048342,
     "end_time": "2023-09-07T05:20:26.816612",
     "exception": false,
     "start_time": "2023-09-07T05:20:26.768270",
     "status": "completed"
    },
    "tags": []
   },
   "outputs": [
    {
     "data": {
      "text/html": [
       "<div>\n",
       "<style scoped>\n",
       "    .dataframe tbody tr th:only-of-type {\n",
       "        vertical-align: middle;\n",
       "    }\n",
       "\n",
       "    .dataframe tbody tr th {\n",
       "        vertical-align: top;\n",
       "    }\n",
       "\n",
       "    .dataframe thead th {\n",
       "        text-align: right;\n",
       "    }\n",
       "</style>\n",
       "<table border=\"1\" class=\"dataframe\">\n",
       "  <thead>\n",
       "    <tr style=\"text-align: right;\">\n",
       "      <th></th>\n",
       "      <th>TotalDistance</th>\n",
       "      <th>TotalMinutesAsleep</th>\n",
       "    </tr>\n",
       "  </thead>\n",
       "  <tbody>\n",
       "    <tr>\n",
       "      <th>TotalDistance</th>\n",
       "      <td>1.000000</td>\n",
       "      <td>-0.176936</td>\n",
       "    </tr>\n",
       "    <tr>\n",
       "      <th>TotalMinutesAsleep</th>\n",
       "      <td>-0.176936</td>\n",
       "      <td>1.000000</td>\n",
       "    </tr>\n",
       "  </tbody>\n",
       "</table>\n",
       "</div>"
      ],
      "text/plain": [
       "                    TotalDistance  TotalMinutesAsleep\n",
       "TotalDistance            1.000000           -0.176936\n",
       "TotalMinutesAsleep      -0.176936            1.000000"
      ]
     },
     "execution_count": 47,
     "metadata": {},
     "output_type": "execute_result"
    }
   ],
   "source": [
    "Data[['TotalDistance', 'TotalMinutesAsleep']].corr()"
   ]
  },
  {
   "cell_type": "code",
   "execution_count": 48,
   "id": "2e187ab0",
   "metadata": {
    "execution": {
     "iopub.execute_input": "2023-09-07T05:20:26.884970Z",
     "iopub.status.busy": "2023-09-07T05:20:26.884597Z",
     "iopub.status.idle": "2023-09-07T05:20:26.896260Z",
     "shell.execute_reply": "2023-09-07T05:20:26.894869Z"
    },
    "papermill": {
     "duration": 0.049524,
     "end_time": "2023-09-07T05:20:26.898839",
     "exception": false,
     "start_time": "2023-09-07T05:20:26.849315",
     "status": "completed"
    },
    "tags": []
   },
   "outputs": [
    {
     "data": {
      "text/html": [
       "<div>\n",
       "<style scoped>\n",
       "    .dataframe tbody tr th:only-of-type {\n",
       "        vertical-align: middle;\n",
       "    }\n",
       "\n",
       "    .dataframe tbody tr th {\n",
       "        vertical-align: top;\n",
       "    }\n",
       "\n",
       "    .dataframe thead th {\n",
       "        text-align: right;\n",
       "    }\n",
       "</style>\n",
       "<table border=\"1\" class=\"dataframe\">\n",
       "  <thead>\n",
       "    <tr style=\"text-align: right;\">\n",
       "      <th></th>\n",
       "      <th>Calories</th>\n",
       "      <th>HeartRate</th>\n",
       "    </tr>\n",
       "  </thead>\n",
       "  <tbody>\n",
       "    <tr>\n",
       "      <th>Calories</th>\n",
       "      <td>1.000000</td>\n",
       "      <td>0.110798</td>\n",
       "    </tr>\n",
       "    <tr>\n",
       "      <th>HeartRate</th>\n",
       "      <td>0.110798</td>\n",
       "      <td>1.000000</td>\n",
       "    </tr>\n",
       "  </tbody>\n",
       "</table>\n",
       "</div>"
      ],
      "text/plain": [
       "           Calories  HeartRate\n",
       "Calories   1.000000   0.110798\n",
       "HeartRate  0.110798   1.000000"
      ]
     },
     "execution_count": 48,
     "metadata": {},
     "output_type": "execute_result"
    }
   ],
   "source": [
    "Data[['Calories', 'HeartRate']].corr()"
   ]
  },
  {
   "cell_type": "code",
   "execution_count": 49,
   "id": "2851d76a",
   "metadata": {
    "execution": {
     "iopub.execute_input": "2023-09-07T05:20:26.968460Z",
     "iopub.status.busy": "2023-09-07T05:20:26.968105Z",
     "iopub.status.idle": "2023-09-07T05:20:26.979500Z",
     "shell.execute_reply": "2023-09-07T05:20:26.977947Z"
    },
    "papermill": {
     "duration": 0.048807,
     "end_time": "2023-09-07T05:20:26.981715",
     "exception": false,
     "start_time": "2023-09-07T05:20:26.932908",
     "status": "completed"
    },
    "tags": []
   },
   "outputs": [
    {
     "data": {
      "text/html": [
       "<div>\n",
       "<style scoped>\n",
       "    .dataframe tbody tr th:only-of-type {\n",
       "        vertical-align: middle;\n",
       "    }\n",
       "\n",
       "    .dataframe tbody tr th {\n",
       "        vertical-align: top;\n",
       "    }\n",
       "\n",
       "    .dataframe thead th {\n",
       "        text-align: right;\n",
       "    }\n",
       "</style>\n",
       "<table border=\"1\" class=\"dataframe\">\n",
       "  <thead>\n",
       "    <tr style=\"text-align: right;\">\n",
       "      <th></th>\n",
       "      <th>Calories</th>\n",
       "      <th>TotalMinutesAsleep</th>\n",
       "    </tr>\n",
       "  </thead>\n",
       "  <tbody>\n",
       "    <tr>\n",
       "      <th>Calories</th>\n",
       "      <td>1.000000</td>\n",
       "      <td>-0.031699</td>\n",
       "    </tr>\n",
       "    <tr>\n",
       "      <th>TotalMinutesAsleep</th>\n",
       "      <td>-0.031699</td>\n",
       "      <td>1.000000</td>\n",
       "    </tr>\n",
       "  </tbody>\n",
       "</table>\n",
       "</div>"
      ],
      "text/plain": [
       "                    Calories  TotalMinutesAsleep\n",
       "Calories            1.000000           -0.031699\n",
       "TotalMinutesAsleep -0.031699            1.000000"
      ]
     },
     "execution_count": 49,
     "metadata": {},
     "output_type": "execute_result"
    }
   ],
   "source": [
    "Data[['Calories', 'TotalMinutesAsleep']].corr()"
   ]
  },
  {
   "cell_type": "code",
   "execution_count": 50,
   "id": "efde69ad",
   "metadata": {
    "execution": {
     "iopub.execute_input": "2023-09-07T05:20:27.051830Z",
     "iopub.status.busy": "2023-09-07T05:20:27.050935Z",
     "iopub.status.idle": "2023-09-07T05:20:27.061278Z",
     "shell.execute_reply": "2023-09-07T05:20:27.060236Z"
    },
    "papermill": {
     "duration": 0.046745,
     "end_time": "2023-09-07T05:20:27.063089",
     "exception": false,
     "start_time": "2023-09-07T05:20:27.016344",
     "status": "completed"
    },
    "tags": []
   },
   "outputs": [
    {
     "data": {
      "text/html": [
       "<div>\n",
       "<style scoped>\n",
       "    .dataframe tbody tr th:only-of-type {\n",
       "        vertical-align: middle;\n",
       "    }\n",
       "\n",
       "    .dataframe tbody tr th {\n",
       "        vertical-align: top;\n",
       "    }\n",
       "\n",
       "    .dataframe thead th {\n",
       "        text-align: right;\n",
       "    }\n",
       "</style>\n",
       "<table border=\"1\" class=\"dataframe\">\n",
       "  <thead>\n",
       "    <tr style=\"text-align: right;\">\n",
       "      <th></th>\n",
       "      <th>TotalMinutesAsleep</th>\n",
       "      <th>HeartRate</th>\n",
       "    </tr>\n",
       "  </thead>\n",
       "  <tbody>\n",
       "    <tr>\n",
       "      <th>TotalMinutesAsleep</th>\n",
       "      <td>1.000000</td>\n",
       "      <td>-0.252345</td>\n",
       "    </tr>\n",
       "    <tr>\n",
       "      <th>HeartRate</th>\n",
       "      <td>-0.252345</td>\n",
       "      <td>1.000000</td>\n",
       "    </tr>\n",
       "  </tbody>\n",
       "</table>\n",
       "</div>"
      ],
      "text/plain": [
       "                    TotalMinutesAsleep  HeartRate\n",
       "TotalMinutesAsleep            1.000000  -0.252345\n",
       "HeartRate                    -0.252345   1.000000"
      ]
     },
     "execution_count": 50,
     "metadata": {},
     "output_type": "execute_result"
    }
   ],
   "source": [
    "Data[['TotalMinutesAsleep', 'HeartRate']].corr()"
   ]
  },
  {
   "cell_type": "markdown",
   "id": "92ab297c",
   "metadata": {
    "papermill": {
     "duration": 0.033824,
     "end_time": "2023-09-07T05:20:27.130209",
     "exception": false,
     "start_time": "2023-09-07T05:20:27.096385",
     "status": "completed"
    },
    "tags": []
   },
   "source": [
    "To summarize, there is only 1 correlation coefficent that is > 0.7 showing strong correlation between TotalSteps and TotalDistance. There are 2 intermediate correlation, one is between TotalSteps & Calories (0.59), the other is between TotalDistance & Calories (0.64)"
   ]
  },
  {
   "cell_type": "markdown",
   "id": "09cf6e3b",
   "metadata": {
    "papermill": {
     "duration": 0.034786,
     "end_time": "2023-09-07T05:20:27.199179",
     "exception": false,
     "start_time": "2023-09-07T05:20:27.164393",
     "status": "completed"
    },
    "tags": []
   },
   "source": [
    "### 2. User Segmentation"
   ]
  },
  {
   "cell_type": "markdown",
   "id": "fa74a0a0",
   "metadata": {
    "papermill": {
     "duration": 0.033989,
     "end_time": "2023-09-07T05:20:27.267080",
     "exception": false,
     "start_time": "2023-09-07T05:20:27.233091",
     "status": "completed"
    },
    "tags": []
   },
   "source": [
    "According to CDC, adults should take 10,000 steps per day for general health (source: [this link](https://www.medicalnewstoday.com/articles/how-many-steps-should-you-take-a-day#for-general-health)). Therefore, this project will divide the users into 2 segment based on their average steps per day and analyze the diffence of average TotalSteps, TotalDistance, Calories, TotalMinutesAsleep, HeartRate between those 2 types"
   ]
  },
  {
   "cell_type": "code",
   "execution_count": 51,
   "id": "7b3db4a3",
   "metadata": {
    "execution": {
     "iopub.execute_input": "2023-09-07T05:20:27.338281Z",
     "iopub.status.busy": "2023-09-07T05:20:27.337909Z",
     "iopub.status.idle": "2023-09-07T05:20:27.409249Z",
     "shell.execute_reply": "2023-09-07T05:20:27.407966Z"
    },
    "papermill": {
     "duration": 0.109534,
     "end_time": "2023-09-07T05:20:27.411916",
     "exception": false,
     "start_time": "2023-09-07T05:20:27.302382",
     "status": "completed"
    },
    "tags": []
   },
   "outputs": [],
   "source": [
    "# Segment user\n",
    "import sqlite3\n",
    "\n",
    "conn = sqlite3.connect('my_database.db')\n",
    "Data_SQL = pd.read_csv('/kaggle/working/Fitbit_data.csv')\n",
    "Data_SQL.to_sql('Data_SQL', conn, if_exists='replace', index=False)\n",
    "\n",
    "conn.close()"
   ]
  },
  {
   "cell_type": "code",
   "execution_count": 52,
   "id": "c4e8d243",
   "metadata": {
    "execution": {
     "iopub.execute_input": "2023-09-07T05:20:27.483567Z",
     "iopub.status.busy": "2023-09-07T05:20:27.482289Z",
     "iopub.status.idle": "2023-09-07T05:20:27.491270Z",
     "shell.execute_reply": "2023-09-07T05:20:27.489750Z"
    },
    "papermill": {
     "duration": 0.046962,
     "end_time": "2023-09-07T05:20:27.493607",
     "exception": false,
     "start_time": "2023-09-07T05:20:27.446645",
     "status": "completed"
    },
    "tags": []
   },
   "outputs": [],
   "source": [
    "conn = sqlite3.connect('my_database.db')\n",
    "cursor = conn.cursor()\n",
    "\n",
    "user_below10000 = (\n",
    "\n",
    "\" SELECT \"\n",
    "\"    Id,\"\n",
    "\"    TotalSteps,\"\n",
    "\"    TotalDistance, \"\n",
    "\"    Calories, \"\n",
    "\"    TotalMinutesAsleep,\"\n",
    "\"    HeartRate\"\n",
    "\" FROM Data_SQL \"\n",
    "\" WHERE Id NOT IN \"\n",
    "\"  (SELECT Id FROM ( \"\n",
    "\"    (SELECT Id, AVG(TotalSteps) \"\n",
    "\"     FROM Data_SQL \"\n",
    "\"     GROUP BY Id \"\n",
    "\"     HAVING AVG(TotalSteps) > 10000) ) ) \" \n",
    ")\n",
    "\n",
    "cursor.execute(user_below10000)\n",
    "\n",
    "user_below10000 = cursor.fetchall()\n",
    "\n",
    "conn.close()"
   ]
  },
  {
   "cell_type": "code",
   "execution_count": 53,
   "id": "471219c1",
   "metadata": {
    "execution": {
     "iopub.execute_input": "2023-09-07T05:20:27.563437Z",
     "iopub.status.busy": "2023-09-07T05:20:27.563095Z",
     "iopub.status.idle": "2023-09-07T05:20:27.569428Z",
     "shell.execute_reply": "2023-09-07T05:20:27.568636Z"
    },
    "papermill": {
     "duration": 0.043851,
     "end_time": "2023-09-07T05:20:27.571669",
     "exception": false,
     "start_time": "2023-09-07T05:20:27.527818",
     "status": "completed"
    },
    "tags": []
   },
   "outputs": [],
   "source": [
    "conn = sqlite3.connect('my_database.db')\n",
    "cursor = conn.cursor()\n",
    "\n",
    "user_above10000 = (\n",
    "\" SELECT \"\n",
    "\"    Id,\"\n",
    "\"    TotalSteps,\"\n",
    "\"    TotalDistance, \"\n",
    "\"    Calories, \"\n",
    "\"    TotalMinutesAsleep,\"\n",
    "\"    HeartRate\"\n",
    "\" FROM Data_SQL \"\n",
    "\" WHERE Id IN \"\n",
    "\"  (SELECT Id FROM ( \"\n",
    "\"    (SELECT Id, AVG(TotalSteps) \"\n",
    "\"     FROM Data_SQL \"\n",
    "\"     GROUP BY Id \"\n",
    "\"     HAVING AVG(TotalSteps) > 10000) ) ) \" )\n",
    "\n",
    "cursor.execute(user_above10000)\n",
    "user_above10000 = cursor.fetchall()\n",
    "conn.close()\n"
   ]
  },
  {
   "cell_type": "code",
   "execution_count": 54,
   "id": "f58b736b",
   "metadata": {
    "execution": {
     "iopub.execute_input": "2023-09-07T05:20:27.643432Z",
     "iopub.status.busy": "2023-09-07T05:20:27.642177Z",
     "iopub.status.idle": "2023-09-07T05:20:27.649340Z",
     "shell.execute_reply": "2023-09-07T05:20:27.648363Z"
    },
    "papermill": {
     "duration": 0.045378,
     "end_time": "2023-09-07T05:20:27.651665",
     "exception": false,
     "start_time": "2023-09-07T05:20:27.606287",
     "status": "completed"
    },
    "tags": []
   },
   "outputs": [],
   "source": [
    "# Dataframe user_above10000 contains data of user who has the overall average TotalSteps > 10000\n",
    "# Dataframe user_above10000 contains data of user who has the overall average TotalSteps < 10000\n",
    "\n",
    "user_above10000 = pd.DataFrame(user_above10000)\n",
    "user_below10000 = pd.DataFrame(user_below10000)"
   ]
  },
  {
   "cell_type": "code",
   "execution_count": 55,
   "id": "8130452d",
   "metadata": {
    "execution": {
     "iopub.execute_input": "2023-09-07T05:20:27.723381Z",
     "iopub.status.busy": "2023-09-07T05:20:27.722844Z",
     "iopub.status.idle": "2023-09-07T05:20:27.728903Z",
     "shell.execute_reply": "2023-09-07T05:20:27.727134Z"
    },
    "papermill": {
     "duration": 0.045178,
     "end_time": "2023-09-07T05:20:27.731702",
     "exception": false,
     "start_time": "2023-09-07T05:20:27.686524",
     "status": "completed"
    },
    "tags": []
   },
   "outputs": [],
   "source": [
    "user_above10000.columns = ['Id>', 'TotalSteps>', 'TotalDistance>', 'Calories>', 'TotalMinutesAsleep>', 'HeartRate>']"
   ]
  },
  {
   "cell_type": "code",
   "execution_count": 56,
   "id": "04a63e7d",
   "metadata": {
    "execution": {
     "iopub.execute_input": "2023-09-07T05:20:27.802870Z",
     "iopub.status.busy": "2023-09-07T05:20:27.802413Z",
     "iopub.status.idle": "2023-09-07T05:20:27.807288Z",
     "shell.execute_reply": "2023-09-07T05:20:27.806401Z"
    },
    "papermill": {
     "duration": 0.042551,
     "end_time": "2023-09-07T05:20:27.809071",
     "exception": false,
     "start_time": "2023-09-07T05:20:27.766520",
     "status": "completed"
    },
    "tags": []
   },
   "outputs": [],
   "source": [
    "user_below10000.columns = ['Id<', 'TotalSteps<', 'TotalDistance<', 'Calories<', 'TotalMinutesAsleep<', 'HeartRate<']"
   ]
  },
  {
   "cell_type": "code",
   "execution_count": 57,
   "id": "eee1e6b5",
   "metadata": {
    "execution": {
     "iopub.execute_input": "2023-09-07T05:20:27.878574Z",
     "iopub.status.busy": "2023-09-07T05:20:27.878206Z",
     "iopub.status.idle": "2023-09-07T05:20:27.884040Z",
     "shell.execute_reply": "2023-09-07T05:20:27.883056Z"
    },
    "papermill": {
     "duration": 0.04246,
     "end_time": "2023-09-07T05:20:27.885632",
     "exception": false,
     "start_time": "2023-09-07T05:20:27.843172",
     "status": "completed"
    },
    "tags": []
   },
   "outputs": [
    {
     "data": {
      "text/plain": [
       "26"
      ]
     },
     "execution_count": 57,
     "metadata": {},
     "output_type": "execute_result"
    }
   ],
   "source": [
    "len(user_below10000['Id<'].unique())"
   ]
  },
  {
   "cell_type": "code",
   "execution_count": 58,
   "id": "83e6a8e6",
   "metadata": {
    "execution": {
     "iopub.execute_input": "2023-09-07T05:20:27.955851Z",
     "iopub.status.busy": "2023-09-07T05:20:27.955456Z",
     "iopub.status.idle": "2023-09-07T05:20:27.965496Z",
     "shell.execute_reply": "2023-09-07T05:20:27.964034Z"
    },
    "papermill": {
     "duration": 0.047978,
     "end_time": "2023-09-07T05:20:27.967850",
     "exception": false,
     "start_time": "2023-09-07T05:20:27.919872",
     "status": "completed"
    },
    "tags": []
   },
   "outputs": [
    {
     "data": {
      "text/plain": [
       "7"
      ]
     },
     "execution_count": 58,
     "metadata": {},
     "output_type": "execute_result"
    }
   ],
   "source": [
    "len(user_above10000['Id>'].unique())"
   ]
  },
  {
   "cell_type": "code",
   "execution_count": 59,
   "id": "882dfc86",
   "metadata": {
    "execution": {
     "iopub.execute_input": "2023-09-07T05:20:28.039046Z",
     "iopub.status.busy": "2023-09-07T05:20:28.038696Z",
     "iopub.status.idle": "2023-09-07T05:20:28.213827Z",
     "shell.execute_reply": "2023-09-07T05:20:28.212501Z"
    },
    "papermill": {
     "duration": 0.21292,
     "end_time": "2023-09-07T05:20:28.216164",
     "exception": false,
     "start_time": "2023-09-07T05:20:28.003244",
     "status": "completed"
    },
    "tags": []
   },
   "outputs": [
    {
     "data": {
      "text/plain": [
       "<Axes: xlabel='Type'>"
      ]
     },
     "execution_count": 59,
     "metadata": {},
     "output_type": "execute_result"
    },
    {
     "data": {
      "image/png": "[encoded data removed]",
      "text/plain": [
       "<Figure size 640x480 with 1 Axes>"
      ]
     },
     "metadata": {},
     "output_type": "display_data"
    }
   ],
   "source": [
    "extra = [\n",
    "    [\"user_above10000\", 7],\n",
    "    [\"user_below10000\", 26] ]\n",
    "\n",
    "extra_chart = pd.DataFrame(extra, columns=[\"Type\", \"Amount\"])\n",
    "extra_chart.plot.bar(x = 'Type')"
   ]
  },
  {
   "cell_type": "markdown",
   "id": "45234778",
   "metadata": {
    "papermill": {
     "duration": 0.035486,
     "end_time": "2023-09-07T05:20:28.287524",
     "exception": false,
     "start_time": "2023-09-07T05:20:28.252038",
     "status": "completed"
    },
    "tags": []
   },
   "source": [
    "The number of user who have average steps more than 10000 is less than those who has average steps less than 10000 per day and only makes up about 21% of total users"
   ]
  },
  {
   "cell_type": "code",
   "execution_count": 60,
   "id": "4ce591f1",
   "metadata": {
    "execution": {
     "iopub.execute_input": "2023-09-07T05:20:28.358761Z",
     "iopub.status.busy": "2023-09-07T05:20:28.358374Z",
     "iopub.status.idle": "2023-09-07T05:20:28.366034Z",
     "shell.execute_reply": "2023-09-07T05:20:28.364833Z"
    },
    "papermill": {
     "duration": 0.045944,
     "end_time": "2023-09-07T05:20:28.368367",
     "exception": false,
     "start_time": "2023-09-07T05:20:28.322423",
     "status": "completed"
    },
    "tags": []
   },
   "outputs": [],
   "source": [
    "# Concat the dataframe of user_above10000, user_below10000 for statistical visual purpose\n",
    "user_compare = pd.concat([user_above10000, user_below10000], axis = 1)"
   ]
  },
  {
   "cell_type": "code",
   "execution_count": 61,
   "id": "3a5c4a2b",
   "metadata": {
    "execution": {
     "iopub.execute_input": "2023-09-07T05:20:28.437753Z",
     "iopub.status.busy": "2023-09-07T05:20:28.437398Z",
     "iopub.status.idle": "2023-09-07T05:20:28.591146Z",
     "shell.execute_reply": "2023-09-07T05:20:28.590321Z"
    },
    "papermill": {
     "duration": 0.190668,
     "end_time": "2023-09-07T05:20:28.593057",
     "exception": false,
     "start_time": "2023-09-07T05:20:28.402389",
     "status": "completed"
    },
    "tags": []
   },
   "outputs": [
    {
     "data": {
      "image/png": "[encoded data removed]",
      "text/plain": [
       "<Figure size 640x480 with 1 Axes>"
      ]
     },
     "metadata": {},
     "output_type": "display_data"
    }
   ],
   "source": [
    "user_compare[['TotalSteps<', 'TotalSteps>']].plot.box();"
   ]
  },
  {
   "cell_type": "code",
   "execution_count": 62,
   "id": "109ff876",
   "metadata": {
    "execution": {
     "iopub.execute_input": "2023-09-07T05:20:28.670229Z",
     "iopub.status.busy": "2023-09-07T05:20:28.669578Z",
     "iopub.status.idle": "2023-09-07T05:20:28.677963Z",
     "shell.execute_reply": "2023-09-07T05:20:28.676730Z"
    },
    "papermill": {
     "duration": 0.045981,
     "end_time": "2023-09-07T05:20:28.679719",
     "exception": false,
     "start_time": "2023-09-07T05:20:28.633738",
     "status": "completed"
    },
    "tags": []
   },
   "outputs": [
    {
     "data": {
      "text/plain": [
       "TotalSteps<     6224.205761\n",
       "TotalSteps>    12522.227488\n",
       "dtype: float64"
      ]
     },
     "execution_count": 62,
     "metadata": {},
     "output_type": "execute_result"
    }
   ],
   "source": [
    "user_compare[['TotalSteps<', 'TotalSteps>']].mean()"
   ]
  },
  {
   "cell_type": "markdown",
   "id": "2eb2df41",
   "metadata": {
    "papermill": {
     "duration": 0.034777,
     "end_time": "2023-09-07T05:20:28.749922",
     "exception": false,
     "start_time": "2023-09-07T05:20:28.715145",
     "status": "completed"
    },
    "tags": []
   },
   "source": [
    "There is a significant gap between the avagerage steps per day of the 2 user types (more than 6000). user_above10000 type has many upper and lower outliners which means that they don't walk stable around the avarage steps everyday"
   ]
  },
  {
   "cell_type": "code",
   "execution_count": 63,
   "id": "2b58cbef",
   "metadata": {
    "execution": {
     "iopub.execute_input": "2023-09-07T05:20:28.821198Z",
     "iopub.status.busy": "2023-09-07T05:20:28.820828Z",
     "iopub.status.idle": "2023-09-07T05:20:28.984295Z",
     "shell.execute_reply": "2023-09-07T05:20:28.982998Z"
    },
    "papermill": {
     "duration": 0.20141,
     "end_time": "2023-09-07T05:20:28.986258",
     "exception": false,
     "start_time": "2023-09-07T05:20:28.784848",
     "status": "completed"
    },
    "tags": []
   },
   "outputs": [
    {
     "data": {
      "image/png": "[encoded data removed]",
      "text/plain": [
       "<Figure size 640x480 with 1 Axes>"
      ]
     },
     "metadata": {},
     "output_type": "display_data"
    }
   ],
   "source": [
    "user_compare[['TotalDistance<', 'TotalDistance>']].plot.box();"
   ]
  },
  {
   "cell_type": "code",
   "execution_count": 64,
   "id": "004059c4",
   "metadata": {
    "execution": {
     "iopub.execute_input": "2023-09-07T05:20:29.056881Z",
     "iopub.status.busy": "2023-09-07T05:20:29.056475Z",
     "iopub.status.idle": "2023-09-07T05:20:29.066404Z",
     "shell.execute_reply": "2023-09-07T05:20:29.065117Z"
    },
    "papermill": {
     "duration": 0.04768,
     "end_time": "2023-09-07T05:20:29.068737",
     "exception": false,
     "start_time": "2023-09-07T05:20:29.021057",
     "status": "completed"
    },
    "tags": []
   },
   "outputs": [
    {
     "data": {
      "text/plain": [
       "TotalDistance<    4.400796\n",
       "TotalDistance>    9.251848\n",
       "dtype: float64"
      ]
     },
     "execution_count": 64,
     "metadata": {},
     "output_type": "execute_result"
    }
   ],
   "source": [
    "user_compare[['TotalDistance<', 'TotalDistance>']].mean()"
   ]
  },
  {
   "cell_type": "markdown",
   "id": "115d7a9c",
   "metadata": {
    "papermill": {
     "duration": 0.036187,
     "end_time": "2023-09-07T05:20:29.141354",
     "exception": false,
     "start_time": "2023-09-07T05:20:29.105167",
     "status": "completed"
    },
    "tags": []
   },
   "source": [
    "Accordingly, there is a significant gap between the avagerage distance per day of the 2 user types (more than 4km), user_above10000 also has many upper and outliner in the average walking distance"
   ]
  },
  {
   "cell_type": "code",
   "execution_count": 65,
   "id": "df3738f7",
   "metadata": {
    "execution": {
     "iopub.execute_input": "2023-09-07T05:20:29.214894Z",
     "iopub.status.busy": "2023-09-07T05:20:29.214489Z",
     "iopub.status.idle": "2023-09-07T05:20:29.374249Z",
     "shell.execute_reply": "2023-09-07T05:20:29.373147Z"
    },
    "papermill": {
     "duration": 0.198802,
     "end_time": "2023-09-07T05:20:29.376372",
     "exception": false,
     "start_time": "2023-09-07T05:20:29.177570",
     "status": "completed"
    },
    "tags": []
   },
   "outputs": [
    {
     "data": {
      "image/png": "[encoded data removed]",
      "text/plain": [
       "<Figure size 640x480 with 1 Axes>"
      ]
     },
     "metadata": {},
     "output_type": "display_data"
    }
   ],
   "source": [
    "user_compare[['HeartRate<', 'HeartRate>']].plot.box();"
   ]
  },
  {
   "cell_type": "markdown",
   "id": "e9950a70",
   "metadata": {
    "papermill": {
     "duration": 0.033604,
     "end_time": "2023-09-07T05:20:29.444804",
     "exception": false,
     "start_time": "2023-09-07T05:20:29.411200",
     "status": "completed"
    },
    "tags": []
   },
   "source": [
    "There is no significant difference in the heart rate of the 2 types"
   ]
  },
  {
   "cell_type": "code",
   "execution_count": 66,
   "id": "066bff4f",
   "metadata": {
    "execution": {
     "iopub.execute_input": "2023-09-07T05:20:29.514877Z",
     "iopub.status.busy": "2023-09-07T05:20:29.514535Z",
     "iopub.status.idle": "2023-09-07T05:20:29.672795Z",
     "shell.execute_reply": "2023-09-07T05:20:29.671701Z"
    },
    "papermill": {
     "duration": 0.195595,
     "end_time": "2023-09-07T05:20:29.674689",
     "exception": false,
     "start_time": "2023-09-07T05:20:29.479094",
     "status": "completed"
    },
    "tags": []
   },
   "outputs": [
    {
     "data": {
      "image/png": "[encoded data removed]",
      "text/plain": [
       "<Figure size 640x480 with 1 Axes>"
      ]
     },
     "metadata": {},
     "output_type": "display_data"
    }
   ],
   "source": [
    "user_compare[['Calories<', 'Calories>']].plot.box();"
   ]
  },
  {
   "cell_type": "code",
   "execution_count": 67,
   "id": "3fad7b4f",
   "metadata": {
    "execution": {
     "iopub.execute_input": "2023-09-07T05:20:29.751371Z",
     "iopub.status.busy": "2023-09-07T05:20:29.750147Z",
     "iopub.status.idle": "2023-09-07T05:20:29.761624Z",
     "shell.execute_reply": "2023-09-07T05:20:29.759937Z"
    },
    "papermill": {
     "duration": 0.052978,
     "end_time": "2023-09-07T05:20:29.764019",
     "exception": false,
     "start_time": "2023-09-07T05:20:29.711041",
     "status": "completed"
    },
    "tags": []
   },
   "outputs": [
    {
     "data": {
      "text/plain": [
       "Calories<    2231.087791\n",
       "Calories>    2554.170616\n",
       "dtype: float64"
      ]
     },
     "execution_count": 67,
     "metadata": {},
     "output_type": "execute_result"
    }
   ],
   "source": [
    "user_compare[['Calories<', 'Calories>']].mean()"
   ]
  },
  {
   "cell_type": "markdown",
   "id": "71d1105c",
   "metadata": {
    "papermill": {
     "duration": 0.037279,
     "end_time": "2023-09-07T05:20:29.839104",
     "exception": false,
     "start_time": "2023-09-07T05:20:29.801825",
     "status": "completed"
    },
    "tags": []
   },
   "source": [
    "There's a slight difference in the calories burnt by the 2 types, the gap is around 300 calories per day."
   ]
  },
  {
   "cell_type": "code",
   "execution_count": 68,
   "id": "3ada7368",
   "metadata": {
    "execution": {
     "iopub.execute_input": "2023-09-07T05:20:29.914454Z",
     "iopub.status.busy": "2023-09-07T05:20:29.913921Z",
     "iopub.status.idle": "2023-09-07T05:20:30.100096Z",
     "shell.execute_reply": "2023-09-07T05:20:30.099126Z"
    },
    "papermill": {
     "duration": 0.226595,
     "end_time": "2023-09-07T05:20:30.102417",
     "exception": false,
     "start_time": "2023-09-07T05:20:29.875822",
     "status": "completed"
    },
    "tags": []
   },
   "outputs": [
    {
     "data": {
      "image/png": "[encoded data removed]",
      "text/plain": [
       "<Figure size 640x480 with 1 Axes>"
      ]
     },
     "metadata": {},
     "output_type": "display_data"
    }
   ],
   "source": [
    "user_compare[['TotalMinutesAsleep<', 'TotalMinutesAsleep>']].plot.box();"
   ]
  },
  {
   "cell_type": "code",
   "execution_count": 69,
   "id": "5d2b5878",
   "metadata": {
    "execution": {
     "iopub.execute_input": "2023-09-07T05:20:30.179096Z",
     "iopub.status.busy": "2023-09-07T05:20:30.178726Z",
     "iopub.status.idle": "2023-09-07T05:20:30.189796Z",
     "shell.execute_reply": "2023-09-07T05:20:30.188209Z"
    },
    "papermill": {
     "duration": 0.052452,
     "end_time": "2023-09-07T05:20:30.192447",
     "exception": false,
     "start_time": "2023-09-07T05:20:30.139995",
     "status": "completed"
    },
    "tags": []
   },
   "outputs": [
    {
     "data": {
      "text/plain": [
       "TotalMinutesAsleep<    438.905775\n",
       "TotalMinutesAsleep>    339.024691\n",
       "dtype: float64"
      ]
     },
     "execution_count": 69,
     "metadata": {},
     "output_type": "execute_result"
    }
   ],
   "source": [
    "user_compare[['TotalMinutesAsleep<', 'TotalMinutesAsleep>']].mean()"
   ]
  },
  {
   "cell_type": "markdown",
   "id": "e6f7b36d",
   "metadata": {
    "papermill": {
     "duration": 0.036595,
     "end_time": "2023-09-07T05:20:30.265089",
     "exception": false,
     "start_time": "2023-09-07T05:20:30.228494",
     "status": "completed"
    },
    "tags": []
   },
   "source": [
    "Surprisingly, user_above10000 has the shorter average of sleeping time when compare to the user_below10000. The gap is around 1.5 hours. user_above10000 sleep less than 6 hours per night in average while user_below10000 sleep more than 7 hours per night.\n",
    "\n",
    "This could be because the user_above10000 walk actively so they get tired and find it difficult to sleep at night. Or it could be because this type of user tend to be busier so they spend least time on sleeping. "
   ]
  },
  {
   "cell_type": "markdown",
   "id": "7972c1da",
   "metadata": {
    "papermill": {
     "duration": 0.034873,
     "end_time": "2023-09-07T05:20:30.335969",
     "exception": false,
     "start_time": "2023-09-07T05:20:30.301096",
     "status": "completed"
    },
    "tags": []
   },
   "source": [
    "### 3. Weekly Activity"
   ]
  },
  {
   "cell_type": "markdown",
   "id": "e4874fc2",
   "metadata": {
    "papermill": {
     "duration": 0.035029,
     "end_time": "2023-09-07T05:20:30.405934",
     "exception": false,
     "start_time": "2023-09-07T05:20:30.370905",
     "status": "completed"
    },
    "tags": []
   },
   "source": [
    "This session aim to compare the difference of average the 5 factors (TotalSteps, TotalDistance, Calories, TotalMinutesAsleep and Calories) during the week"
   ]
  },
  {
   "cell_type": "code",
   "execution_count": 70,
   "id": "bb6451d9",
   "metadata": {
    "execution": {
     "iopub.execute_input": "2023-09-07T05:20:30.478232Z",
     "iopub.status.busy": "2023-09-07T05:20:30.477847Z",
     "iopub.status.idle": "2023-09-07T05:20:30.487152Z",
     "shell.execute_reply": "2023-09-07T05:20:30.486061Z"
    },
    "papermill": {
     "duration": 0.047568,
     "end_time": "2023-09-07T05:20:30.489107",
     "exception": false,
     "start_time": "2023-09-07T05:20:30.441539",
     "status": "completed"
    },
    "tags": []
   },
   "outputs": [],
   "source": [
    "import sqlite3\n",
    "\n",
    "conn = sqlite3.connect('my_database.db')\n",
    "cursor = conn.cursor()\n",
    "\n",
    "summary_week = (\n",
    "    \"SELECT \"\n",
    "    \"   CAST(strftime('%w', ActivityDate) AS INTEGER) AS DayOfWeek, \"\n",
    "    \"   AVG(TotalSteps) AS TotalSteps, \"\n",
    "    \"   AVG(TotalDistance) AS TotalDistance, \"\n",
    "    \"   AVG(Calories) AS Calories, \"\n",
    "    \"   AVG(TotalMinutesAsleep) AS TotalMinutesAsleep, \"\n",
    "    \"   AVG(HeartRate) AS HeartRate \" \n",
    "    \"FROM Data_SQL \"\n",
    "    \"GROUP BY DayOfWeek \"\n",
    "    \"ORDER BY DayOfWeek\"\n",
    ")\n",
    "\n",
    "cursor.execute(summary_week)\n",
    "summary_week = cursor.fetchall()\n",
    "conn.close()\n"
   ]
  },
  {
   "cell_type": "code",
   "execution_count": 71,
   "id": "cc357d6b",
   "metadata": {
    "execution": {
     "iopub.execute_input": "2023-09-07T05:20:30.563541Z",
     "iopub.status.busy": "2023-09-07T05:20:30.563166Z",
     "iopub.status.idle": "2023-09-07T05:20:30.569544Z",
     "shell.execute_reply": "2023-09-07T05:20:30.568606Z"
    },
    "papermill": {
     "duration": 0.044668,
     "end_time": "2023-09-07T05:20:30.571350",
     "exception": false,
     "start_time": "2023-09-07T05:20:30.526682",
     "status": "completed"
    },
    "tags": []
   },
   "outputs": [],
   "source": [
    "summary_week = pd.DataFrame(summary_week)\n",
    "summary_week.columns = [['DayOfWeek', 'TotalSteps', 'TotalDistance', 'Calories', 'TotalMinutesAsleep', 'HeartRate']]"
   ]
  },
  {
   "cell_type": "code",
   "execution_count": 72,
   "id": "7577ad57",
   "metadata": {
    "execution": {
     "iopub.execute_input": "2023-09-07T05:20:30.647281Z",
     "iopub.status.busy": "2023-09-07T05:20:30.646922Z",
     "iopub.status.idle": "2023-09-07T05:20:31.035996Z",
     "shell.execute_reply": "2023-09-07T05:20:31.035201Z"
    },
    "papermill": {
     "duration": 0.431055,
     "end_time": "2023-09-07T05:20:31.038231",
     "exception": false,
     "start_time": "2023-09-07T05:20:30.607176",
     "status": "completed"
    },
    "tags": []
   },
   "outputs": [
    {
     "data": {
      "image/png": "[encoded data removed]",
      "text/plain": [
       "<Figure size 640x480 with 2 Axes>"
      ]
     },
     "metadata": {},
     "output_type": "display_data"
    }
   ],
   "source": [
    "# Making a heatmap to compare the diffence of factor between days in the week, the value in the heatmap is avg of each factor\n",
    "# The index in the left refers to the days of week (0 = Sunday, 1 = Monday,..., 6 = Sartuday) \n",
    "\n",
    "sns.heatmap(summary_week[['TotalSteps', 'TotalDistance', 'Calories', 'TotalMinutesAsleep', 'HeartRate']], cmap=\"YlGnBu\", annot=True, fmt=\".2f\");\n",
    "plt.title('Comparison between the weekday');"
   ]
  },
  {
   "cell_type": "markdown",
   "id": "eafbe8fb",
   "metadata": {
    "papermill": {
     "duration": 0.036762,
     "end_time": "2023-09-07T05:20:31.113607",
     "exception": false,
     "start_time": "2023-09-07T05:20:31.076845",
     "status": "completed"
    },
    "tags": []
   },
   "source": [
    "As seen from the chart, the diffence of the factors between days in the week is inconsirable.\n",
    "\n",
    "However, we may notice that the highest TotalSteps falls on Tue and Sat and the highest TotalMinutesAsleep falls on Sun. This could be explained as on Sat, people usually go out or have a walk more than during the weekday; on Sun, people would spend more time for sleeping as it weekend. This theory need diving-deep along with the exploration of the highest TotalSteps on Tue\n",
    "\n"
   ]
  },
  {
   "cell_type": "markdown",
   "id": "9394fb3c",
   "metadata": {
    "papermill": {
     "duration": 0.036854,
     "end_time": "2023-09-07T05:20:31.187285",
     "exception": false,
     "start_time": "2023-09-07T05:20:31.150431",
     "status": "completed"
    },
    "tags": []
   },
   "source": [
    "### 4. Dive Deep Into Heart Rate"
   ]
  },
  {
   "cell_type": "markdown",
   "id": "1452b942",
   "metadata": {
    "papermill": {
     "duration": 0.037646,
     "end_time": "2023-09-07T05:20:31.263118",
     "exception": false,
     "start_time": "2023-09-07T05:20:31.225472",
     "status": "completed"
    },
    "tags": []
   },
   "source": [
    "This session aims to observe how users' heart rate change over time of day and week"
   ]
  },
  {
   "cell_type": "markdown",
   "id": "c566fc45",
   "metadata": {
    "papermill": {
     "duration": 0.037484,
     "end_time": "2023-09-07T05:20:31.338804",
     "exception": false,
     "start_time": "2023-09-07T05:20:31.301320",
     "status": "completed"
    },
    "tags": []
   },
   "source": [
    "#### 4.1. Daily heart rate"
   ]
  },
  {
   "cell_type": "code",
   "execution_count": 73,
   "id": "f623f111",
   "metadata": {
    "execution": {
     "iopub.execute_input": "2023-09-07T05:20:31.417009Z",
     "iopub.status.busy": "2023-09-07T05:20:31.416658Z",
     "iopub.status.idle": "2023-09-07T05:20:33.085020Z",
     "shell.execute_reply": "2023-09-07T05:20:33.083383Z"
    },
    "papermill": {
     "duration": 1.710303,
     "end_time": "2023-09-07T05:20:33.087939",
     "exception": false,
     "start_time": "2023-09-07T05:20:31.377636",
     "status": "completed"
    },
    "tags": []
   },
   "outputs": [],
   "source": [
    "Heartratex = pd.read_csv('/kaggle/input/fitbit-database/heartrate_seconds_merged.csv')"
   ]
  },
  {
   "cell_type": "code",
   "execution_count": 74,
   "id": "704f394d",
   "metadata": {
    "execution": {
     "iopub.execute_input": "2023-09-07T05:20:33.170926Z",
     "iopub.status.busy": "2023-09-07T05:20:33.170321Z",
     "iopub.status.idle": "2023-09-07T05:20:34.887373Z",
     "shell.execute_reply": "2023-09-07T05:20:34.885944Z"
    },
    "papermill": {
     "duration": 1.761055,
     "end_time": "2023-09-07T05:20:34.889738",
     "exception": false,
     "start_time": "2023-09-07T05:20:33.128683",
     "status": "completed"
    },
    "tags": []
   },
   "outputs": [],
   "source": [
    "import sqlite3\n",
    "\n",
    "conn = sqlite3.connect('Heartrate_database.db')\n",
    "Heartrate_SQL = pd.read_csv('/kaggle/input/fitbit-database/heartrate_seconds_merged.csv')\n"
   ]
  },
  {
   "cell_type": "code",
   "execution_count": 75,
   "id": "c5ab9fd9",
   "metadata": {
    "execution": {
     "iopub.execute_input": "2023-09-07T05:20:34.967528Z",
     "iopub.status.busy": "2023-09-07T05:20:34.967038Z",
     "iopub.status.idle": "2023-09-07T05:20:43.864913Z",
     "shell.execute_reply": "2023-09-07T05:20:43.863234Z"
    },
    "papermill": {
     "duration": 8.940114,
     "end_time": "2023-09-07T05:20:43.867351",
     "exception": false,
     "start_time": "2023-09-07T05:20:34.927237",
     "status": "completed"
    },
    "tags": []
   },
   "outputs": [],
   "source": [
    "# Format the Time columns to get the appropriate format for analysis\n",
    "Heartrate_SQL.Time = Heartrate_SQL.Time.astype('str')\n",
    "Heartrate_SQL.Time = pd.to_datetime(Heartrate_SQL.Time, format='%m/%d/%Y %I:%M:%S %p')"
   ]
  },
  {
   "cell_type": "code",
   "execution_count": 76,
   "id": "8408c21b",
   "metadata": {
    "execution": {
     "iopub.execute_input": "2023-09-07T05:20:43.944158Z",
     "iopub.status.busy": "2023-09-07T05:20:43.943785Z",
     "iopub.status.idle": "2023-09-07T05:20:51.009892Z",
     "shell.execute_reply": "2023-09-07T05:20:51.008218Z"
    },
    "papermill": {
     "duration": 7.10674,
     "end_time": "2023-09-07T05:20:51.012410",
     "exception": false,
     "start_time": "2023-09-07T05:20:43.905670",
     "status": "completed"
    },
    "tags": []
   },
   "outputs": [],
   "source": [
    "Heartrate_SQL.to_sql('Heartrate_SQL', conn, if_exists='replace', index=False)\n",
    "\n",
    "conn.close()"
   ]
  },
  {
   "cell_type": "code",
   "execution_count": 77,
   "id": "bf72886b",
   "metadata": {
    "execution": {
     "iopub.execute_input": "2023-09-07T05:20:51.090885Z",
     "iopub.status.busy": "2023-09-07T05:20:51.090484Z",
     "iopub.status.idle": "2023-09-07T05:20:53.418331Z",
     "shell.execute_reply": "2023-09-07T05:20:53.416911Z"
    },
    "papermill": {
     "duration": 2.368778,
     "end_time": "2023-09-07T05:20:53.420739",
     "exception": false,
     "start_time": "2023-09-07T05:20:51.051961",
     "status": "completed"
    },
    "tags": []
   },
   "outputs": [],
   "source": [
    "import sqlite3\n",
    "\n",
    "conn = sqlite3.connect('/kaggle/working/Heartrate_database.db')\n",
    "cursor = conn.cursor()\n",
    "\n",
    "heartrate_week = (\n",
    "    \"SELECT \"\n",
    "    \"   CAST(strftime('%w', Time) AS INTEGER) AS DayOfWeek, \"\n",
    "    \"   CAST(strftime('%H', Time) AS INTEGER) AS Hour,  \"\n",
    "    \"   AVG(Value) AS HeartRate \" \n",
    "    \"FROM Heartrate_SQL \"\n",
    "    \"GROUP BY DayOfWeek, Hour \"\n",
    ")\n",
    "\n",
    "cursor.execute(heartrate_week)\n",
    "heartrate_week = cursor.fetchall()\n",
    "conn.close()"
   ]
  },
  {
   "cell_type": "code",
   "execution_count": 78,
   "id": "84797e38",
   "metadata": {
    "execution": {
     "iopub.execute_input": "2023-09-07T05:20:53.497723Z",
     "iopub.status.busy": "2023-09-07T05:20:53.497355Z",
     "iopub.status.idle": "2023-09-07T05:20:53.502895Z",
     "shell.execute_reply": "2023-09-07T05:20:53.501758Z"
    },
    "papermill": {
     "duration": 0.047232,
     "end_time": "2023-09-07T05:20:53.505327",
     "exception": false,
     "start_time": "2023-09-07T05:20:53.458095",
     "status": "completed"
    },
    "tags": []
   },
   "outputs": [],
   "source": [
    "heartrate_week = pd.DataFrame(heartrate_week)"
   ]
  },
  {
   "cell_type": "code",
   "execution_count": 79,
   "id": "0dc1ccd3",
   "metadata": {
    "execution": {
     "iopub.execute_input": "2023-09-07T05:20:53.582265Z",
     "iopub.status.busy": "2023-09-07T05:20:53.581907Z",
     "iopub.status.idle": "2023-09-07T05:20:53.587905Z",
     "shell.execute_reply": "2023-09-07T05:20:53.586710Z"
    },
    "papermill": {
     "duration": 0.046771,
     "end_time": "2023-09-07T05:20:53.589813",
     "exception": false,
     "start_time": "2023-09-07T05:20:53.543042",
     "status": "completed"
    },
    "tags": []
   },
   "outputs": [],
   "source": [
    "heartrate_week.columns = [['DayOfWeek', 'Hour', 'HeartRate']]"
   ]
  },
  {
   "cell_type": "markdown",
   "id": "2bbbd8c8",
   "metadata": {
    "papermill": {
     "duration": 0.039681,
     "end_time": "2023-09-07T05:20:53.666602",
     "exception": false,
     "start_time": "2023-09-07T05:20:53.626921",
     "status": "completed"
    },
    "tags": []
   },
   "source": [
    "My Kaggle could not deliver the pivot_table function so I work it on my computer with Python and upload the file with appropriate structure for a heatmap\n",
    "\n",
    "Here's the code: heartrate_week_heatmap = heartrate_week.pivot_table(index = 'DayOfWeek', columns = 'Hour', values = 'HeartRate', aggfunc='mean')"
   ]
  },
  {
   "cell_type": "code",
   "execution_count": 80,
   "id": "157e9a91",
   "metadata": {
    "execution": {
     "iopub.execute_input": "2023-09-07T05:20:53.745134Z",
     "iopub.status.busy": "2023-09-07T05:20:53.744506Z",
     "iopub.status.idle": "2023-09-07T05:20:53.758248Z",
     "shell.execute_reply": "2023-09-07T05:20:53.757261Z"
    },
    "papermill": {
     "duration": 0.055651,
     "end_time": "2023-09-07T05:20:53.760447",
     "exception": false,
     "start_time": "2023-09-07T05:20:53.704796",
     "status": "completed"
    },
    "tags": []
   },
   "outputs": [],
   "source": [
    "heartrate_week_heatmap = pd.read_csv('/kaggle/input/heartrate-week-heatmap/heartrate_week_heatmap.csv')"
   ]
  },
  {
   "cell_type": "code",
   "execution_count": 81,
   "id": "3b4121b7",
   "metadata": {
    "execution": {
     "iopub.execute_input": "2023-09-07T05:20:53.838414Z",
     "iopub.status.busy": "2023-09-07T05:20:53.837822Z",
     "iopub.status.idle": "2023-09-07T05:20:54.239718Z",
     "shell.execute_reply": "2023-09-07T05:20:54.238254Z"
    },
    "papermill": {
     "duration": 0.44411,
     "end_time": "2023-09-07T05:20:54.242363",
     "exception": false,
     "start_time": "2023-09-07T05:20:53.798253",
     "status": "completed"
    },
    "tags": []
   },
   "outputs": [
    {
     "data": {
      "image/png": "[encoded data removed]",
      "text/plain": [
       "<Figure size 640x480 with 2 Axes>"
      ]
     },
     "metadata": {},
     "output_type": "display_data"
    }
   ],
   "source": [
    "sns.heatmap(heartrate_week_heatmap, cmap=\"coolwarm\", annot=False, square = True, vmin = 40);\n",
    "plt.title('Users\\' heart rate over hours in day and days in week');"
   ]
  },
  {
   "cell_type": "markdown",
   "id": "bf477719",
   "metadata": {
    "papermill": {
     "duration": 0.037232,
     "end_time": "2023-09-07T05:20:54.317391",
     "exception": false,
     "start_time": "2023-09-07T05:20:54.280159",
     "status": "completed"
    },
    "tags": []
   },
   "source": [
    "It can be seen from the map that at sleeping hours, users' heart rate would drop significantly and usually it starts to rise at 6am on the weekday, on the weekend, it started to rise at 7am. This could be because the users wake up later on the weekend as when people sleep, their heart rate drops.\n",
    "\n",
    "We can also spot from the map that on Sat, the heart rate does not drop under 70 until 3am. This may be because they stay up late on Fri night."
   ]
  },
  {
   "cell_type": "markdown",
   "id": "a75fed33",
   "metadata": {
    "papermill": {
     "duration": 0.037404,
     "end_time": "2023-09-07T05:20:54.393220",
     "exception": false,
     "start_time": "2023-09-07T05:20:54.355816",
     "status": "completed"
    },
    "tags": []
   },
   "source": [
    "#### 4.2 Users who don't track the heart rate"
   ]
  },
  {
   "cell_type": "markdown",
   "id": "3ec354e8",
   "metadata": {
    "papermill": {
     "duration": 0.036942,
     "end_time": "2023-09-07T05:20:54.467081",
     "exception": false,
     "start_time": "2023-09-07T05:20:54.430139",
     "status": "completed"
    },
    "tags": []
   },
   "source": [
    "This session aims to find the diffence between factors based on users behaviour of whether they track or share their heart rate or not"
   ]
  },
  {
   "cell_type": "code",
   "execution_count": 82,
   "id": "f67cb490",
   "metadata": {
    "execution": {
     "iopub.execute_input": "2023-09-07T05:20:54.543554Z",
     "iopub.status.busy": "2023-09-07T05:20:54.543198Z",
     "iopub.status.idle": "2023-09-07T05:20:54.547970Z",
     "shell.execute_reply": "2023-09-07T05:20:54.547080Z"
    },
    "papermill": {
     "duration": 0.044191,
     "end_time": "2023-09-07T05:20:54.549753",
     "exception": false,
     "start_time": "2023-09-07T05:20:54.505562",
     "status": "completed"
    },
    "tags": []
   },
   "outputs": [],
   "source": [
    "list_user_track_HR = Data.Id[~Data.HeartRate.isnull()]"
   ]
  },
  {
   "cell_type": "code",
   "execution_count": 83,
   "id": "a9dbd181",
   "metadata": {
    "execution": {
     "iopub.execute_input": "2023-09-07T05:20:54.628127Z",
     "iopub.status.busy": "2023-09-07T05:20:54.627207Z",
     "iopub.status.idle": "2023-09-07T05:20:54.644399Z",
     "shell.execute_reply": "2023-09-07T05:20:54.643655Z"
    },
    "papermill": {
     "duration": 0.05801,
     "end_time": "2023-09-07T05:20:54.646384",
     "exception": false,
     "start_time": "2023-09-07T05:20:54.588374",
     "status": "completed"
    },
    "tags": []
   },
   "outputs": [
    {
     "data": {
      "text/html": [
       "<div>\n",
       "<style scoped>\n",
       "    .dataframe tbody tr th:only-of-type {\n",
       "        vertical-align: middle;\n",
       "    }\n",
       "\n",
       "    .dataframe tbody tr th {\n",
       "        vertical-align: top;\n",
       "    }\n",
       "\n",
       "    .dataframe thead th {\n",
       "        text-align: right;\n",
       "    }\n",
       "</style>\n",
       "<table border=\"1\" class=\"dataframe\">\n",
       "  <thead>\n",
       "    <tr style=\"text-align: right;\">\n",
       "      <th></th>\n",
       "      <th>Id</th>\n",
       "      <th>TotalSteps</th>\n",
       "      <th>TotalDistance</th>\n",
       "      <th>Calories</th>\n",
       "      <th>TotalMinutesAsleep</th>\n",
       "    </tr>\n",
       "  </thead>\n",
       "  <tbody>\n",
       "    <tr>\n",
       "      <th>154</th>\n",
       "      <td>2022484408</td>\n",
       "      <td>11875</td>\n",
       "      <td>8.340000</td>\n",
       "      <td>2390</td>\n",
       "      <td>NaN</td>\n",
       "    </tr>\n",
       "    <tr>\n",
       "      <th>155</th>\n",
       "      <td>2022484408</td>\n",
       "      <td>12024</td>\n",
       "      <td>8.500000</td>\n",
       "      <td>2601</td>\n",
       "      <td>NaN</td>\n",
       "    </tr>\n",
       "    <tr>\n",
       "      <th>156</th>\n",
       "      <td>2022484408</td>\n",
       "      <td>10690</td>\n",
       "      <td>7.500000</td>\n",
       "      <td>2312</td>\n",
       "      <td>NaN</td>\n",
       "    </tr>\n",
       "    <tr>\n",
       "      <th>157</th>\n",
       "      <td>2022484408</td>\n",
       "      <td>11034</td>\n",
       "      <td>8.030000</td>\n",
       "      <td>2525</td>\n",
       "      <td>NaN</td>\n",
       "    </tr>\n",
       "    <tr>\n",
       "      <th>158</th>\n",
       "      <td>2022484408</td>\n",
       "      <td>10100</td>\n",
       "      <td>7.090000</td>\n",
       "      <td>2177</td>\n",
       "      <td>NaN</td>\n",
       "    </tr>\n",
       "    <tr>\n",
       "      <th>...</th>\n",
       "      <td>...</td>\n",
       "      <td>...</td>\n",
       "      <td>...</td>\n",
       "      <td>...</td>\n",
       "      <td>...</td>\n",
       "    </tr>\n",
       "    <tr>\n",
       "      <th>935</th>\n",
       "      <td>8877689391</td>\n",
       "      <td>10686</td>\n",
       "      <td>8.110000</td>\n",
       "      <td>2847</td>\n",
       "      <td>NaN</td>\n",
       "    </tr>\n",
       "    <tr>\n",
       "      <th>936</th>\n",
       "      <td>8877689391</td>\n",
       "      <td>20226</td>\n",
       "      <td>18.250000</td>\n",
       "      <td>3710</td>\n",
       "      <td>NaN</td>\n",
       "    </tr>\n",
       "    <tr>\n",
       "      <th>937</th>\n",
       "      <td>8877689391</td>\n",
       "      <td>10733</td>\n",
       "      <td>8.150000</td>\n",
       "      <td>2832</td>\n",
       "      <td>NaN</td>\n",
       "    </tr>\n",
       "    <tr>\n",
       "      <th>938</th>\n",
       "      <td>8877689391</td>\n",
       "      <td>21420</td>\n",
       "      <td>19.559999</td>\n",
       "      <td>3832</td>\n",
       "      <td>NaN</td>\n",
       "    </tr>\n",
       "    <tr>\n",
       "      <th>939</th>\n",
       "      <td>8877689391</td>\n",
       "      <td>8064</td>\n",
       "      <td>6.120000</td>\n",
       "      <td>1849</td>\n",
       "      <td>NaN</td>\n",
       "    </tr>\n",
       "  </tbody>\n",
       "</table>\n",
       "<p>405 rows × 5 columns</p>\n",
       "</div>"
      ],
      "text/plain": [
       "             Id  TotalSteps  TotalDistance  Calories  TotalMinutesAsleep\n",
       "154  2022484408       11875       8.340000      2390                 NaN\n",
       "155  2022484408       12024       8.500000      2601                 NaN\n",
       "156  2022484408       10690       7.500000      2312                 NaN\n",
       "157  2022484408       11034       8.030000      2525                 NaN\n",
       "158  2022484408       10100       7.090000      2177                 NaN\n",
       "..          ...         ...            ...       ...                 ...\n",
       "935  8877689391       10686       8.110000      2847                 NaN\n",
       "936  8877689391       20226      18.250000      3710                 NaN\n",
       "937  8877689391       10733       8.150000      2832                 NaN\n",
       "938  8877689391       21420      19.559999      3832                 NaN\n",
       "939  8877689391        8064       6.120000      1849                 NaN\n",
       "\n",
       "[405 rows x 5 columns]"
      ]
     },
     "execution_count": 83,
     "metadata": {},
     "output_type": "execute_result"
    }
   ],
   "source": [
    "user_track_HR = Data[['Id', 'TotalSteps', 'TotalDistance', 'Calories',\n",
    "       'TotalMinutesAsleep']][Data.Id.isin(list_user_track_HR)]\n",
    "user_track_HR"
   ]
  },
  {
   "cell_type": "code",
   "execution_count": 84,
   "id": "a72ca62b",
   "metadata": {
    "execution": {
     "iopub.execute_input": "2023-09-07T05:20:54.725386Z",
     "iopub.status.busy": "2023-09-07T05:20:54.724318Z",
     "iopub.status.idle": "2023-09-07T05:20:54.729199Z",
     "shell.execute_reply": "2023-09-07T05:20:54.728605Z"
    },
    "papermill": {
     "duration": 0.046177,
     "end_time": "2023-09-07T05:20:54.730858",
     "exception": false,
     "start_time": "2023-09-07T05:20:54.684681",
     "status": "completed"
    },
    "tags": []
   },
   "outputs": [],
   "source": [
    "user_track_HR.columns = ['yId', 'yTotalSteps', 'yTotalDistance', 'yCalories', 'yTotalMinutesAsleep']"
   ]
  },
  {
   "cell_type": "code",
   "execution_count": 85,
   "id": "c2893ca1",
   "metadata": {
    "execution": {
     "iopub.execute_input": "2023-09-07T05:20:54.808986Z",
     "iopub.status.busy": "2023-09-07T05:20:54.808402Z",
     "iopub.status.idle": "2023-09-07T05:20:54.825274Z",
     "shell.execute_reply": "2023-09-07T05:20:54.824002Z"
    },
    "papermill": {
     "duration": 0.058184,
     "end_time": "2023-09-07T05:20:54.827695",
     "exception": false,
     "start_time": "2023-09-07T05:20:54.769511",
     "status": "completed"
    },
    "tags": []
   },
   "outputs": [
    {
     "data": {
      "text/html": [
       "<div>\n",
       "<style scoped>\n",
       "    .dataframe tbody tr th:only-of-type {\n",
       "        vertical-align: middle;\n",
       "    }\n",
       "\n",
       "    .dataframe tbody tr th {\n",
       "        vertical-align: top;\n",
       "    }\n",
       "\n",
       "    .dataframe thead th {\n",
       "        text-align: right;\n",
       "    }\n",
       "</style>\n",
       "<table border=\"1\" class=\"dataframe\">\n",
       "  <thead>\n",
       "    <tr style=\"text-align: right;\">\n",
       "      <th></th>\n",
       "      <th>Id</th>\n",
       "      <th>TotalSteps</th>\n",
       "      <th>TotalDistance</th>\n",
       "      <th>Calories</th>\n",
       "      <th>TotalMinutesAsleep</th>\n",
       "    </tr>\n",
       "  </thead>\n",
       "  <tbody>\n",
       "    <tr>\n",
       "      <th>0</th>\n",
       "      <td>1503960366</td>\n",
       "      <td>13162</td>\n",
       "      <td>8.50</td>\n",
       "      <td>1985</td>\n",
       "      <td>327.0</td>\n",
       "    </tr>\n",
       "    <tr>\n",
       "      <th>1</th>\n",
       "      <td>1503960366</td>\n",
       "      <td>10735</td>\n",
       "      <td>6.97</td>\n",
       "      <td>1797</td>\n",
       "      <td>384.0</td>\n",
       "    </tr>\n",
       "    <tr>\n",
       "      <th>2</th>\n",
       "      <td>1503960366</td>\n",
       "      <td>10460</td>\n",
       "      <td>6.74</td>\n",
       "      <td>1776</td>\n",
       "      <td>NaN</td>\n",
       "    </tr>\n",
       "    <tr>\n",
       "      <th>3</th>\n",
       "      <td>1503960366</td>\n",
       "      <td>9762</td>\n",
       "      <td>6.28</td>\n",
       "      <td>1745</td>\n",
       "      <td>412.0</td>\n",
       "    </tr>\n",
       "    <tr>\n",
       "      <th>4</th>\n",
       "      <td>1503960366</td>\n",
       "      <td>12669</td>\n",
       "      <td>8.16</td>\n",
       "      <td>1863</td>\n",
       "      <td>340.0</td>\n",
       "    </tr>\n",
       "    <tr>\n",
       "      <th>...</th>\n",
       "      <td>...</td>\n",
       "      <td>...</td>\n",
       "      <td>...</td>\n",
       "      <td>...</td>\n",
       "      <td>...</td>\n",
       "    </tr>\n",
       "    <tr>\n",
       "      <th>875</th>\n",
       "      <td>8583815059</td>\n",
       "      <td>9217</td>\n",
       "      <td>7.19</td>\n",
       "      <td>2940</td>\n",
       "      <td>NaN</td>\n",
       "    </tr>\n",
       "    <tr>\n",
       "      <th>876</th>\n",
       "      <td>8583815059</td>\n",
       "      <td>9877</td>\n",
       "      <td>7.70</td>\n",
       "      <td>2947</td>\n",
       "      <td>NaN</td>\n",
       "    </tr>\n",
       "    <tr>\n",
       "      <th>877</th>\n",
       "      <td>8583815059</td>\n",
       "      <td>8240</td>\n",
       "      <td>6.43</td>\n",
       "      <td>2846</td>\n",
       "      <td>NaN</td>\n",
       "    </tr>\n",
       "    <tr>\n",
       "      <th>878</th>\n",
       "      <td>8583815059</td>\n",
       "      <td>8701</td>\n",
       "      <td>6.79</td>\n",
       "      <td>2804</td>\n",
       "      <td>NaN</td>\n",
       "    </tr>\n",
       "    <tr>\n",
       "      <th>879</th>\n",
       "      <td>8583815059</td>\n",
       "      <td>0</td>\n",
       "      <td>0.00</td>\n",
       "      <td>0</td>\n",
       "      <td>NaN</td>\n",
       "    </tr>\n",
       "  </tbody>\n",
       "</table>\n",
       "<p>535 rows × 5 columns</p>\n",
       "</div>"
      ],
      "text/plain": [
       "             Id  TotalSteps  TotalDistance  Calories  TotalMinutesAsleep\n",
       "0    1503960366       13162           8.50      1985               327.0\n",
       "1    1503960366       10735           6.97      1797               384.0\n",
       "2    1503960366       10460           6.74      1776                 NaN\n",
       "3    1503960366        9762           6.28      1745               412.0\n",
       "4    1503960366       12669           8.16      1863               340.0\n",
       "..          ...         ...            ...       ...                 ...\n",
       "875  8583815059        9217           7.19      2940                 NaN\n",
       "876  8583815059        9877           7.70      2947                 NaN\n",
       "877  8583815059        8240           6.43      2846                 NaN\n",
       "878  8583815059        8701           6.79      2804                 NaN\n",
       "879  8583815059           0           0.00         0                 NaN\n",
       "\n",
       "[535 rows x 5 columns]"
      ]
     },
     "execution_count": 85,
     "metadata": {},
     "output_type": "execute_result"
    }
   ],
   "source": [
    "user_not_track_HR = Data[['Id', 'TotalSteps', 'TotalDistance', 'Calories',\n",
    "       'TotalMinutesAsleep',]][~Data.Id.isin(list_user_track_HR)]\n",
    "user_not_track_HR"
   ]
  },
  {
   "cell_type": "code",
   "execution_count": 86,
   "id": "2e9dbd30",
   "metadata": {
    "execution": {
     "iopub.execute_input": "2023-09-07T05:20:54.907564Z",
     "iopub.status.busy": "2023-09-07T05:20:54.907233Z",
     "iopub.status.idle": "2023-09-07T05:20:54.912201Z",
     "shell.execute_reply": "2023-09-07T05:20:54.911005Z"
    },
    "papermill": {
     "duration": 0.046755,
     "end_time": "2023-09-07T05:20:54.913945",
     "exception": false,
     "start_time": "2023-09-07T05:20:54.867190",
     "status": "completed"
    },
    "tags": []
   },
   "outputs": [],
   "source": [
    "user_not_track_HR.columns = ['nId', 'nTotalSteps', 'nTotalDistance', 'nCalories', 'nTotalMinutesAsleep']"
   ]
  },
  {
   "cell_type": "code",
   "execution_count": 87,
   "id": "b599e2e0",
   "metadata": {
    "execution": {
     "iopub.execute_input": "2023-09-07T05:20:54.992976Z",
     "iopub.status.busy": "2023-09-07T05:20:54.992362Z",
     "iopub.status.idle": "2023-09-07T05:20:54.999243Z",
     "shell.execute_reply": "2023-09-07T05:20:54.997721Z"
    },
    "papermill": {
     "duration": 0.049017,
     "end_time": "2023-09-07T05:20:55.001726",
     "exception": false,
     "start_time": "2023-09-07T05:20:54.952709",
     "status": "completed"
    },
    "tags": []
   },
   "outputs": [
    {
     "data": {
      "text/plain": [
       "14"
      ]
     },
     "execution_count": 87,
     "metadata": {},
     "output_type": "execute_result"
    }
   ],
   "source": [
    "len(user_track_HR.yId.unique())"
   ]
  },
  {
   "cell_type": "code",
   "execution_count": 88,
   "id": "d697defe",
   "metadata": {
    "execution": {
     "iopub.execute_input": "2023-09-07T05:20:55.082358Z",
     "iopub.status.busy": "2023-09-07T05:20:55.081963Z",
     "iopub.status.idle": "2023-09-07T05:20:55.089543Z",
     "shell.execute_reply": "2023-09-07T05:20:55.088574Z"
    },
    "papermill": {
     "duration": 0.049898,
     "end_time": "2023-09-07T05:20:55.091393",
     "exception": false,
     "start_time": "2023-09-07T05:20:55.041495",
     "status": "completed"
    },
    "tags": []
   },
   "outputs": [
    {
     "data": {
      "text/plain": [
       "19"
      ]
     },
     "execution_count": 88,
     "metadata": {},
     "output_type": "execute_result"
    }
   ],
   "source": [
    "len(user_not_track_HR.nId.unique())"
   ]
  },
  {
   "cell_type": "code",
   "execution_count": 89,
   "id": "dc3d48b6",
   "metadata": {
    "execution": {
     "iopub.execute_input": "2023-09-07T05:20:55.170317Z",
     "iopub.status.busy": "2023-09-07T05:20:55.169935Z",
     "iopub.status.idle": "2023-09-07T05:20:55.374665Z",
     "shell.execute_reply": "2023-09-07T05:20:55.373259Z"
    },
    "papermill": {
     "duration": 0.246972,
     "end_time": "2023-09-07T05:20:55.376927",
     "exception": false,
     "start_time": "2023-09-07T05:20:55.129955",
     "status": "completed"
    },
    "tags": []
   },
   "outputs": [
    {
     "data": {
      "text/plain": [
       "<Axes: xlabel='Type'>"
      ]
     },
     "execution_count": 89,
     "metadata": {},
     "output_type": "execute_result"
    },
    {
     "data": {
      "image/png": "[encoded data removed]",
      "text/plain": [
       "<Figure size 640x480 with 1 Axes>"
      ]
     },
     "metadata": {},
     "output_type": "display_data"
    }
   ],
   "source": [
    "extra1 = [\n",
    "    [\"user_track_HR\", 14],\n",
    "    [\"user_not_track_HR\", 19] ]\n",
    "\n",
    "extra_chart1 = pd.DataFrame(extra1, columns=[\"Type\", \"Amount\"])\n",
    "extra_chart1.plot.bar(x = 'Type')"
   ]
  },
  {
   "cell_type": "markdown",
   "id": "943c80cd",
   "metadata": {
    "papermill": {
     "duration": 0.037886,
     "end_time": "2023-09-07T05:20:55.453709",
     "exception": false,
     "start_time": "2023-09-07T05:20:55.415823",
     "status": "completed"
    },
    "tags": []
   },
   "source": [
    "user_track_HR contains for 42% while user_not_track_HR contains for 58% of total"
   ]
  },
  {
   "cell_type": "code",
   "execution_count": 90,
   "id": "c8a0ad26",
   "metadata": {
    "execution": {
     "iopub.execute_input": "2023-09-07T05:20:55.535646Z",
     "iopub.status.busy": "2023-09-07T05:20:55.535251Z",
     "iopub.status.idle": "2023-09-07T05:20:55.542447Z",
     "shell.execute_reply": "2023-09-07T05:20:55.541734Z"
    },
    "papermill": {
     "duration": 0.051142,
     "end_time": "2023-09-07T05:20:55.544349",
     "exception": false,
     "start_time": "2023-09-07T05:20:55.493207",
     "status": "completed"
    },
    "tags": []
   },
   "outputs": [],
   "source": [
    "# Concat the dataframe of user_track_HR and user_not_track_HR for statistical visual purpose\n",
    "user_HR = pd.concat([user_track_HR, user_not_track_HR], axis = 1)"
   ]
  },
  {
   "cell_type": "code",
   "execution_count": 91,
   "id": "5653e02c",
   "metadata": {
    "execution": {
     "iopub.execute_input": "2023-09-07T05:20:55.622860Z",
     "iopub.status.busy": "2023-09-07T05:20:55.622280Z",
     "iopub.status.idle": "2023-09-07T05:20:55.644037Z",
     "shell.execute_reply": "2023-09-07T05:20:55.642651Z"
    },
    "papermill": {
     "duration": 0.065163,
     "end_time": "2023-09-07T05:20:55.646729",
     "exception": false,
     "start_time": "2023-09-07T05:20:55.581566",
     "status": "completed"
    },
    "tags": []
   },
   "outputs": [
    {
     "data": {
      "text/html": [
       "<div>\n",
       "<style scoped>\n",
       "    .dataframe tbody tr th:only-of-type {\n",
       "        vertical-align: middle;\n",
       "    }\n",
       "\n",
       "    .dataframe tbody tr th {\n",
       "        vertical-align: top;\n",
       "    }\n",
       "\n",
       "    .dataframe thead th {\n",
       "        text-align: right;\n",
       "    }\n",
       "</style>\n",
       "<table border=\"1\" class=\"dataframe\">\n",
       "  <thead>\n",
       "    <tr style=\"text-align: right;\">\n",
       "      <th></th>\n",
       "      <th>yId</th>\n",
       "      <th>yTotalSteps</th>\n",
       "      <th>yTotalDistance</th>\n",
       "      <th>yCalories</th>\n",
       "      <th>yTotalMinutesAsleep</th>\n",
       "      <th>nId</th>\n",
       "      <th>nTotalSteps</th>\n",
       "      <th>nTotalDistance</th>\n",
       "      <th>nCalories</th>\n",
       "      <th>nTotalMinutesAsleep</th>\n",
       "    </tr>\n",
       "  </thead>\n",
       "  <tbody>\n",
       "    <tr>\n",
       "      <th>154</th>\n",
       "      <td>2.022484e+09</td>\n",
       "      <td>11875.0</td>\n",
       "      <td>8.34</td>\n",
       "      <td>2390.0</td>\n",
       "      <td>NaN</td>\n",
       "      <td>NaN</td>\n",
       "      <td>NaN</td>\n",
       "      <td>NaN</td>\n",
       "      <td>NaN</td>\n",
       "      <td>NaN</td>\n",
       "    </tr>\n",
       "    <tr>\n",
       "      <th>155</th>\n",
       "      <td>2.022484e+09</td>\n",
       "      <td>12024.0</td>\n",
       "      <td>8.50</td>\n",
       "      <td>2601.0</td>\n",
       "      <td>NaN</td>\n",
       "      <td>NaN</td>\n",
       "      <td>NaN</td>\n",
       "      <td>NaN</td>\n",
       "      <td>NaN</td>\n",
       "      <td>NaN</td>\n",
       "    </tr>\n",
       "    <tr>\n",
       "      <th>156</th>\n",
       "      <td>2.022484e+09</td>\n",
       "      <td>10690.0</td>\n",
       "      <td>7.50</td>\n",
       "      <td>2312.0</td>\n",
       "      <td>NaN</td>\n",
       "      <td>NaN</td>\n",
       "      <td>NaN</td>\n",
       "      <td>NaN</td>\n",
       "      <td>NaN</td>\n",
       "      <td>NaN</td>\n",
       "    </tr>\n",
       "    <tr>\n",
       "      <th>157</th>\n",
       "      <td>2.022484e+09</td>\n",
       "      <td>11034.0</td>\n",
       "      <td>8.03</td>\n",
       "      <td>2525.0</td>\n",
       "      <td>NaN</td>\n",
       "      <td>NaN</td>\n",
       "      <td>NaN</td>\n",
       "      <td>NaN</td>\n",
       "      <td>NaN</td>\n",
       "      <td>NaN</td>\n",
       "    </tr>\n",
       "    <tr>\n",
       "      <th>158</th>\n",
       "      <td>2.022484e+09</td>\n",
       "      <td>10100.0</td>\n",
       "      <td>7.09</td>\n",
       "      <td>2177.0</td>\n",
       "      <td>NaN</td>\n",
       "      <td>NaN</td>\n",
       "      <td>NaN</td>\n",
       "      <td>NaN</td>\n",
       "      <td>NaN</td>\n",
       "      <td>NaN</td>\n",
       "    </tr>\n",
       "    <tr>\n",
       "      <th>...</th>\n",
       "      <td>...</td>\n",
       "      <td>...</td>\n",
       "      <td>...</td>\n",
       "      <td>...</td>\n",
       "      <td>...</td>\n",
       "      <td>...</td>\n",
       "      <td>...</td>\n",
       "      <td>...</td>\n",
       "      <td>...</td>\n",
       "      <td>...</td>\n",
       "    </tr>\n",
       "    <tr>\n",
       "      <th>875</th>\n",
       "      <td>NaN</td>\n",
       "      <td>NaN</td>\n",
       "      <td>NaN</td>\n",
       "      <td>NaN</td>\n",
       "      <td>NaN</td>\n",
       "      <td>8.583815e+09</td>\n",
       "      <td>9217.0</td>\n",
       "      <td>7.19</td>\n",
       "      <td>2940.0</td>\n",
       "      <td>NaN</td>\n",
       "    </tr>\n",
       "    <tr>\n",
       "      <th>876</th>\n",
       "      <td>NaN</td>\n",
       "      <td>NaN</td>\n",
       "      <td>NaN</td>\n",
       "      <td>NaN</td>\n",
       "      <td>NaN</td>\n",
       "      <td>8.583815e+09</td>\n",
       "      <td>9877.0</td>\n",
       "      <td>7.70</td>\n",
       "      <td>2947.0</td>\n",
       "      <td>NaN</td>\n",
       "    </tr>\n",
       "    <tr>\n",
       "      <th>877</th>\n",
       "      <td>NaN</td>\n",
       "      <td>NaN</td>\n",
       "      <td>NaN</td>\n",
       "      <td>NaN</td>\n",
       "      <td>NaN</td>\n",
       "      <td>8.583815e+09</td>\n",
       "      <td>8240.0</td>\n",
       "      <td>6.43</td>\n",
       "      <td>2846.0</td>\n",
       "      <td>NaN</td>\n",
       "    </tr>\n",
       "    <tr>\n",
       "      <th>878</th>\n",
       "      <td>NaN</td>\n",
       "      <td>NaN</td>\n",
       "      <td>NaN</td>\n",
       "      <td>NaN</td>\n",
       "      <td>NaN</td>\n",
       "      <td>8.583815e+09</td>\n",
       "      <td>8701.0</td>\n",
       "      <td>6.79</td>\n",
       "      <td>2804.0</td>\n",
       "      <td>NaN</td>\n",
       "    </tr>\n",
       "    <tr>\n",
       "      <th>879</th>\n",
       "      <td>NaN</td>\n",
       "      <td>NaN</td>\n",
       "      <td>NaN</td>\n",
       "      <td>NaN</td>\n",
       "      <td>NaN</td>\n",
       "      <td>8.583815e+09</td>\n",
       "      <td>0.0</td>\n",
       "      <td>0.00</td>\n",
       "      <td>0.0</td>\n",
       "      <td>NaN</td>\n",
       "    </tr>\n",
       "  </tbody>\n",
       "</table>\n",
       "<p>940 rows × 10 columns</p>\n",
       "</div>"
      ],
      "text/plain": [
       "              yId  yTotalSteps  yTotalDistance  yCalories  \\\n",
       "154  2.022484e+09      11875.0            8.34     2390.0   \n",
       "155  2.022484e+09      12024.0            8.50     2601.0   \n",
       "156  2.022484e+09      10690.0            7.50     2312.0   \n",
       "157  2.022484e+09      11034.0            8.03     2525.0   \n",
       "158  2.022484e+09      10100.0            7.09     2177.0   \n",
       "..            ...          ...             ...        ...   \n",
       "875           NaN          NaN             NaN        NaN   \n",
       "876           NaN          NaN             NaN        NaN   \n",
       "877           NaN          NaN             NaN        NaN   \n",
       "878           NaN          NaN             NaN        NaN   \n",
       "879           NaN          NaN             NaN        NaN   \n",
       "\n",
       "     yTotalMinutesAsleep           nId  nTotalSteps  nTotalDistance  \\\n",
       "154                  NaN           NaN          NaN             NaN   \n",
       "155                  NaN           NaN          NaN             NaN   \n",
       "156                  NaN           NaN          NaN             NaN   \n",
       "157                  NaN           NaN          NaN             NaN   \n",
       "158                  NaN           NaN          NaN             NaN   \n",
       "..                   ...           ...          ...             ...   \n",
       "875                  NaN  8.583815e+09       9217.0            7.19   \n",
       "876                  NaN  8.583815e+09       9877.0            7.70   \n",
       "877                  NaN  8.583815e+09       8240.0            6.43   \n",
       "878                  NaN  8.583815e+09       8701.0            6.79   \n",
       "879                  NaN  8.583815e+09          0.0            0.00   \n",
       "\n",
       "     nCalories  nTotalMinutesAsleep  \n",
       "154        NaN                  NaN  \n",
       "155        NaN                  NaN  \n",
       "156        NaN                  NaN  \n",
       "157        NaN                  NaN  \n",
       "158        NaN                  NaN  \n",
       "..         ...                  ...  \n",
       "875     2940.0                  NaN  \n",
       "876     2947.0                  NaN  \n",
       "877     2846.0                  NaN  \n",
       "878     2804.0                  NaN  \n",
       "879        0.0                  NaN  \n",
       "\n",
       "[940 rows x 10 columns]"
      ]
     },
     "execution_count": 91,
     "metadata": {},
     "output_type": "execute_result"
    }
   ],
   "source": [
    "user_HR "
   ]
  },
  {
   "cell_type": "code",
   "execution_count": 92,
   "id": "edca3a73",
   "metadata": {
    "execution": {
     "iopub.execute_input": "2023-09-07T05:20:55.742643Z",
     "iopub.status.busy": "2023-09-07T05:20:55.741971Z",
     "iopub.status.idle": "2023-09-07T05:20:56.073496Z",
     "shell.execute_reply": "2023-09-07T05:20:56.072358Z"
    },
    "papermill": {
     "duration": 0.385946,
     "end_time": "2023-09-07T05:20:56.075855",
     "exception": false,
     "start_time": "2023-09-07T05:20:55.689909",
     "status": "completed"
    },
    "tags": []
   },
   "outputs": [
    {
     "data": {
      "text/plain": [
       "<Axes: >"
      ]
     },
     "execution_count": 92,
     "metadata": {},
     "output_type": "execute_result"
    },
    {
     "data": {
      "image/png": "[encoded data removed]",
      "text/plain": [
       "<Figure size 640x480 with 1 Axes>"
      ]
     },
     "metadata": {},
     "output_type": "display_data"
    }
   ],
   "source": [
    "user_HR[['yTotalSteps', 'nTotalSteps']].plot.box()"
   ]
  },
  {
   "cell_type": "code",
   "execution_count": 93,
   "id": "38177e20",
   "metadata": {
    "execution": {
     "iopub.execute_input": "2023-09-07T05:20:56.156898Z",
     "iopub.status.busy": "2023-09-07T05:20:56.156480Z",
     "iopub.status.idle": "2023-09-07T05:20:56.316077Z",
     "shell.execute_reply": "2023-09-07T05:20:56.315306Z"
    },
    "papermill": {
     "duration": 0.202277,
     "end_time": "2023-09-07T05:20:56.318016",
     "exception": false,
     "start_time": "2023-09-07T05:20:56.115739",
     "status": "completed"
    },
    "tags": []
   },
   "outputs": [
    {
     "data": {
      "text/plain": [
       "<Axes: >"
      ]
     },
     "execution_count": 93,
     "metadata": {},
     "output_type": "execute_result"
    },
    {
     "data": {
      "image/png": "[encoded data removed]",
      "text/plain": [
       "<Figure size 640x480 with 1 Axes>"
      ]
     },
     "metadata": {},
     "output_type": "display_data"
    }
   ],
   "source": [
    "user_HR[['yTotalDistance', 'nTotalDistance']].plot.box()"
   ]
  },
  {
   "cell_type": "code",
   "execution_count": 94,
   "id": "ad1fd851",
   "metadata": {
    "execution": {
     "iopub.execute_input": "2023-09-07T05:20:56.401381Z",
     "iopub.status.busy": "2023-09-07T05:20:56.400769Z",
     "iopub.status.idle": "2023-09-07T05:20:56.566217Z",
     "shell.execute_reply": "2023-09-07T05:20:56.565106Z"
    },
    "papermill": {
     "duration": 0.211347,
     "end_time": "2023-09-07T05:20:56.568911",
     "exception": false,
     "start_time": "2023-09-07T05:20:56.357564",
     "status": "completed"
    },
    "tags": []
   },
   "outputs": [
    {
     "data": {
      "text/plain": [
       "<Axes: >"
      ]
     },
     "execution_count": 94,
     "metadata": {},
     "output_type": "execute_result"
    },
    {
     "data": {
      "image/png": "[encoded data removed]",
      "text/plain": [
       "<Figure size 640x480 with 1 Axes>"
      ]
     },
     "metadata": {},
     "output_type": "display_data"
    }
   ],
   "source": [
    "user_HR[['yCalories', 'nCalories']].plot.box()"
   ]
  },
  {
   "cell_type": "code",
   "execution_count": 95,
   "id": "1f330d96",
   "metadata": {
    "execution": {
     "iopub.execute_input": "2023-09-07T05:20:56.649290Z",
     "iopub.status.busy": "2023-09-07T05:20:56.648948Z",
     "iopub.status.idle": "2023-09-07T05:20:56.828024Z",
     "shell.execute_reply": "2023-09-07T05:20:56.826929Z"
    },
    "papermill": {
     "duration": 0.221682,
     "end_time": "2023-09-07T05:20:56.830157",
     "exception": false,
     "start_time": "2023-09-07T05:20:56.608475",
     "status": "completed"
    },
    "tags": []
   },
   "outputs": [
    {
     "data": {
      "text/plain": [
       "<Axes: >"
      ]
     },
     "execution_count": 95,
     "metadata": {},
     "output_type": "execute_result"
    },
    {
     "data": {
      "image/png": "[encoded data removed]",
      "text/plain": [
       "<Figure size 640x480 with 1 Axes>"
      ]
     },
     "metadata": {},
     "output_type": "display_data"
    }
   ],
   "source": [
    "user_HR[['yTotalMinutesAsleep', 'nTotalMinutesAsleep']].plot.box()"
   ]
  },
  {
   "cell_type": "markdown",
   "id": "3e920bcf",
   "metadata": {
    "papermill": {
     "duration": 0.042282,
     "end_time": "2023-09-07T05:20:56.912976",
     "exception": false,
     "start_time": "2023-09-07T05:20:56.870694",
     "status": "completed"
    },
    "tags": []
   },
   "source": [
    "The difference between user_track_HR and user_not_track_HR is not significant is most factors"
   ]
  },
  {
   "cell_type": "markdown",
   "id": "2ada2745",
   "metadata": {
    "papermill": {
     "duration": 0.040374,
     "end_time": "2023-09-07T05:20:56.994376",
     "exception": false,
     "start_time": "2023-09-07T05:20:56.954002",
     "status": "completed"
    },
    "tags": []
   },
   "source": [
    "### 5. Dive Deep Into Sleeping Behaviour"
   ]
  },
  {
   "cell_type": "markdown",
   "id": "57b7f0de",
   "metadata": {
    "execution": {
     "iopub.execute_input": "2023-09-06T15:45:48.854155Z",
     "iopub.status.busy": "2023-09-06T15:45:48.853610Z",
     "iopub.status.idle": "2023-09-06T15:45:48.860829Z",
     "shell.execute_reply": "2023-09-06T15:45:48.859160Z",
     "shell.execute_reply.started": "2023-09-06T15:45:48.854115Z"
    },
    "papermill": {
     "duration": 0.039473,
     "end_time": "2023-09-07T05:20:57.073473",
     "exception": false,
     "start_time": "2023-09-07T05:20:57.034000",
     "status": "completed"
    },
    "tags": []
   },
   "source": [
    "#### 5.1 Relation between sleeping information fields"
   ]
  },
  {
   "cell_type": "markdown",
   "id": "77fa59a9",
   "metadata": {
    "papermill": {
     "duration": 0.039857,
     "end_time": "2023-09-07T05:20:57.153485",
     "exception": false,
     "start_time": "2023-09-07T05:20:57.113628",
     "status": "completed"
    },
    "tags": []
   },
   "source": [
    "This session aims to analyze the correlation of factor in sleeping information fields"
   ]
  },
  {
   "cell_type": "code",
   "execution_count": 96,
   "id": "6355dcc4",
   "metadata": {
    "execution": {
     "iopub.execute_input": "2023-09-07T05:20:57.235445Z",
     "iopub.status.busy": "2023-09-07T05:20:57.235091Z",
     "iopub.status.idle": "2023-09-07T05:20:57.243001Z",
     "shell.execute_reply": "2023-09-07T05:20:57.241854Z"
    },
    "papermill": {
     "duration": 0.050809,
     "end_time": "2023-09-07T05:20:57.244878",
     "exception": false,
     "start_time": "2023-09-07T05:20:57.194069",
     "status": "completed"
    },
    "tags": []
   },
   "outputs": [],
   "source": [
    "sleep_relation = Data[['ActivityDate', 'TotalSleepRecords', 'TotalMinutesAsleep', 'TotalTimeInBed']]"
   ]
  },
  {
   "cell_type": "code",
   "execution_count": 97,
   "id": "81738450",
   "metadata": {
    "execution": {
     "iopub.execute_input": "2023-09-07T05:20:57.328416Z",
     "iopub.status.busy": "2023-09-07T05:20:57.328076Z",
     "iopub.status.idle": "2023-09-07T05:20:57.444224Z",
     "shell.execute_reply": "2023-09-07T05:20:57.442668Z"
    },
    "papermill": {
     "duration": 0.159409,
     "end_time": "2023-09-07T05:20:57.446340",
     "exception": false,
     "start_time": "2023-09-07T05:20:57.286931",
     "status": "completed"
    },
    "tags": []
   },
   "outputs": [
    {
     "data": {
      "image/png": "[encoded data removed]",
      "text/plain": [
       "<Figure size 640x480 with 1 Axes>"
      ]
     },
     "metadata": {},
     "output_type": "display_data"
    }
   ],
   "source": [
    "# Make a pie chart to visualize the percentage of each element in TotalSleepRecords column\n",
    "sleep_relation['TotalSleepRecords'].value_counts().plot.pie(autopct='%1.1f%%');"
   ]
  },
  {
   "cell_type": "markdown",
   "id": "a9980cf5",
   "metadata": {
    "papermill": {
     "duration": 0.046401,
     "end_time": "2023-09-07T05:20:57.544865",
     "exception": false,
     "start_time": "2023-09-07T05:20:57.498464",
     "status": "completed"
    },
    "tags": []
   },
   "source": [
    "Users who have 1 sleep record per day contains for 88.8%, users who have 2 sleep records per day contains for 10.5% of total, the number of users with 3 sleep records per day is not considerable.\n",
    "\n",
    "This could mean that most users don't take nap at day"
   ]
  },
  {
   "cell_type": "code",
   "execution_count": 98,
   "id": "227dd0a8",
   "metadata": {
    "execution": {
     "iopub.execute_input": "2023-09-07T05:20:57.624918Z",
     "iopub.status.busy": "2023-09-07T05:20:57.624607Z",
     "iopub.status.idle": "2023-09-07T05:20:57.834270Z",
     "shell.execute_reply": "2023-09-07T05:20:57.832707Z"
    },
    "papermill": {
     "duration": 0.25206,
     "end_time": "2023-09-07T05:20:57.836399",
     "exception": false,
     "start_time": "2023-09-07T05:20:57.584339",
     "status": "completed"
    },
    "tags": []
   },
   "outputs": [
    {
     "data": {
      "image/png": "[encoded data removed]",
      "text/plain": [
       "<Figure size 640x480 with 1 Axes>"
      ]
     },
     "metadata": {},
     "output_type": "display_data"
    }
   ],
   "source": [
    "# Making a bar chart to visualize the correlation of sleeping fields information\n",
    "sleep_relation.groupby('TotalSleepRecords')[['TotalMinutesAsleep', 'TotalTimeInBed']].mean().plot.bar();"
   ]
  },
  {
   "cell_type": "markdown",
   "id": "479d26e5",
   "metadata": {
    "papermill": {
     "duration": 0.040795,
     "end_time": "2023-09-07T05:20:57.918169",
     "exception": false,
     "start_time": "2023-09-07T05:20:57.877374",
     "status": "completed"
    },
    "tags": []
   },
   "source": [
    "As seen from the chart, the more sleeep records users have, the longer time they spend on bed and they sleep are. Users spend at least around 7 hour per day for sleeping."
   ]
  },
  {
   "cell_type": "markdown",
   "id": "235d6996",
   "metadata": {
    "papermill": {
     "duration": 0.040065,
     "end_time": "2023-09-07T05:20:57.998750",
     "exception": false,
     "start_time": "2023-09-07T05:20:57.958685",
     "status": "completed"
    },
    "tags": []
   },
   "source": [
    "#### 5.2 Users who don't track their sleep"
   ]
  },
  {
   "cell_type": "markdown",
   "id": "ca74a1f3",
   "metadata": {
    "papermill": {
     "duration": 0.038983,
     "end_time": "2023-09-07T05:20:58.077700",
     "exception": false,
     "start_time": "2023-09-07T05:20:58.038717",
     "status": "completed"
    },
    "tags": []
   },
   "source": [
    "This session aims to find the diffence between factors based on users behaviour of whether they track or share their sleep or not"
   ]
  },
  {
   "cell_type": "code",
   "execution_count": 99,
   "id": "b4e9cbaf",
   "metadata": {
    "execution": {
     "iopub.execute_input": "2023-09-07T05:20:58.158892Z",
     "iopub.status.busy": "2023-09-07T05:20:58.158524Z",
     "iopub.status.idle": "2023-09-07T05:20:58.164524Z",
     "shell.execute_reply": "2023-09-07T05:20:58.163372Z"
    },
    "papermill": {
     "duration": 0.048961,
     "end_time": "2023-09-07T05:20:58.166483",
     "exception": false,
     "start_time": "2023-09-07T05:20:58.117522",
     "status": "completed"
    },
    "tags": []
   },
   "outputs": [],
   "source": [
    "list_user_track_sleep = Data.Id[~Data.TotalMinutesAsleep.isnull()]"
   ]
  },
  {
   "cell_type": "code",
   "execution_count": 100,
   "id": "6841ce1e",
   "metadata": {
    "execution": {
     "iopub.execute_input": "2023-09-07T05:20:58.250603Z",
     "iopub.status.busy": "2023-09-07T05:20:58.250229Z",
     "iopub.status.idle": "2023-09-07T05:20:58.258338Z",
     "shell.execute_reply": "2023-09-07T05:20:58.256837Z"
    },
    "papermill": {
     "duration": 0.053763,
     "end_time": "2023-09-07T05:20:58.260439",
     "exception": false,
     "start_time": "2023-09-07T05:20:58.206676",
     "status": "completed"
    },
    "tags": []
   },
   "outputs": [],
   "source": [
    "user_track_sleep = Data[['Id', 'TotalSteps', 'TotalDistance', 'Calories',\n",
    "       'HeartRate']][Data.Id.isin(list_user_track_sleep)]"
   ]
  },
  {
   "cell_type": "code",
   "execution_count": 101,
   "id": "59386da5",
   "metadata": {
    "execution": {
     "iopub.execute_input": "2023-09-07T05:20:58.345063Z",
     "iopub.status.busy": "2023-09-07T05:20:58.344715Z",
     "iopub.status.idle": "2023-09-07T05:20:58.351448Z",
     "shell.execute_reply": "2023-09-07T05:20:58.350017Z"
    },
    "papermill": {
     "duration": 0.051855,
     "end_time": "2023-09-07T05:20:58.354107",
     "exception": false,
     "start_time": "2023-09-07T05:20:58.302252",
     "status": "completed"
    },
    "tags": []
   },
   "outputs": [],
   "source": [
    "user_track_sleep.columns = [['yId', 'yTotalSteps', 'yTotalDistance', 'yCalories', 'yHeartRate']]"
   ]
  },
  {
   "cell_type": "code",
   "execution_count": 102,
   "id": "953b7a24",
   "metadata": {
    "execution": {
     "iopub.execute_input": "2023-09-07T05:20:58.438278Z",
     "iopub.status.busy": "2023-09-07T05:20:58.437880Z",
     "iopub.status.idle": "2023-09-07T05:20:58.446928Z",
     "shell.execute_reply": "2023-09-07T05:20:58.445364Z"
    },
    "papermill": {
     "duration": 0.053738,
     "end_time": "2023-09-07T05:20:58.449369",
     "exception": false,
     "start_time": "2023-09-07T05:20:58.395631",
     "status": "completed"
    },
    "tags": []
   },
   "outputs": [],
   "source": [
    "user_not_track_sleep = Data[['Id', 'TotalSteps', 'TotalDistance', 'Calories',\n",
    "       'HeartRate']][~Data.Id.isin(list_user_track_sleep)]"
   ]
  },
  {
   "cell_type": "code",
   "execution_count": 103,
   "id": "16a0f6b6",
   "metadata": {
    "execution": {
     "iopub.execute_input": "2023-09-07T05:20:58.534047Z",
     "iopub.status.busy": "2023-09-07T05:20:58.533047Z",
     "iopub.status.idle": "2023-09-07T05:20:58.539096Z",
     "shell.execute_reply": "2023-09-07T05:20:58.537842Z"
    },
    "papermill": {
     "duration": 0.049515,
     "end_time": "2023-09-07T05:20:58.541069",
     "exception": false,
     "start_time": "2023-09-07T05:20:58.491554",
     "status": "completed"
    },
    "tags": []
   },
   "outputs": [],
   "source": [
    "user_not_track_sleep.columns = [['nId', 'nTotalSteps', 'nTotalDistance', 'nCalories', 'nHeartRate']]"
   ]
  },
  {
   "cell_type": "code",
   "execution_count": 104,
   "id": "346566f8",
   "metadata": {
    "execution": {
     "iopub.execute_input": "2023-09-07T05:20:58.624072Z",
     "iopub.status.busy": "2023-09-07T05:20:58.623718Z",
     "iopub.status.idle": "2023-09-07T05:20:58.633723Z",
     "shell.execute_reply": "2023-09-07T05:20:58.632887Z"
    },
    "papermill": {
     "duration": 0.054302,
     "end_time": "2023-09-07T05:20:58.636011",
     "exception": false,
     "start_time": "2023-09-07T05:20:58.581709",
     "status": "completed"
    },
    "tags": []
   },
   "outputs": [
    {
     "data": {
      "text/plain": [
       "yId    24\n",
       "dtype: int64"
      ]
     },
     "execution_count": 104,
     "metadata": {},
     "output_type": "execute_result"
    }
   ],
   "source": [
    "user_track_sleep.yId.nunique()"
   ]
  },
  {
   "cell_type": "code",
   "execution_count": 105,
   "id": "a3b17a70",
   "metadata": {
    "execution": {
     "iopub.execute_input": "2023-09-07T05:20:58.719564Z",
     "iopub.status.busy": "2023-09-07T05:20:58.719222Z",
     "iopub.status.idle": "2023-09-07T05:20:58.731908Z",
     "shell.execute_reply": "2023-09-07T05:20:58.730837Z"
    },
    "papermill": {
     "duration": 0.056952,
     "end_time": "2023-09-07T05:20:58.733642",
     "exception": false,
     "start_time": "2023-09-07T05:20:58.676690",
     "status": "completed"
    },
    "tags": []
   },
   "outputs": [
    {
     "data": {
      "text/plain": [
       "nId    9\n",
       "dtype: int64"
      ]
     },
     "execution_count": 105,
     "metadata": {},
     "output_type": "execute_result"
    }
   ],
   "source": [
    "user_not_track_sleep.nId.nunique()"
   ]
  },
  {
   "cell_type": "code",
   "execution_count": 106,
   "id": "1534a5f3",
   "metadata": {
    "execution": {
     "iopub.execute_input": "2023-09-07T05:20:58.815299Z",
     "iopub.status.busy": "2023-09-07T05:20:58.814890Z",
     "iopub.status.idle": "2023-09-07T05:20:59.003784Z",
     "shell.execute_reply": "2023-09-07T05:20:59.002651Z"
    },
    "papermill": {
     "duration": 0.232538,
     "end_time": "2023-09-07T05:20:59.005932",
     "exception": false,
     "start_time": "2023-09-07T05:20:58.773394",
     "status": "completed"
    },
    "tags": []
   },
   "outputs": [
    {
     "data": {
      "text/plain": [
       "<Axes: xlabel='Type'>"
      ]
     },
     "execution_count": 106,
     "metadata": {},
     "output_type": "execute_result"
    },
    {
     "data": {
      "image/png": "[encoded data removed]",
      "text/plain": [
       "<Figure size 640x480 with 1 Axes>"
      ]
     },
     "metadata": {},
     "output_type": "display_data"
    }
   ],
   "source": [
    "extra2 = [\n",
    "    [\"user_track_sleep\", 24],\n",
    "    [\"user_not_track_sleep\", 9] ]\n",
    "\n",
    "extra_chart2 = pd.DataFrame(extra2, columns=[\"Type\", \"Amount\"])\n",
    "extra_chart2.plot.bar(x = 'Type')"
   ]
  },
  {
   "cell_type": "markdown",
   "id": "eaa40705",
   "metadata": {
    "papermill": {
     "duration": 0.040901,
     "end_time": "2023-09-07T05:20:59.088371",
     "exception": false,
     "start_time": "2023-09-07T05:20:59.047470",
     "status": "completed"
    },
    "tags": []
   },
   "source": [
    "user_track_sleep contains for 73% while user_track_sleep contains for only 27% of total"
   ]
  },
  {
   "cell_type": "code",
   "execution_count": 107,
   "id": "61772d1a",
   "metadata": {
    "execution": {
     "iopub.execute_input": "2023-09-07T05:20:59.172974Z",
     "iopub.status.busy": "2023-09-07T05:20:59.172620Z",
     "iopub.status.idle": "2023-09-07T05:20:59.179915Z",
     "shell.execute_reply": "2023-09-07T05:20:59.178443Z"
    },
    "papermill": {
     "duration": 0.052212,
     "end_time": "2023-09-07T05:20:59.182293",
     "exception": false,
     "start_time": "2023-09-07T05:20:59.130081",
     "status": "completed"
    },
    "tags": []
   },
   "outputs": [],
   "source": [
    "# Concat the 2 dataframe user_track_sleep and user_not_track_sleep for statistical visual purpose\n",
    "user_sleep = pd.concat([user_track_sleep, user_not_track_sleep], axis = 1)"
   ]
  },
  {
   "cell_type": "code",
   "execution_count": 108,
   "id": "8bc330be",
   "metadata": {
    "execution": {
     "iopub.execute_input": "2023-09-07T05:20:59.268198Z",
     "iopub.status.busy": "2023-09-07T05:20:59.267842Z",
     "iopub.status.idle": "2023-09-07T05:20:59.440216Z",
     "shell.execute_reply": "2023-09-07T05:20:59.438842Z"
    },
    "papermill": {
     "duration": 0.217567,
     "end_time": "2023-09-07T05:20:59.442253",
     "exception": false,
     "start_time": "2023-09-07T05:20:59.224686",
     "status": "completed"
    },
    "tags": []
   },
   "outputs": [
    {
     "data": {
      "image/png": "[encoded data removed]",
      "text/plain": [
       "<Figure size 640x480 with 1 Axes>"
      ]
     },
     "metadata": {},
     "output_type": "display_data"
    }
   ],
   "source": [
    "user_sleep[['yTotalSteps', 'nTotalSteps']].plot.box();"
   ]
  },
  {
   "cell_type": "code",
   "execution_count": 109,
   "id": "fde18faa",
   "metadata": {
    "execution": {
     "iopub.execute_input": "2023-09-07T05:20:59.529200Z",
     "iopub.status.busy": "2023-09-07T05:20:59.528850Z",
     "iopub.status.idle": "2023-09-07T05:20:59.697873Z",
     "shell.execute_reply": "2023-09-07T05:20:59.697056Z"
    },
    "papermill": {
     "duration": 0.215065,
     "end_time": "2023-09-07T05:20:59.699671",
     "exception": false,
     "start_time": "2023-09-07T05:20:59.484606",
     "status": "completed"
    },
    "tags": []
   },
   "outputs": [
    {
     "data": {
      "image/png": "[encoded data removed]",
      "text/plain": [
       "<Figure size 640x480 with 1 Axes>"
      ]
     },
     "metadata": {},
     "output_type": "display_data"
    }
   ],
   "source": [
    "user_sleep[['yTotalDistance', 'nTotalDistance']].plot.box();"
   ]
  },
  {
   "cell_type": "code",
   "execution_count": 110,
   "id": "7820a0f7",
   "metadata": {
    "execution": {
     "iopub.execute_input": "2023-09-07T05:20:59.790219Z",
     "iopub.status.busy": "2023-09-07T05:20:59.789829Z",
     "iopub.status.idle": "2023-09-07T05:20:59.953915Z",
     "shell.execute_reply": "2023-09-07T05:20:59.952744Z"
    },
    "papermill": {
     "duration": 0.211462,
     "end_time": "2023-09-07T05:20:59.956030",
     "exception": false,
     "start_time": "2023-09-07T05:20:59.744568",
     "status": "completed"
    },
    "tags": []
   },
   "outputs": [
    {
     "data": {
      "image/png": "[encoded data removed]",
      "text/plain": [
       "<Figure size 640x480 with 1 Axes>"
      ]
     },
     "metadata": {},
     "output_type": "display_data"
    }
   ],
   "source": [
    "user_sleep[['yCalories', 'nCalories']].plot.box();"
   ]
  },
  {
   "cell_type": "code",
   "execution_count": 111,
   "id": "eda71005",
   "metadata": {
    "execution": {
     "iopub.execute_input": "2023-09-07T05:21:00.044248Z",
     "iopub.status.busy": "2023-09-07T05:21:00.043683Z",
     "iopub.status.idle": "2023-09-07T05:21:00.195819Z",
     "shell.execute_reply": "2023-09-07T05:21:00.194466Z"
    },
    "papermill": {
     "duration": 0.19907,
     "end_time": "2023-09-07T05:21:00.198309",
     "exception": false,
     "start_time": "2023-09-07T05:20:59.999239",
     "status": "completed"
    },
    "tags": []
   },
   "outputs": [
    {
     "data": {
      "image/png": "[encoded data removed]",
      "text/plain": [
       "<Figure size 640x480 with 1 Axes>"
      ]
     },
     "metadata": {},
     "output_type": "display_data"
    }
   ],
   "source": [
    "user_sleep[['yHeartRate', 'nHeartRate']].plot.box();"
   ]
  },
  {
   "cell_type": "markdown",
   "id": "3451209c",
   "metadata": {
    "papermill": {
     "duration": 0.043196,
     "end_time": "2023-09-07T05:21:00.286197",
     "exception": false,
     "start_time": "2023-09-07T05:21:00.243001",
     "status": "completed"
    },
    "tags": []
   },
   "source": [
    "The difference between user_track_sleep and user_not_track_sleep is not significant is most factors"
   ]
  },
  {
   "cell_type": "markdown",
   "id": "33ff96ec",
   "metadata": {
    "execution": {
     "iopub.execute_input": "2023-09-07T03:57:19.392596Z",
     "iopub.status.busy": "2023-09-07T03:57:19.392181Z",
     "iopub.status.idle": "2023-09-07T03:57:19.400020Z",
     "shell.execute_reply": "2023-09-07T03:57:19.398117Z",
     "shell.execute_reply.started": "2023-09-07T03:57:19.392566Z"
    },
    "papermill": {
     "duration": 0.042657,
     "end_time": "2023-09-07T05:21:00.371113",
     "exception": false,
     "start_time": "2023-09-07T05:21:00.328456",
     "status": "completed"
    },
    "tags": []
   },
   "source": [
    "# ACT"
   ]
  },
  {
   "cell_type": "markdown",
   "id": "f0c2571f",
   "metadata": {
    "papermill": {
     "duration": 0.042566,
     "end_time": "2023-09-07T05:21:00.456497",
     "exception": false,
     "start_time": "2023-09-07T05:21:00.413931",
     "status": "completed"
    },
    "tags": []
   },
   "source": [
    "### KEY FINDINGS:\n",
    "- There is a strong correlation between walking steps and distance, an intermediate correlation between walking steps and calories burnt per day.\n",
    "- User who has the average of more than 10000 walking steps per day only contains for 21% of the total user, 79% are those who has the average of less than 10000 steps per day. The gap of average steps between these 2 types of user is 6000.\n",
    "- User who has the average of more than 10000 walking steps per day sleep have a tendancy to sleep shorter than those with average less than 10000 steps per day, the gap is around 100 minutes per night.\n",
    "- Users tend to walk more on Tuesday and Saturday and sleep longer on Sunday.\n",
    "- The average heart rate on Fri night does not drop under 70 until 3am of the next Sat\n",
    "- The percentage of user who recorded and shared the heart rate is 42%, user who recorded and shared sleep is 73%\n",
    "- User averagely sleep around at least 7 hours per night, only around 10% sleep more than twice per day\n",
    "\n",
    "### RECOMMENDATION:\n",
    "- Bellabeat could target to customers who want to lose weight and encourage them to walk more though notification, challenges and rewards on the app\n",
    "- Doing more research to segment users and design different models for each types. For example users who has the avarage walking steps of more than 10000 per day should be encouraged to walk more while users who has the avarage walking steps of less than 10000 should be encouraged to sleep more.\n",
    "- Investigating on why users having the avarage walking steps of more than 10000 per day sleep less. Is that because they are tired and could not sleep easily or they are busy and don't spend much time on sleep or any other reason? Insights from this finding could lead to solution to maintain this types of user by enhance their experience with Bellabeat.\n",
    "- Investigating on why users' heart rate tend to be higher than under 70 on Friday night. If possible, sending notifications to remind users to sleep on time on Friday night.\n",
    "- Investigating on why users' steps on Tuesday and Sunday are high.\n",
    "- Investigating on users don't track or share their information about the heart rate. Is it because they don't know know to track it, how to share it or they don't want to share it. Following up with solutions like delivering clear instruction on the app and doing survey to know more about users' insight on this.\n",
    "- Investigate on users don't track or share their information about their sleeping. Is it because they don't know know to track it, how to share it, they don't want to share it or they are not comfortable to wear the device when sleeping. Following up with solutions like for the heart rate.\n",
    "- Doing a survey on whether napping make users feel healthier. If yes, encouraging people to take nap.\n",
    "- The encouragement on users could include push notifications, in-app blogs, challenges, compliment for achievement, etc with data-driven wording. These methods should be measure to to find out the effective ones"
   ]
  },
  {
   "cell_type": "markdown",
   "id": "12b18ccc",
   "metadata": {
    "papermill": {
     "duration": 0.042727,
     "end_time": "2023-09-07T05:21:00.542749",
     "exception": false,
     "start_time": "2023-09-07T05:21:00.500022",
     "status": "completed"
    },
    "tags": []
   },
   "source": [
    " **As this is my first project on Kaggle, it could have mistakes that I could not figure out myself, please comment and share your thought if you have any.Thank you for reading!**"
   ]
  },
  {
   "cell_type": "code",
   "execution_count": null,
   "id": "6df99c1d",
   "metadata": {
    "papermill": {
     "duration": 0.042759,
     "end_time": "2023-09-07T05:21:00.628214",
     "exception": false,
     "start_time": "2023-09-07T05:21:00.585455",
     "status": "completed"
    },
    "tags": []
   },
   "outputs": [],
   "source": []
  }
 ],
 "kernelspec": {
  "display_name": "Python 3",
  "language": "python",
  "name": "python3"
 },
 "language_info": {
  "codemirror_mode": {
   "name": "ipython",
   "version": 3
  },
  "file_extension": ".py",
  "mimetype": "text/x-python",
  "name": "python",
  "nbconvert_exporter": "python",
  "pygments_lexer": "ipython3",
  "version": "3.6.4"
 },
 "metadata": {
  "kernelspec": {
   "display_name": "Python 3",
   "language": "python",
   "name": "python3"
  },
  "language_info": {
   "codemirror_mode": {
    "name": "ipython",
    "version": 3
   },
   "file_extension": ".py",
   "mimetype": "text/x-python",
   "name": "python",
   "nbconvert_exporter": "python",
   "pygments_lexer": "ipython3",
   "version": "3.10.12"
  },
  "papermill": {
   "default_parameters": {},
   "duration": 293.739905,
   "end_time": "2023-09-07T05:21:01.692612",
   "environment_variables": {},
   "exception": null,
   "input_path": "__notebook__.ipynb",
   "output_path": "__notebook__.ipynb",
   "parameters": {},
   "start_time": "2023-09-07T05:16:07.952707",
   "version": "2.4.0"
  }
 },
 "nbformat": 4,
 "nbformat_minor": 5
}
